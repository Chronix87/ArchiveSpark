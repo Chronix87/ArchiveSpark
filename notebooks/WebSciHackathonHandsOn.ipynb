{
 "cells": [
  {
   "cell_type": "code",
   "execution_count": 1,
   "metadata": {
    "collapsed": true
   },
   "outputs": [],
   "source": [
    "def strToInt(str: String): Int = {\n",
    "    Seq(\"zero\", \"one\", \"two\", \"three\", \"four\", \"five\", \"six\", \"seven\", \"eight\", \"nine\").indexOf(str)\n",
    "}"
   ]
  },
  {
   "cell_type": "code",
   "execution_count": 2,
   "metadata": {
    "collapsed": false
   },
   "outputs": [
    {
     "data": {
      "text/plain": [
       "4"
      ]
     },
     "execution_count": 2,
     "metadata": {},
     "output_type": "execute_result"
    }
   ],
   "source": [
    "strToInt(\"four\")"
   ]
  },
  {
   "cell_type": "code",
   "execution_count": 3,
   "metadata": {
    "collapsed": false
   },
   "outputs": [
    {
     "data": {
      "text/plain": [
       "List(1, 2, 3)"
      ]
     },
     "execution_count": 3,
     "metadata": {},
     "output_type": "execute_result"
    }
   ],
   "source": [
    "Seq(\"one\", \"two\", \"three\").map(strToInt)"
   ]
  },
  {
   "cell_type": "code",
   "execution_count": 4,
   "metadata": {
    "collapsed": false
   },
   "outputs": [
    {
     "data": {
      "text/plain": [
       "List(11, 12, 13)"
      ]
     },
     "execution_count": 4,
     "metadata": {},
     "output_type": "execute_result"
    }
   ],
   "source": [
    "Seq(\"one\", \"two\", \"three\").map(str => strToInt(str) + 10)"
   ]
  },
  {
   "cell_type": "markdown",
   "metadata": {},
   "source": [
    "# Apache Spark\n",
    "### See the [programming guide](http://spark.apache.org/docs/latest/programming-guide.html)"
   ]
  },
  {
   "cell_type": "code",
   "execution_count": 5,
   "metadata": {
    "collapsed": true
   },
   "outputs": [],
   "source": [
    "val numbers = sc.textFile(\"numbers.txt\") // a file with a number string on each line"
   ]
  },
  {
   "cell_type": "code",
   "execution_count": 6,
   "metadata": {
    "collapsed": false
   },
   "outputs": [
    {
     "data": {
      "text/plain": [
       "two"
      ]
     },
     "execution_count": 6,
     "metadata": {},
     "output_type": "execute_result"
    }
   ],
   "source": [
    "numbers.take(1).head"
   ]
  },
  {
   "cell_type": "code",
   "execution_count": 7,
   "metadata": {
    "collapsed": false
   },
   "outputs": [
    {
     "name": "stdout",
     "output_type": "stream",
     "text": [
      "two\n",
      "seven\n",
      "one\n",
      "five\n"
     ]
    }
   ],
   "source": [
    "numbers.collect.foreach(println)"
   ]
  },
  {
   "cell_type": "code",
   "execution_count": 8,
   "metadata": {
    "collapsed": false
   },
   "outputs": [
    {
     "name": "stdout",
     "output_type": "stream",
     "text": [
      "2\n",
      "7\n",
      "1\n",
      "5\n"
     ]
    }
   ],
   "source": [
    "numbers.map(strToInt).collect.foreach(println)"
   ]
  },
  {
   "cell_type": "code",
   "execution_count": 9,
   "metadata": {
    "collapsed": false
   },
   "outputs": [
    {
     "data": {
      "text/plain": [
       "15"
      ]
     },
     "execution_count": 9,
     "metadata": {},
     "output_type": "execute_result"
    }
   ],
   "source": [
    "numbers.map(strToInt).reduce(_ + _)"
   ]
  },
  {
   "cell_type": "code",
   "execution_count": 10,
   "metadata": {
    "collapsed": false
   },
   "outputs": [
    {
     "data": {
      "text/plain": [
       "3"
      ]
     },
     "execution_count": 10,
     "metadata": {},
     "output_type": "execute_result"
    }
   ],
   "source": [
    "numbers.map(strToInt).filter(_ < 5).reduce(_ + _)"
   ]
  },
  {
   "cell_type": "markdown",
   "metadata": {},
   "source": [
    "# ArchiveSpark\n",
    "\n",
    "### Read more on [GitHub](https://github.com/helgeho/ArchiveSpark)"
   ]
  },
  {
   "cell_type": "code",
   "execution_count": 11,
   "metadata": {
    "collapsed": false
   },
   "outputs": [],
   "source": [
    "import de.l3s.archivespark.ArchiveSpark\n",
    "import de.l3s.archivespark.enrich.functions._\n",
    "import de.l3s.archivespark.nativescala.implicits._\n",
    "import de.l3s.archivespark.implicits._"
   ]
  },
  {
   "cell_type": "code",
   "execution_count": 12,
   "metadata": {
    "collapsed": true
   },
   "outputs": [],
   "source": [
    "val collection = \"ArchiveIt-Collection-2950\""
   ]
  },
  {
   "cell_type": "code",
   "execution_count": 13,
   "metadata": {
    "collapsed": true
   },
   "outputs": [],
   "source": [
    "val cdxPath = s\"/data/hackathon/$collection/cdx/*.cdx.gz\"\n",
    "val warcPath = s\"/data/hackathon/$collection/warc\""
   ]
  },
  {
   "cell_type": "code",
   "execution_count": 14,
   "metadata": {
    "collapsed": false
   },
   "outputs": [],
   "source": [
    "val rdd = ArchiveSpark.hdfs(cdxPath, warcPath)(sc)"
   ]
  },
  {
   "cell_type": "code",
   "execution_count": 15,
   "metadata": {
    "collapsed": false
   },
   "outputs": [
    {
     "data": {
      "text/plain": [
       "{\n",
       "  \"record\":{\n",
       "    \"redirectUrl\":\"-\",\n",
       "    \"timestamp\":\"20111222021216\",\n",
       "    \"digest\":\"ZPP7YDXYWOVKO3RILANIHUPL3REXJDZE\",\n",
       "    \"originalUrl\":\"http://184.107.185.46/newsbeast/index.php?w=500&h=300&b=http://www.newsbeast.gr/files/1/2011/06/15/sintagma_1_5.jpg\",\n",
       "    \"surtUrl\":\"46,185,107,184)/newsbeast/index.php?b=http://www.newsbeast.gr/files/1/2011/06/15/sintagma_1_5.jpg&h=300&w=500\",\n",
       "    \"mime\":\"text/html\",\n",
       "    \"meta\":\"-\",\n",
       "    \"status\":404\n",
       "  }\n",
       "}"
      ]
     },
     "execution_count": 15,
     "metadata": {},
     "output_type": "execute_result"
    }
   ],
   "source": [
    "rdd.take(1).head.toJsonString"
   ]
  },
  {
   "cell_type": "code",
   "execution_count": 16,
   "metadata": {
    "collapsed": false
   },
   "outputs": [
    {
     "data": {
      "text/plain": [
       "{\n",
       "  \"record\":{\n",
       "    \"redirectUrl\":\"-\",\n",
       "    \"timestamp\":\"20111222011042\",\n",
       "    \"digest\":\"M5X4A2NFIZRSBQIALYJQXV5AV3DVPIK5\",\n",
       "    \"originalUrl\":\"http://zamg.ac.at/pict/aktuell/20110321_fuku_Cs-137-glob.gif\",\n",
       "    \"surtUrl\":\"at,ac,zamg)/pict/aktuell/20110321_fuku_cs-137-glob.gif\",\n",
       "    \"mime\":\"image/gif\",\n",
       "    \"meta\":\"-\",\n",
       "    \"status\":200\n",
       "  }\n",
       "}"
      ]
     },
     "execution_count": 16,
     "metadata": {},
     "output_type": "execute_result"
    }
   ],
   "source": [
    "rdd.filter(r => r.status == 200).take(1).head.toJsonString"
   ]
  },
  {
   "cell_type": "code",
   "execution_count": 17,
   "metadata": {
    "collapsed": false
   },
   "outputs": [
    {
     "data": {
      "text/plain": [
       "{\n",
       "  \"record\":{\n",
       "    \"redirectUrl\":\"-\",\n",
       "    \"timestamp\":\"20111222043804\",\n",
       "    \"digest\":\"YVOEIYJ45I7QNNFBQTCPKIQAQJIE4B46\",\n",
       "    \"originalUrl\":\"http://english.cntv.cn/program/newsupdate/20110504/109544.shtml\",\n",
       "    \"surtUrl\":\"cn,cntv,english)/program/newsupdate/20110504/109544.shtml\",\n",
       "    \"mime\":\"text/html\",\n",
       "    \"meta\":\"-\",\n",
       "    \"status\":200\n",
       "  }\n",
       "}"
      ]
     },
     "execution_count": 17,
     "metadata": {},
     "output_type": "execute_result"
    }
   ],
   "source": [
    "rdd.filter(r => r.status == 200 && r.mime == \"text/html\").take(1).head.toJsonString"
   ]
  },
  {
   "cell_type": "code",
   "execution_count": 18,
   "metadata": {
    "collapsed": true
   },
   "outputs": [],
   "source": [
    "val onlineHtml = rdd.filter(r => r.status == 200 && r.mime == \"text/html\")"
   ]
  },
  {
   "cell_type": "code",
   "execution_count": 19,
   "metadata": {
    "collapsed": false
   },
   "outputs": [
    {
     "data": {
      "text/plain": [
       "13382715"
      ]
     },
     "execution_count": 19,
     "metadata": {},
     "output_type": "execute_result"
    }
   ],
   "source": [
    "onlineHtml.count"
   ]
  },
  {
   "cell_type": "code",
   "execution_count": 20,
   "metadata": {
    "collapsed": false
   },
   "outputs": [],
   "source": [
    "val sample = onlineHtml.sample(false, .001, 12345).cache"
   ]
  },
  {
   "cell_type": "code",
   "execution_count": 21,
   "metadata": {
    "collapsed": false
   },
   "outputs": [
    {
     "data": {
      "text/plain": [
       "13485"
      ]
     },
     "execution_count": 21,
     "metadata": {},
     "output_type": "execute_result"
    }
   ],
   "source": [
    "sample.count"
   ]
  },
  {
   "cell_type": "markdown",
   "metadata": {},
   "source": [
    "### Dealing with revisions (here: selecting the latest capture of each URLs)"
   ]
  },
  {
   "cell_type": "code",
   "execution_count": 22,
   "metadata": {
    "collapsed": false
   },
   "outputs": [
    {
     "data": {
      "text/plain": [
       "Array((com,twitter)/occupymilwaukee,3), (org,occupywallst)/forum/raising-awareness-for-support-of-the-movement,3), (com,twitter)/occupychi,3), (com,salon)/2011/12/31/progressives_and_the_ron_paul_fallacies/singleton/salon.com,3), (org,occupywallst)/forum/matt-taibbi-of-rolling-stone-famously-described-go,3), (com,twitter)/an0nyc,3), (org,occupyclaremont)/?month=jan&page_id=9&yr=2008,2), (com,twitter)/rhiannonkwy?_twitter_noscript=1,2), (com,twitter)/occupylubbock?_twitter_noscript=1,2), (com,twitter)/occupyarkansas,2))"
      ]
     },
     "execution_count": 22,
     "metadata": {},
     "output_type": "execute_result"
    }
   ],
   "source": [
    "sample.map(r => (r.surtUrl, 1)).reduceByKey(_ + _).sortBy{case (url, count) => -count}.take(10)"
   ]
  },
  {
   "cell_type": "code",
   "execution_count": 23,
   "metadata": {
    "collapsed": false
   },
   "outputs": [
    {
     "name": "stdout",
     "output_type": "stream",
     "text": [
      "\r",
      "                                                                                \r",
      "{\n",
      "  \"record\":{\n",
      "    \"redirectUrl\":\"-\",\n",
      "    \"timestamp\":\"20120301043214\",\n",
      "    \"digest\":\"QMDB46M4TOZZVCAPUXPSV5M5XQK5RYWY\",\n",
      "    \"originalUrl\":\"http://occupywallst.org/forum/matt-taibbi-of-rolling-stone-famously-described-go/\",\n",
      "    \"surtUrl\":\"org,occupywallst)/forum/matt-taibbi-of-rolling-stone-famously-described-go\",\n",
      "    \"mime\":\"text/html\",\n",
      "    \"meta\":\"-\",\n",
      "    \"status\":200\n",
      "  }\n",
      "}\n",
      "{\n",
      "  \"record\":{\n",
      "    \"redirectUrl\":\"-\",\n",
      "    \"timestamp\":\"20111231034641\",\n",
      "    \"digest\":\"W4DGQOVS6BV62ORB5UHIILTPFDGFFUFT\",\n",
      "    \"originalUrl\":\"http://occupywallst.org/forum/matt-taibbi-of-rolling-stone-famously-described-go/\",\n",
      "    \"surtUrl\":\"org,occupywallst)/forum/matt-taibbi-of-rolling-stone-famously-described-go\",\n",
      "    \"mime\":\"text/html\",\n",
      "    \"meta\":\"-\",\n",
      "    \"status\":200\n",
      "  }\n",
      "}\n",
      "{\n",
      "  \"record\":{\n",
      "    \"redirectUrl\":\"-\",\n",
      "    \"timestamp\":\"20120226053324\",\n",
      "    \"digest\":\"HIQRYCYJ4QP4KHGF6U75ZHMNTY7BRESF\",\n",
      "    \"originalUrl\":\"http://occupywallst.org/forum/matt-taibbi-of-rolling-stone-famously-described-go/\",\n",
      "    \"surtUrl\":\"org,occupywallst)/forum/matt-taibbi-of-rolling-stone-famously-described-go\",\n",
      "    \"mime\":\"text/html\",\n",
      "    \"meta\":\"-\",\n",
      "    \"status\":200\n",
      "  }\n",
      "}\n"
     ]
    }
   ],
   "source": [
    "val url = \"org,occupywallst)/forum/matt-taibbi-of-rolling-stone-famously-described-go\"\n",
    "sample.filter(r => r.surtUrl == url).toJsonStrings.collect.foreach(println)"
   ]
  },
  {
   "cell_type": "code",
   "execution_count": 24,
   "metadata": {
    "collapsed": false
   },
   "outputs": [],
   "source": [
    "val latest = sample.map(r => (r.surtUrl, r)).reduceByKey((a, b) => Seq(a, b).maxBy(r => r.time.getMillis)).map{case (url, r) => r}.cache"
   ]
  },
  {
   "cell_type": "code",
   "execution_count": 25,
   "metadata": {
    "collapsed": false
   },
   "outputs": [
    {
     "data": {
      "text/plain": [
       "13285"
      ]
     },
     "execution_count": 25,
     "metadata": {},
     "output_type": "execute_result"
    }
   ],
   "source": [
    "latest.count"
   ]
  },
  {
   "cell_type": "markdown",
   "metadata": {},
   "source": [
    "### Enriching records\n",
    "\n",
    "#### See [GitHub](https://github.com/helgeho/ArchiveSpark/tree/master/src/main/scala/de/l3s/archivespark/enrich/functions) for an overview of available enrich functions\n",
    "\n",
    "#### See [GitHub](https://github.com/helgeho/ArchiveSpark/blob/master/src/main/scala/de/l3s/archivespark/implicits/classes/EnrichableRDD.scala) for the set of specialized archive RDD functions, such as rdd.enrich(fun)"
   ]
  },
  {
   "cell_type": "code",
   "execution_count": 26,
   "metadata": {
    "collapsed": true
   },
   "outputs": [],
   "source": [
    "val payload = latest.enrich(Payload)"
   ]
  },
  {
   "cell_type": "code",
   "execution_count": 27,
   "metadata": {
    "collapsed": false
   },
   "outputs": [
    {
     "name": "stdout",
     "output_type": "stream",
     "text": [
      "\r",
      "                                                                                \r",
      "{\n",
      "  \"record\":{\n",
      "    \"redirectUrl\":\"http://www.occupyunconference.net/\",\n",
      "    \"timestamp\":\"20120107070224\",\n",
      "    \"digest\":\"R6VHAQHS5EXFBMDGVORLPYH5HLNI7IWI\",\n",
      "    \"originalUrl\":\"https://www.facebook.com/l.php?u=http%3A%2F%2Fwww.occupyunconference.net&h=HAQEF5ZeO\",\n",
      "    \"surtUrl\":\"com,facebook)/l.php?h=haqef5zeo&u=http://www.occupyunconference.net\",\n",
      "    \"mime\":\"text/html\",\n",
      "    \"meta\":\"-\",\n",
      "    \"status\":200\n",
      "  },\n",
      "  \"recordHeader\":{\n",
      "    \"WARC-Target-URI\":\"https://www.facebook.com/l.php?u=http%3A%2F%2Fwww.occupyunconference.net&h=HAQEF5ZeO\",\n",
      "    \"WARC-Date\":\"2012-01-07T07:02:24Z\",\n",
      "    \"WARC-IP-Address\":\"69.171.229.16\",\n",
      "    \"WARC-Type\":\"response\",\n",
      "    \"Content-Length\":\"770\",\n",
      "    \"WARC-Payload-Digest\":\"sha1:R6VHAQHS5EXFBMDGVORLPYH5HLNI7IWI\",\n",
      "    \"Content-Type\":\"application/http; msgtype=response\",\n",
      "    \"absolute-offset\":\"0\",\n",
      "    \"WARC-Record-ID\":\"<urn:uuid:6db32307-e7b5-4540-ae6c-95e8f4ca41e0>\",\n",
      "    \"reader-identifier\":\"ARCHIVEIT-2950-DAILY-DWOFTZ-20120107070220-00022-crawling200.us.archive.org-6682.warc.gz\"\n",
      "  },\n",
      "  \"httpHeader\":{\n",
      "    \"Refresh\":\"0;URL=http://www.occupyunconference.net/\",\n",
      "    \"X-Frame-Options\":\"DENY\",\n",
      "    \"Expires\":\"Sat, 01 Jan 2000 00:00:00 GMT\",\n",
      "    \"Connection\":\"close\",\n",
      "    \"Content-Length\":\"420\",\n",
      "    \"X-FB-Server\":\"10.64.4.41\",\n",
      "    \"Cache-Control\":\"private, no-cache, no-store, must-revalidate\",\n",
      "    \"X-Content-Type-Options\":\"nosniff\",\n",
      "    \"Content-Type\":\"text/html; charset=utf-8\",\n",
      "    \"Pragma\":\"no-cache\"\n",
      "  },\n",
      "  \"payload\":\"bytes(length: 420)\"\n",
      "}\n"
     ]
    }
   ],
   "source": [
    "println(payload.take(1).head.toJsonString)"
   ]
  },
  {
   "cell_type": "code",
   "execution_count": 28,
   "metadata": {
    "collapsed": false
   },
   "outputs": [
    {
     "data": {
      "text/plain": [
       "420"
      ]
     },
     "execution_count": 28,
     "metadata": {},
     "output_type": "execute_result"
    }
   ],
   "source": [
    "payload.map(r => r.get[Array[Byte]](\"payload\").get.length).take(1).head"
   ]
  },
  {
   "cell_type": "code",
   "execution_count": 29,
   "metadata": {
    "collapsed": false
   },
   "outputs": [
    {
     "data": {
      "text/plain": [
       "420"
      ]
     },
     "execution_count": 29,
     "metadata": {},
     "output_type": "execute_result"
    }
   ],
   "source": [
    "payload.map(r => r.value(Payload).get.length).take(1).head"
   ]
  },
  {
   "cell_type": "code",
   "execution_count": 30,
   "metadata": {
    "collapsed": false
   },
   "outputs": [
    {
     "name": "stdout",
     "output_type": "stream",
     "text": [
      "{\n",
      "  \"record\":{\n",
      "    \"redirectUrl\":\"http://www.occupyunconference.net/\",\n",
      "    \"timestamp\":\"20120107070224\",\n",
      "    \"digest\":\"R6VHAQHS5EXFBMDGVORLPYH5HLNI7IWI\",\n",
      "    \"originalUrl\":\"https://www.facebook.com/l.php?u=http%3A%2F%2Fwww.occupyunconference.net&h=HAQEF5ZeO\",\n",
      "    \"surtUrl\":\"com,facebook)/l.php?h=haqef5zeo&u=http://www.occupyunconference.net\",\n",
      "    \"mime\":\"text/html\",\n",
      "    \"meta\":\"-\",\n",
      "    \"status\":200\n",
      "  },\n",
      "  \"recordHeader\":{\n",
      "    \"WARC-Target-URI\":\"https://www.facebook.com/l.php?u=http%3A%2F%2Fwww.occupyunconference.net&h=HAQEF5ZeO\",\n",
      "    \"WARC-Date\":\"2012-01-07T07:02:24Z\",\n",
      "    \"WARC-IP-Address\":\"69.171.229.16\",\n",
      "    \"WARC-Type\":\"response\",\n",
      "    \"Content-Length\":\"770\",\n",
      "    \"WARC-Payload-Digest\":\"sha1:R6VHAQHS5EXFBMDGVORLPYH5HLNI7IWI\",\n",
      "    \"Content-Type\":\"application/http; msgtype=response\",\n",
      "    \"absolute-offset\":\"0\",\n",
      "    \"WARC-Record-ID\":\"<urn:uuid:6db32307-e7b5-4540-ae6c-95e8f4ca41e0>\",\n",
      "    \"reader-identifier\":\"ARCHIVEIT-2950-DAILY-DWOFTZ-20120107070220-00022-crawling200.us.archive.org-6682.warc.gz\"\n",
      "  },\n",
      "  \"httpHeader\":{\n",
      "    \"Refresh\":\"0;URL=http://www.occupyunconference.net/\",\n",
      "    \"X-Frame-Options\":\"DENY\",\n",
      "    \"Expires\":\"Sat, 01 Jan 2000 00:00:00 GMT\",\n",
      "    \"Connection\":\"close\",\n",
      "    \"Content-Length\":\"420\",\n",
      "    \"X-FB-Server\":\"10.64.4.41\",\n",
      "    \"Cache-Control\":\"private, no-cache, no-store, must-revalidate\",\n",
      "    \"X-Content-Type-Options\":\"nosniff\",\n",
      "    \"Content-Type\":\"text/html; charset=utf-8\",\n",
      "    \"Pragma\":\"no-cache\"\n",
      "  },\n",
      "  \"payload\":{\n",
      "    \"_\":\"bytes(length: 420)\",\n",
      "    \"length\":420\n",
      "  }\n",
      "}\n"
     ]
    }
   ],
   "source": [
    "println(payload.mapEnrich(Payload, \"length\") {p => p.length}.take(1).head.toJsonString)"
   ]
  },
  {
   "cell_type": "code",
   "execution_count": 31,
   "metadata": {
    "collapsed": false
   },
   "outputs": [
    {
     "data": {
      "text/plain": [
       "420"
      ]
     },
     "execution_count": 31,
     "metadata": {},
     "output_type": "execute_result"
    }
   ],
   "source": [
    "payload.mapEnrich(Payload, \"length\") {p => p.length}.mapValues[Int](\"payload.length\").take(1).head"
   ]
  },
  {
   "cell_type": "code",
   "execution_count": 32,
   "metadata": {
    "collapsed": true
   },
   "outputs": [],
   "source": [
    "val strings = payload.enrich(StringContent)"
   ]
  },
  {
   "cell_type": "code",
   "execution_count": 33,
   "metadata": {
    "collapsed": false
   },
   "outputs": [
    {
     "name": "stdout",
     "output_type": "stream",
     "text": [
      "{\n",
      "  \"record\":{\n",
      "    \"redirectUrl\":\"http://www.occupyunconference.net/\",\n",
      "    \"timestamp\":\"20120107070224\",\n",
      "    \"digest\":\"R6VHAQHS5EXFBMDGVORLPYH5HLNI7IWI\",\n",
      "    \"originalUrl\":\"https://www.facebook.com/l.php?u=http%3A%2F%2Fwww.occupyunconference.net&h=HAQEF5ZeO\",\n",
      "    \"surtUrl\":\"com,facebook)/l.php?h=haqef5zeo&u=http://www.occupyunconference.net\",\n",
      "    \"mime\":\"text/html\",\n",
      "    \"meta\":\"-\",\n",
      "    \"status\":200\n",
      "  },\n",
      "  \"recordHeader\":{\n",
      "    \"WARC-Target-URI\":\"https://www.facebook.com/l.php?u=http%3A%2F%2Fwww.occupyunconference.net&h=HAQEF5ZeO\",\n",
      "    \"WARC-Date\":\"2012-01-07T07:02:24Z\",\n",
      "    \"WARC-IP-Address\":\"69.171.229.16\",\n",
      "    \"WARC-Type\":\"response\",\n",
      "    \"Content-Length\":\"770\",\n",
      "    \"WARC-Payload-Digest\":\"sha1:R6VHAQHS5EXFBMDGVORLPYH5HLNI7IWI\",\n",
      "    \"Content-Type\":\"application/http; msgtype=response\",\n",
      "    \"absolute-offset\":\"0\",\n",
      "    \"WARC-Record-ID\":\"<urn:uuid:6db32307-e7b5-4540-ae6c-95e8f4ca41e0>\",\n",
      "    \"reader-identifier\":\"ARCHIVEIT-2950-DAILY-DWOFTZ-20120107070220-00022-crawling200.us.archive.org-6682.warc.gz\"\n",
      "  },\n",
      "  \"httpHeader\":{\n",
      "    \"Refresh\":\"0;URL=http://www.occupyunconference.net/\",\n",
      "    \"X-Frame-Options\":\"DENY\",\n",
      "    \"Expires\":\"Sat, 01 Jan 2000 00:00:00 GMT\",\n",
      "    \"Connection\":\"close\",\n",
      "    \"Content-Length\":\"420\",\n",
      "    \"X-FB-Server\":\"10.64.4.41\",\n",
      "    \"Cache-Control\":\"private, no-cache, no-store, must-revalidate\",\n",
      "    \"X-Content-Type-Options\":\"nosniff\",\n",
      "    \"Content-Type\":\"text/html; charset=utf-8\",\n",
      "    \"Pragma\":\"no-cache\"\n",
      "  },\n",
      "  \"payload\":{\n",
      "    \"_\":\"bytes(length: 420)\",\n",
      "    \"string\":\"<html><head><meta http-equiv=\\\"refresh\\\" content=\\\"0;URL=http://www.occupyunconference.net/\\\" /><script type=\\\"text/javascript\\\">setTimeout(\\\"(new Image()).src=\\\\\\\"\\\\\\\\\\\\/laudit.php?r=CLICK_A_LINK&u=http\\\\\\\\u00253A\\\\\\\\u00252F\\\\\\\\u00252Fwww.occupyunconference.net\\\\\\\\u00252F\\\\\\\";\\\",5000);</script></head><body>If you are not redirected, go here:<a href=\\\"http://www.occupyunconference.net/\\\">http://www.occupyunconference.net/</a>. </body></html>\"\n",
      "  }\n",
      "}\n"
     ]
    }
   ],
   "source": [
    "println(strings.take(1).head.toJsonString)"
   ]
  },
  {
   "cell_type": "markdown",
   "metadata": {},
   "source": [
    "### Working with HTML tags (here: titles)"
   ]
  },
  {
   "cell_type": "code",
   "execution_count": 34,
   "metadata": {
    "collapsed": true
   },
   "outputs": [],
   "source": [
    "val Title = Html.first(\"title\")"
   ]
  },
  {
   "cell_type": "code",
   "execution_count": 35,
   "metadata": {
    "collapsed": false,
    "scrolled": false
   },
   "outputs": [
    {
     "name": "stdout",
     "output_type": "stream",
     "text": [
      "\r",
      "                                                                                \r",
      "{\n",
      "  \"record\":{\n",
      "    \"redirectUrl\":\"-\",\n",
      "    \"timestamp\":\"20120310104855\",\n",
      "    \"digest\":\"TTTWXNBO4GKSXQTUXPWTOSVQ6BR4JQWU\",\n",
      "    \"originalUrl\":\"http://blog.alexanderhiggins.com/tags/libyan-revolution/\",\n",
      "    \"surtUrl\":\"com,alexanderhiggins,blog)/tags/libyan-revolution\",\n",
      "    \"mime\":\"text/html\",\n",
      "    \"meta\":\"I\",\n",
      "    \"status\":200\n",
      "  },\n",
      "  \"recordHeader\":{\n",
      "    \"WARC-Target-URI\":\"http://blog.alexanderhiggins.com/tags/libyan-revolution/\",\n",
      "    \"WARC-Date\":\"2012-03-10T10:48:55Z\",\n",
      "    \"WARC-IP-Address\":\"199.27.135.227\",\n",
      "    \"WARC-Type\":\"response\",\n",
      "    \"Content-Length\":\"55707\",\n",
      "    \"WARC-Payload-Digest\":\"sha1:TTTWXNBO4GKSXQTUXPWTOSVQ6BR4JQWU\",\n",
      "    \"Content-Type\":\"application/http; msgtype=response\",\n",
      "    \"absolute-offset\":\"0\",\n",
      "    \"WARC-Record-ID\":\"<urn:uuid:626988a0-aa89-48b5-aebe-d43378a45c22>\",\n",
      "    \"reader-identifier\":\"ARCHIVEIT-2950-MONTHLY-TMVOKO-20120310104813-00102-crawling207.us.archive.org-6682.warc.gz\"\n",
      "  },\n",
      "  \"httpHeader\":{\n",
      "    \"Vary\":\"Accept-Encoding, Cookie\",\n",
      "    \"X-Pingback\":\"http://blog.alexanderhiggins.com/xmlrpc.php\",\n",
      "    \"Last-Modified\":\"Sat, 10 Mar 2012 10:48:51 GMT\",\n",
      "    \"Server\":\"cloudflare-nginx\",\n",
      "    \"Etag\":\"1d52f3908da80197f9f106f0e05ba628\",\n",
      "    \"Expires\":\"Sat, 10 Mar 2012 11:48:51 GMT\",\n",
      "    \"Connection\":\"close\",\n",
      "    \"Cache-Control\":\"public, must-revalidate, proxy-revalidate\",\n",
      "    \"Content-Type\":\"text/html; charset=UTF-8\",\n",
      "    \"X-CF-Powered-By\":\"WP 1.2.0\",\n",
      "    \"Pragma\":\"public\",\n",
      "    \"Date\":\"Sat, 10 Mar 2012 10:48:55 GMT\",\n",
      "    \"X-Powered-By\":\"W3 Total Cache/0.9.2.4\"\n",
      "  },\n",
      "  \"payload\":{\n",
      "    \"_\":\"bytes(length: 55190)\",\n",
      "    \"string\":{\n",
      "      \"_\":\"<!DOCTYPE html PUBLIC \\\"-//W3C//DTD XHTML 1.0 Transitional//EN\\\" \\\"http://www.w3.org/TR/xhtml1/DTD/xhtml1-transitional.dtd\\\">\\r\\n\\r\\n<!--\\r\\nAlexander Higgins Blog uses HeatMap Theme 2.5.4 (http://heatmaptheme.com)\\r\\nby Stuart Wider (http://stuartwider.com) copyright 2010\\r\\n-->\\r\\n\\r\\n<!-- \\r\\nheader.php\\r\\n~~~~~~~~~~~~~~~~~~~~~~~~ ~~~ -->\\r\\n\\r\\n<html xmlns=\\\"http://www.w3.org/1999/xhtml\\\" dir=\\\"ltr\\\" lang=\\\"en-US\\\">\\r\\n<head profile=\\\"http://gmpg.org/xfn/11\\\">\\r\\n\\r\\n<meta http-equiv=\\\"Content-Type\\\" content=\\\"text/html; charset=UTF-8\\\" />\\r\\n<meta name=\\\"distribution\\\" content=\\\"global\\\" />\\r\\n\\r\\n<meta name=\\\"robots\\\" content=\\\"noindex,follow\\\" />\\r\\n<meta name=\\\"language\\\" content=\\\"en\\\" />\\r\\n\\r\\n<!-- \\r\\nMeta Description and KeyWords for Home Page\\r\\n~~~ -->\\r\\n\\r\\n\\r\\n<!-- \\r\\nMeta Description and KeyWords for a Post or a Page\\r\\n~~~ -->\\r\\n\\r\\n\\r\\n<!-- \\r\\nHTML Title\\r\\n~~~ -->\\r\\n\\r\\n<title>Libyan Revolution | Alexander Higgins Blog</title>\\r\\n\\r\\n<!--\\r\\nFavicon\\r\\n~~~ -->\\r\\n\\r\\n<link rel=\\\"Shortcut Icon\\\" href=\\\"http://cdn1.alexanderhiggins.com/wp-content/themes/heatmap-adsense-theme/images/favicon.ico\\\" type=\\\"image/x-icon\\\" />\\r\\n\\r\\n<!-- Begin FB Sharing for WP by Chad Von Lind. Get the latest code here: http://vonlind.com/?p=539  -->\\r\\n\\r\\n \\r\\n\\t<meta property=\\\"og:type\\\" content=\\\"article\\\" />\\r\\n   <meta property=\\\"og:title\\\" content=\\\"Alexander Higgins Blog\\\" />\\r\\n\\t<meta property=\\\"og:url\\\" content=\\\"http://blog.alexanderhiggins.com\\\"/>\\r\\n\\t<meta property=\\\"og:description\\\" content=\\\"The Latest Buzz, Analysis, and News Without the Snooze!\\\" />\\r\\n   <!--<meta property=\\\"og:image\\\" content=\\\"http://cdn1.alexanderhiggins.com/wp-content/uploads/2011/04/Breaking-News.png\\\" />-->\\r\\n<!-- End FB Sharing for WP -->\\r\\n\\r\\n<!--\\r\\nStylesheet\\r\\n~~~ -->\\r\\n\\r\\n\\r\\n\\r\\n<!--<link rel=\\\"stylesheet\\\" href=\\\"http://newhorizongaragedoorsllc.com/hosted/theme/style.css\\\" type=\\\"text/css\\\" media=\\\"screen\\\" />\\r\\n\\r\\n\\t<link rel=\\\"stylesheet\\\" href=\\\"http://newhorizongaragedoorsllc.com/hosted/theme/default.css\\\" type=\\\"text/css\\\" media=\\\"screen\\\" />\\r\\n\\r\\n<link rel=\\\"stylesheet\\\" href=\\\"http://cdn1.alexanderhiggins.com/wp-content/themes/heatmap-adsense-theme/style.css\\\" type=\\\"text/css\\\" media=\\\"screen\\\" />\\r\\n-->\\t\\r\\n\\t<link rel=\\\"stylesheet\\\" href=\\\"http://cdn1.alexanderhiggins.com/wp-content/themes/heatmap-adsense-theme/styles.css\\\" type=\\\"text/css\\\" media=\\\"screen\\\" />\\r\\n\\r\\n\\r\\n\\r\\n<link rel=\\\"alternate\\\" type=\\\"application/rss+xml\\\" title=\\\"Alexander Higgins Blog RSS Feed\\\" href=\\\"http://feeds2.feedburner.com/AlexanderHigginsBlog\\\" />\\r\\n<link rel=\\\"alternate\\\" type=\\\"application/atom+xml\\\" title=\\\"Alexander Higgins Blog Atom Feed\\\" href=\\\"http://feeds.feedburner.com/alexanderhiggins/ZXrw\\\" />\\r\\n\\r\\n<!--\\r\\nPingback URL\\r\\n~~~ -->\\r\\n\\r\\n<link rel=\\\"pingback\\\" href=\\\"http://blog.alexanderhiggins.com/xmlrpc.php\\\" />\\r\\n\\r\\n\\r\\n<!--\\r\\nJavascript for the Suckerfish Menu plugin\\r\\n~~~ -->\\r\\n\\r\\n\\r\\n<!--\\r\\nAdditional Head Scripts\\r\\n~~~ -->\\r\\n\\r\\n<script type=\\\"text/javascript\\\">\\r\\nwindow.google_analytics_uacct = \\\"UA-986748-3\\\";\\r\\n</script>\\r\\n\\r\\n<!--\\r\\nwp_head()\\r\\n~~~~~~~~~~~~~~~~~~~~~~~~ ~~~ -->\\r\\n\\r\\n<link rel=\\\"alternate\\\" type=\\\"application/rss+xml\\\" title=\\\"Alexander Higgins Blog &raquo; libyan revolution Tag Feed\\\" href=\\\"http://blog.alexanderhiggins.com/tags/libyan-revolution/feed/\\\" />\\n<script type='text/javascript' src='http://cdn1.alexanderhiggins.com/wp-includes/js/jquery/jquery.js?ver=1.7.1'></script>\\n<script type='text/javascript' src='http://cdn1.alexanderhiggins.com/wp-content/plugins/sharebar/js/sharebar.js?ver=3.3.1'></script>\\n<link rel=\\\"EditURI\\\" type=\\\"application/rsd+xml\\\" title=\\\"RSD\\\" href=\\\"http://blog.alexanderhiggins.com/xmlrpc.php?rsd\\\" />\\n<link rel=\\\"wlwmanifest\\\" type=\\\"application/wlwmanifest+xml\\\" href=\\\"http://blog.alexanderhiggins.com/wp-includes/wlwmanifest.xml\\\" /> \\n<meta name=\\\"generator\\\" content=\\\"WordPress 3.3.1\\\" />\\n\\n<!-- All in One SEO Pack 1.6.13.8 by Michael Torbert of Semper Fi Web Design[815,924] -->\\n<link rel=\\\"canonical\\\" href=\\\"http://blog.alexanderhiggins.com/tags/libyan-revolution/\\\" />\\n<!-- /all in one seo pack -->\\n<meta name=\\\"framework\\\" content=\\\"Alkivia Framework 0.8\\\" />\\r\\n\\t<style type=\\\"text/css\\\">.recentcomments a{display:inline !important;padding:0 !important;margin:0 !important;}</style>\\n\\r\\n<!--\\r\\nEnd of wp_head()\\r\\n~~~ -->\\r\\n<style type=\\\"text/css\\\">.homealert {background-color:inherit; border: 1px solid #9CB6E9; padding:10px; margin-top:15px; margin-left:auto;margin-right:auto;width:960px;-moz-border-radius: 5px;border-radius: 5px;}\\r\\n\\t.homealert a {font-size: 12px; color:white !important;}\\r\\n\\t.wherego_title {width:505px !important;}\\r\\n\\t#wherego_related {margin-top:25px;}\\r\\n\\t#wherego_related h3 {margin-bottom:15px !important}\\r\\n\\t#gallery-1 .gallery-item {float: left !important;}\\r\\n\\t.cat-item-5357{display:none;} .cat-item-2116 {display:none;} .cat-item-10 {display:none;} .cat-item-5061{display:none;} .cat-item-1{display:none;}\\r\\n\\t.cat-item-41101{display:none;} .cat-item-3{display:none;}\\r\\n\\t.calendar{float:left;margin-right:10px;font-size:11px;text-align:center;border:1px solid #cccccc;padding:5px;}\\r\\n\\t#headlinelist h4{border-bottom:1px solid #cccccc;padding-bottom:5px}\\r\\n\\t</style>\\r\\n\\t<!--\\r\\n<meta http-equiv=\\\"Refresh\\\" content=\\\"300\\\"/>\\r\\n-->\\r\\n</head>\\r\\n\\r\\n<body>\\r\\n\\r\\n\\r\\n<!--\\r\\nFind out if this theme has the preset mode deactivated. If its not deactivated then lets show off a bit. Party time!\\r\\n~~~~~~~~~~~~~~~~~~~~~~~~ ~~~ -->\\r\\n\\r\\n\\t\\r\\n<!--\\r\\nThe High Bar\\r\\n~~~~~~~~~~~~~~~~~~~~~~~~ ~~~ -->\\r\\n<script src=\\\"http://cdn1.alexanderhiggins.com/msg.js\\\" type=\\\"text/javascript\\\">\\r\\n</script>\\r\\n\\r\\n<center class=\\\"homealert\\\">\\r\\n<script type=\\\"text/javascript\\\"><!--\\r\\ngoogle_ad_client = \\\"pub-9552668666289307\\\";\\r\\n/* 728x90, created 10/24/08 */\\r\\ngoogle_ad_slot = \\\"7936653592\\\";\\r\\ngoogle_ad_width = 728;\\r\\ngoogle_ad_height = 90;\\r\\n//-->\\r\\n</script>\\r\\n<script type=\\\"text/javascript\\\"\\r\\nsrc=\\\"http://pagead2.googlesyndication.com/pagead/show_ads.js\\\">\\r\\n</script>\\r\\n</center>\\r\\n\\t<div id=\\\"high-bar\\\">\\r\\n\\t\\r\\n\\t\\t\\t\\t\\r\\n\\t\\t\\t\\t\\r\\n\\t\\t\\t\\t\\r\\n\\t</div> <!-- id=\\\"high-bar\\\" -->\\r\\n\\t\\t\\r\\n\\t<div class=\\\"clearFloat\\\"></div>\\r\\n \\r\\n    <div id=\\\"main\\\">\\r\\n\\t\\r\\n<!--\\r\\nThe Header Bar\\r\\n~~~~~~~~~~~~~~~~~~~~~~~~ ~~~ -->\\r\\n\\r\\n        <div id=\\\"header-bar\\\">\\r\\n\\t\\t<a href=\\\"http://twitter.com/kr3at\\\" target=\\\"_blank\\\" rel=\\\"nofollow\\\"><img src=\\\"http://cdn1.alexanderhiggins.com/twitter-1a.png\\\" alt=\\\"Follow The Alexander Higgins Blog on Twitter\\\" title=\\\"Follow The Alexander Higgins Blog on Twitter\\\" width=\\\"150\\\" height=\\\"90\\\" border=\\\"0\\\" align=\\\"left\\\" style=\\\"padding-top: 10px; padding-right: 0px; padding-left: 15px;\\\" /></a>\\r\\n\\t\\t<div style=\\\"position:absolute;\\\"><iframe src=\\\"http://www.facebook.com/plugins/like.php?href=http%3A%2F%2Fblog.alexanderhiggins.com%2F&amp;layout=button_count&amp;show_faces=true&amp;width=100&amp;font=arial\\\" scrolling=\\\"no\\\" frameborder=\\\"0\\\" style=\\\"border:none; overflow:hidden; height:20px; width:100px;overflow: hidden; position: absolute; top: 35px; width: 100px; left:520px; z-index: 100;\\\" allowTransparency=\\\"true\\\">\\r\\n\\t\\t\\t\\t\\t\\t\\t</iframe></div>\\r\\n\\t\\t<img src=\\\"http://cdn1.alexanderhiggins.com/wp-content/uploads/2011/04/Alex-Higgins-100x100.jpg\\\" align=\\\"right\\\" style=\\\"padding:5px;\\\" alt=\\\"Alexander Higgins\\\" title=\\\"Alexander Higgins\\\"/>\\r\\n<!--\\r\\nThe Logo\\r\\n~~~ -->\\r\\n        \\t\\r\\n\\t\\t\\t\\t\\t\\t\\t\\t\\r\\n<!--\\r\\nThe Name of the Blog and the Tagline\\r\\n~~~ -->\\r\\n\\t\\t\\t\\r\\n\\t\\t\\t\\t\\t\\t\\t<div id=\\\"header-bar-content\\\">\\r\\n\\t\\t\\t\\t\\t<div class=\\\"blog-title\\\"><a href=\\\"http://blog.alexanderhiggins.com/\\\">Alexander Higgins Blog</a> </div>\\r\\n\\t\\t\\t\\t\\t<div class=\\\"blog-tagline\\\"><a href=\\\"http://blog.alexanderhiggins.com/\\\">The Latest Buzz, Analysis, and News Without the Snooze!</a></div>\\r\\n\\t\\t\\t\\t</div> <!-- id=\\\"header-bar-content\\\" -->\\r\\n\\t\\t\\t\\t            \\r\\n<!--\\r\\nWidget Area: Header Right\\r\\n~~~ -->\\r\\n\\t\\t\\t\\r\\n            <div id=\\\"header-bar-right\\\">\\r\\n\\t\\t\\t\\t\\r\\n\\t\\t\\t\\t\\t\\t\\t\\t\\r\\n\\t\\t\\t\\t\\t\\t\\t\\t\\r\\n\\t\\t\\t\\t\\t\\t\\t\\t\\t\\r\\n            </div> <!-- id=\\\"header-bar-right\\\" -->\\r\\n\\t\\t\\t\\r\\n        </div> <!-- id=\\\"header-bar\\\" -->\\r\\n        \\r\\n        <div class=\\\"clearFloat\\\"></div>\\r\\n        \\r\\n<!--\\r\\nThe Nav Bar\\r\\n~~~~~~~~~~~~~~~~~~~~~~~~ ~~~ -->\\r\\n\\r\\n        <div id=\\\"nav-bar\\\">\\r\\n        \\t\\r\\n\\t\\t\\t\\t\\r\\n\\t\\t\\t\\t<div id=\\\"nav-bar-content\\\">\\r\\n\\t\\t\\t\\t\\t<ul>\\r\\n\\t\\t\\t\\t\\t<li><a href=\\\"http://blog.alexanderhiggins.com\\\">Home</a></li>\\r\\n\\t\\t\\t\\t\\t\\t\\t\\t\\t\\t<li class=\\\"page_item page-item-18095\\\"><a href=\\\"http://blog.alexanderhiggins.com/headlines/\\\" title=\\\"Headlines\\\">Headlines</a></li>\\n<li class=\\\"page_item page-item-5388\\\"><a href=\\\"http://blog.alexanderhiggins.com/authors/\\\" title=\\\"Authors\\\">Authors</a></li>\\n<li class=\\\"page_item page-item-2\\\"><a href=\\\"http://blog.alexanderhiggins.com/about/\\\" title=\\\"About\\\">About</a></li>\\n<li class=\\\"page_item page-item-182\\\"><a href=\\\"http://blog.alexanderhiggins.com/subscribe-alexander-higgins-blog/\\\" title=\\\"Subscribe, Friend or Follow\\\">Subscribe, Friend or Follow</a></li>\\n<li class=\\\"page_item page-item-3053\\\"><a href=\\\"http://blog.alexanderhiggins.com/advertise/\\\" title=\\\"Advertise\\\">Advertise</a></li>\\n\\t\\t\\t\\t\\t</ul>\\r\\n\\t\\t\\t\\t</div> <!-- id=\\\"nav-bar-content\\\" -->\\r\\n\\t\\t\\t        \\r\\n        </div> <!-- id=\\\"nav-bar\\\" -->\\r\\n\\t\\t\\r\\n<!--\\r\\nThe Search Bar\\r\\n~~~ -->\\r\\n        \\r\\n\\t\\t<div id=\\\"search-bar\\\">\\r\\n\\t\\t\\r\\n\\t\\t\\t<div id=\\\"search-bar-content\\\">\\r\\n\\t\\t\\t\\t<form method=\\\"get\\\" id=\\\"searchform\\\" action=\\\"http://blog.alexanderhiggins.com\\\"><input type=\\\"text\\\" value=\\\"\\\" name=\\\"s\\\" id=\\\"s\\\" size=\\\"20\\\" />\\r\\n\\t\\t\\t\\t<input type=\\\"submit\\\" id=\\\"searchsubmit\\\" value=\\\"Search\\\" />\\r\\n\\t\\t\\t\\t</form>\\t\\t\\t</div> <!-- id=\\\"search-bar-content\\\" -->\\r\\n\\r\\n\\t\\t</div> <!-- id=\\\"search-bar\\\" -->\\r\\n\\t\\t\\r\\n        <div class=\\\"clearFloat\\\"></div>\\r\\n\\r\\n<!--\\r\\nThe Categories Bar\\r\\n~~~~~~~~~~~~~~~~~~~~~~~~ ~~~ -->\\r\\n \\r\\n        <div id=\\\"cat-bar\\\">\\r\\n        \\t\\r\\n\\t\\t\\t\\t\\r\\n\\t\\t\\t\\t<div id=\\\"cat-bar-content\\\">\\r\\n\\t\\t\\t\\t\\t<ul>\\r\\n\\t\\t\\t\\t\\t\\t<li class=\\\"cat-item cat-item-25531\\\"><a href=\\\"http://blog.alexanderhiggins.com/topics/economy-2/\\\" title=\\\"Economic news, events and commentary\\\">Economy</a>\\n</li>\\n\\t<li class=\\\"cat-item cat-item-513\\\"><a href=\\\"http://blog.alexanderhiggins.com/topics/environment/\\\" title=\\\"Environmental news, events and commentary\\\">Environment</a>\\n</li>\\n\\t<li class=\\\"cat-item cat-item-5357\\\"><a href=\\\"http://blog.alexanderhiggins.com/topics/aap-headlines/\\\" title=\\\"Associated Alternative Press Headlines\\\">Headlines</a>\\n</li>\\n\\t<li class=\\\"cat-item cat-item-4284\\\"><a href=\\\"http://blog.alexanderhiggins.com/topics/health/\\\" title=\\\"Health news, events and commentary\\\">Health</a>\\n</li>\\n\\t<li class=\\\"cat-item cat-item-2116\\\"><a href=\\\"http://blog.alexanderhiggins.com/topics/submitted/\\\" title=\\\"Articles submitted by site members\\\">Member Submitted</a>\\n</li>\\n\\t<li class=\\\"cat-item cat-item-4079\\\"><a href=\\\"http://blog.alexanderhiggins.com/topics/middle-east/\\\" title=\\\"Middle East news, events and commentary\\\">Middle East</a>\\n</li>\\n\\t<li class=\\\"cat-item cat-item-10\\\"><a href=\\\"http://blog.alexanderhiggins.com/topics/projects/\\\" title=\\\"View all posts filed under Projects\\\">Projects</a>\\n</li>\\n\\t<li class=\\\"cat-item cat-item-31281\\\"><a href=\\\"http://blog.alexanderhiggins.com/topics/society/\\\" title=\\\"View all posts filed under Society\\\">Society</a>\\n</li>\\n\\t<li class=\\\"cat-item cat-item-4108\\\"><a href=\\\"http://blog.alexanderhiggins.com/topics/technology/\\\" title=\\\"Technology news, events and commentary\\\">Technology</a>\\n</li>\\n\\t<li class=\\\"cat-item cat-item-5061\\\"><a href=\\\"http://blog.alexanderhiggins.com/topics/the-alexander-higgins-show/\\\" title=\\\"View all posts filed under The Alexander Higgins Show\\\">The Alexander Higgins Show</a>\\n</li>\\n\\t<li class=\\\"cat-item cat-item-1\\\"><a href=\\\"http://blog.alexanderhiggins.com/topics/uncategorized/\\\" title=\\\"View all posts filed under Uncategorized\\\">Uncategorized</a>\\n</li>\\n\\t<li class=\\\"cat-item cat-item-417\\\"><a href=\\\"http://blog.alexanderhiggins.com/topics/us/\\\" title=\\\"US news, events and commentary\\\">US</a>\\n</li>\\n\\t<li class=\\\"cat-item cat-item-41101\\\"><a href=\\\"http://blog.alexanderhiggins.com/topics/videos/\\\" title=\\\"Videos of the latest news, events and commentary\\\">Videos</a>\\n</li>\\n\\t<li class=\\\"cat-item cat-item-3\\\"><a href=\\\"http://blog.alexanderhiggins.com/topics/web-development/\\\" title=\\\"View all posts filed under Web Development\\\">Web Development</a>\\n</li>\\n\\t<li class=\\\"cat-item cat-item-25371\\\"><a href=\\\"http://blog.alexanderhiggins.com/topics/world-2/\\\" title=\\\"View all posts filed under World\\\">World</a>\\n</li>\\n\\t\\t\\t\\t\\t</ul>\\r\\n\\t\\t\\t\\t</div> <!-- id=\\\"cat-bar-content\\\" -->\\r\\n\\t\\t\\t        \\r\\n        </div> <!-- id=\\\"cat-bar\\\" -->\\r\\n  \\r\\n<!--\\r\\nThe RSS Bar (inc Feedburner)\\r\\n~~~ -->    \\r\\n        <div id=\\\"rss-bar\\\">\\r\\n        \\r\\n        \\t<div id=\\\"rss-bar-content\\\">\\r\\n<!--\\r\\nFeedburner Email Link\\r\\n~~~ --> \\t\\r\\n\\t\\t\\t\\t\\t\\t\\t\\r\\n\\t\\t\\t\\t\\t\\t\\t\\t\\t<div class=\\\"rss-feedburner\\\">\\r\\n\\t\\t\\t\\t\\t\\t<a href=\\\"http://feedburner.google.com/fb/a/mailverify?uri=AlexanderHigginsBlog&amp;loc=en_US\\\" target=\\\"_blank\\\">Email Subscription</a>\\r\\n\\t\\t\\t\\t\\t</div> <!-- class=\\\"rss-feedburner\\\" -->\\r\\n\\t\\t\\t\\t\\t\\t\\t\\t\\r\\n\\r\\n<!--\\r\\nRSS Comments Link\\r\\n~~~ -->\\t\\r\\n\\t\\t\\t\\t<div class=\\\"rss-comments\\\">\\r\\n\\t\\t\\t\\t\\r\\n\\t\\t\\t\\t\\t\\t\\t\\t\\t\\t\\t<a href=\\\"http://blog.alexanderhiggins.com/comments/feed/\\\">Comments</a>\\r\\n\\t\\t\\t\\t\\t\\t\\r\\n\\t\\t\\t\\t</div> <!-- class=\\\"rss-comments\\\" -->\\r\\n\\r\\n<!--\\r\\nRSS Posts Link\\r\\n~~~ -->\\r\\n\\t\\t\\t\\t<div class=\\\"rss-posts\\\">\\r\\n\\t\\t\\t\\t\\r\\n\\t\\t\\t\\t\\t\\t\\t\\t\\t\\t\\t<a href=\\\"http://feeds2.feedburner.com/AlexanderHigginsBlog\\\">Posts</a>\\r\\n\\t\\t\\t\\t\\t\\t\\r\\n\\t\\t\\t\\t</div> <!-- class=\\\"rss-posts\\\" -->\\r\\n\\t\\t\\t\\t\\r\\n            </div> <!-- id=\\\"rss-bar-content\\\" -->\\r\\n\\r\\n        </div> <!-- id=\\\"rss-bar\\\" -->\\r\\n        \\r\\n        <div class=\\\"clearFloat\\\"></div>\\r\\n\\t\\t\\t\\t\\r\\n\\t\\t\\t\\t\\r\\n<!--\\r\\nEnd of header.php\\r\\n~~~ -->\\r\\n<!-- \\r\\narchive.php\\r\\n~~~~~~~~~~~~~~~~~~~~~~~~ ~~~ -->\\r\\n\\t\\t\\r\\n<!--\\r\\nContent of the page (inc comments and post details)\\r\\n~~~~~~~~~~~~~~~~~~~~~~~~ ~~~ -->\\r\\n\\r\\n<div id=\\\"page-body-wrapper\\\">\\r\\n\\r\\n\\t<div id=\\\"content\\\">\\r\\n\\t\\t\\r\\n\\t\\t<div class=\\\"post-content\\\">\\r\\n<!--\\r\\nWidget Area: [All Content] Above \\r\\n~~~ -->\\t\\r\\n\\t\\t\\t<!-- hmt_widget_link_unit_1 --><div id=\\\"hmt-widget-link-unit-1\\\" class=\\\"all-content-above hmt_widget_link_unit_1\\\"><div class=\\\"toplinkunit\\\"><script type=\\\"text/javascript\\\"><!--\\r\\ngoogle_ad_client = \\\"pub-9552668666289307\\\";\\r\\n/* 728x15, created 10/24/08 */\\r\\ngoogle_ad_slot = \\\"5823245089\\\";\\r\\ngoogle_ad_width = 728;\\r\\ngoogle_ad_height = 15;\\r\\n//-->\\r\\n</script>\\r\\n<script type=\\\"text/javascript\\\"\\r\\nsrc=\\\"http://pagead2.googlesyndication.com/pagead/show_ads.js\\\">\\r\\n</script></div></div>\\t\\t\\r\\n\\t\\t\\t\\r\\n<!--\\r\\nFormat the title of the Archive\\r\\n~~~ -->\\r\\n\\r\\n\\t\\t\\t  \\t\\t\\t\\t<h2 class=\\\"h2-simulate-h1-size-underline \\\">Posts Tagged &#8216;libyan revolution&#8217;</h2>\\r\\n\\t\\t\\t  \\t\\t  \\r\\n\\t\\t\\t \\r\\n\\t\\t  \\r\\n\\t\\t</div> <!-- class=\\\"post-content\\\" -->\\r\\n\\t\\t\\r\\n\\t\\t<!--\\r\\ncommon.php\\r\\n~~~~~~~~~~~~~~~~~~~~~~~~ ~~~ -->\\r\\n\\r\\n\\r\\n<!--\\r\\nThe Posts \\r\\n~~~~~~~~~~~~~~~~~~~~~~~~ ~~~ -->\\r\\n<!--\\r\\nPrevious and Next Page navigation\\r\\n~~~ -->\\r\\n<style type='text/css'>.placeholder {width:150px;height:80px;background-color: #EFEFEF;} .h2-simulate-h1-size{font-size:18px !important}</style>\\r\\n\\t<div class=\\\"post-nav\\\"><p></p></div>\\r\\n\\t\\t\\r\\n\\t\\t\\r\\n<!--\\r\\nIndividual Post Content \\r\\n~~~ -->\\r\\n\\t<div class=\\\"post-content\\\">\\r\\n<!--\\r\\nWidget Area: [All Content] Above \\r\\n~~~ -->\\r\\n\\t\\t<!--\\r\\nThe Post Title \\r\\n~~~ -->\\t\\r\\n\\t\\t<h2 class=\\\"h2-simulate-h1-size\\\"><a href=\\\"http://blog.alexanderhiggins.com/2012/03/03/syria-rebels-recieve-100-million-donation-buy-weapons-90392/\\\" rel=\\\"bookmark\\\"> \\r\\n\\t\\t\\tSyria Rebels Recieve $100 Million Donation To Buy Weapons\\t\\t\\t</a></h2>\\r\\n<!--\\r\\nWidget Area: [Content Item] Above\\r\\n~~~ -->\\t\\r\\n\\t\\t<!--\\r\\nWidget Area: [Content Item] Left \\r\\n~~~ -->\\r\\n\\t\\t\\t\\t\\t\\t\\t\\r\\n<!--\\r\\nWidget Area: [Content Item] Right\\r\\n~~~ -->\\r\\n\\t\\t\\t\\t\\t\\t  \\r\\n\\t\\t\\t\\r\\n<!--\\r\\nThe content itself \\r\\n~~~ -->\\r\\n\\t\\t\\t\\t\\t\\t\\t\\t\\t\\t\\r\\n\\t\\t\\t\\r\\n\\t\\t\\t\\t<div class=\\\"common-page-thumbnail-left\\\">\\t\\t   \\r\\n\\t\\t\\t\\t\\r\\n\\t\\t\\t\\t\\t<img width=\\\"150\\\" height=\\\"100\\\" src=\\\"http://cdn1.alexanderhiggins.com/wp-content/uploads/2012/03/Syria-Rebels-receive-100-Million-To-Buy-Weapons-150x100.jpg\\\" class=\\\"attachment-archive-image-size wp-post-image\\\" alt=\\\"Syria Rebels receive $100 Million Donation To Buy Weapons\\\" title=\\\"Syria Rebels receive $100 Million Donation To Buy Weapons\\\" />\\t\\t\\t\\t\\r\\n\\t\\t\\t\\t</div>\\r\\n\\t\\t\\t\\r\\n\\t\\t<p>The Guardian reports that the NATO controlled Libyan national transitional council has sent a $100 million donation to Syria rebels to purchase weapons.</p><p><a href=\\\"http://blog.alexanderhiggins.com/2012/03/03/syria-rebels-recieve-100-million-donation-buy-weapons-90392/\\\" class=\\\"more-link\\\">Read more &raquo;</a></p>\\r\\n<!--\\r\\nWidget Area: [Content Item] Below\\r\\n~~~ -->\\r\\n\\t\\t\\t\\t\\r\\n\\t</div> <!-- class=\\\"post-content\\\" -->\\r\\n\\t\\r\\n\\t<div class=\\\"clearFloat\\\"></div>\\r\\n<hr class='sep' />\\t\\t \\r\\n\\t\\r\\n\\t\\t\\r\\n<!--\\r\\nWidget Area: [All Content] Below\\r\\n~~~ -->\\r\\n\\t<!-- widget_text --><div id=\\\"text-5\\\" class=\\\"all-content-below widget_text\\\">\\t\\t\\t<div class=\\\"textwidget\\\"><center><img alt=\\\"Logo Button 125x62\\\" src=\\\"http://www.alexa.com/images/logo-buttons/logo-button2.png\\\" height=\\\"60\\\"><a  href=\\\"http://www.alexa.com/siteinfo/blog.alexanderhiggins.com\\\" target=\\\"_blank\\\" rel=\\\"nofollow\\\" class=\\\"external\\\"><script type='text/javascript' language='JavaScript' src='http://xslt.alexa.com/site_stats/js/s/c?url=blog.alexanderhiggins.com'></script></a></center></div>\\n\\t\\t</div>\\t\\r\\n<!--\\r\\nPrevious and Next Page navigation\\r\\n~~~ -->\\r\\n\\t<div class=\\\"post-nav\\\"><p></p></div>\\r\\n\\t\\r\\n<!--\\r\\nEnd of common.php\\r\\n~~~ -->\\t\\t\\r\\n\\t</div> <!-- id=\\\"content\\\" -->\\r\\n\\t\\r\\n\\t\\r\\n<!-- \\r\\nsidebar.php\\r\\n~~~~~~~~~~~~~~~~~~~~~~~~ ~~~ -->\\r\\n\\r\\n<!-- \\r\\ntop-widebar\\r\\n~~~~~~~~~~~~~~~~~~~~~~~~ ~~~ -->\\r\\n\\t\\r\\n\\t<div id=\\\"sidebar-wrapper\\\">\\r\\n\\t\\r\\n\\t\\t<div id=\\\"top-widebar\\\">\\r\\n\\t\\t\\t\\r\\n\\t\\t\\t<ul>\\r\\n\\t\\t\\t<!-- widget_text --><li id=\\\"text-18\\\" class=\\\"widget widget_text\\\">\\t\\t\\t<div class=\\\"textwidget\\\"><div style=\\\"margin-left:-6px\\\"><iframe allowTransparency=\\\"true\\\" frameborder=\\\"0\\\" scrolling=\\\"no\\\" marginheight=\\\"0\\\" marginwidth=\\\"0\\\" topmargin=\\\"0\\\" leftmargin=\\\"0\\\" width=\\\"300\\\" height=\\\"250\\\" src=\\\"http://this.content.served.by.adshuffle.com/p/kl/46/799/r/12/4/8/ast0k3n/cj_K_lW0d4_1uozLhRxfn_1l3cCwkxr8/view.html?[Place Your Cache Buster ID here]&ASTPCT=[Place Your Click Tracking URL Here]\\\"></iframe></div></div>\\n\\t\\t</li><!-- hmt_widget_ad_unit_3 --><li id=\\\"hmt-widget-ad-unit-3\\\" class=\\\"widget hmt_widget_ad_unit_3\\\"><script type=\\\"text/javascript\\\"><!--\\r\\ngoogle_ad_client = \\\"pub-9552668666289307\\\";\\r\\n/* 336x280, created 10/24/08 */\\r\\ngoogle_ad_slot = \\\"5812799174\\\";\\r\\ngoogle_ad_width = 336;\\r\\ngoogle_ad_height = 280;\\r\\n//-->\\r\\n</script>\\r\\n<script type=\\\"text/javascript\\\"\\r\\nsrc=\\\"http://pagead2.googlesyndication.com/pagead/show_ads.js\\\">\\r\\n</script></li><!-- widget_text --><li id=\\\"text-8\\\" class=\\\"widget widget_text\\\"><h4 class=\\\"widgettitle\\\">Submit A Tip</h4>\\t\\t\\t<div class=\\\"textwidget\\\"><form name=\\\"Form1\\\" method=\\\"post\\\" target=\\\"_blank\\\" action=\\\"http://blog.alexanderhiggins.com/submit-tip.aspx\\\" id=\\\"Form1\\\" onsubmit=\\\"verify\\\">\\r\\n<div class=\\\"content\\\">\\r\\n<SCRIPT LANGUAGE=\\\"JavaScript\\\">\\r\\nfunction verify() {\\r\\nvar themessage = \\\"You are required to complete the following fields: \\\";\\r\\nif (document.trimform.tip.value==\\\"\\\") {\\r\\nthemessage = themessage + \\\"\\\\n First Name\\\";\\r\\n}\\r\\n\\r\\n//alert if fields are empty and cancel form submit\\r\\nif (themessage == \\\"You are required to complete the following fields: \\\") {\\r\\ndocument.trimform.submit();\\r\\n}\\r\\nelse {\\r\\nalert(themessage);\\r\\nreturn false;\\r\\n   }\\r\\n}\\r\\n</SCRIPT>\\r\\n<div id=\\\"contactdiv\\\">\\r\\n<p><b>Submit a tip (You will remain anonymous).</b></p>\\r\\n<p id=\\\"errlab\\\" style=\\\"COLOR:red\\\"></p>\\r\\n<textarea name=\\\"tip\\\" id=\\\"tip\\\" rows=\\\"3\\\" style=\\\"text-align: left;width:280px\\\" class=\\\"\\\"></textarea>\\r\\n<br />\\r\\n<input type=\\\"submit\\\" name=\\\"btnsubmit\\\" value=\\\"Submit\\\" id=\\\"btnsubmit\\\" />\\r\\n<input type=\\\"hidden\\\" name=\\\"Article\\\" value=\\\"\\\" id=\\\"Article\\\" />\\r\\n<script type=\\\"text/javascript\\\" LANGUAGE=\\\"JavaScript\\\">\\r\\ndocument.getElementById(\\\"Article\\\").value=window.location.href;</script>\\r\\n</div>\\r\\n</div>\\r\\n</form></div>\\n\\t\\t</li><!-- widget_text --><li id=\\\"text-9\\\" class=\\\"widget widget_text\\\"><h4 class=\\\"widgettitle\\\">Help Support This Site!</h4>\\t\\t\\t<div class=\\\"textwidget\\\"><div style=\\\"text-align:center;margin-right:auto;margin-left:auto;\\\">\\n<form action=\\\"https://www.paypal.com/cgi-bin/webscr\\\" method=\\\"post\\\" target=\\\"_blank\\\">\\n<input type=\\\"hidden\\\" name=\\\"cmd\\\" value=\\\"_s-xclick\\\">\\n<input type=\\\"hidden\\\" name=\\\"hosted_button_id\\\" value=\\\"7PR4JLE7S6RW4\\\">\\n<input type=\\\"image\\\" src=\\\"http://cdn1.alexanderhiggins.com/wp-content/uploads/2011/04/btn_donateCC_LG.gif\\\" border=\\\"0\\\" name=\\\"submit\\\" alt=\\\"PayPal - The safer, easier way to pay online!\\\" style=\\\"border:0px;\\\">\\n\\n</form>\\n</div></div>\\n\\t\\t</li>\\t\\t\\t</ul>\\r\\n\\t\\t\\r\\n\\t\\t</div> <!-- id=\\\"top-widebar\\\" -->\\r\\n\\t\\r\\n<!-- \\r\\nleft sidebar\\r\\n~~~~~~~~~~~~~~~~~~~~~~~~ ~~~ -->\\r\\n\\t\\r\\n\\t\\t<div id=\\\"left-sidebar\\\">\\r\\n\\t\\t\\t\\r\\n\\t\\t\\t<ul>\\t\\t\\t\\t\\r\\n\\t\\t\\t<!-- hmt_widget_ad_unit_2 --><li id=\\\"hmt-widget-ad-unit-2\\\" class=\\\"widget hmt_widget_ad_unit_2\\\"><script type=\\\"text/javascript\\\"><!--\\r\\ngoogle_ad_client = \\\"pub-9552668666289307\\\";\\r\\n/* 160x600, created 10/24/08 */\\r\\ngoogle_ad_slot = \\\"4242042549\\\";\\r\\ngoogle_ad_width = 160;\\r\\ngoogle_ad_height = 600;\\r\\n//-->\\r\\n</script>\\r\\n<script type=\\\"text/javascript\\\"\\r\\nsrc=\\\"http://pagead2.googlesyndication.com/pagead/show_ads.js\\\">\\r\\n</script></li>\\t\\t\\t</ul>\\r\\n\\t\\t\\r\\n\\t\\t</div> <!-- id=\\\"left-sidebar\\\" -->\\r\\n\\t\\r\\n<!-- \\r\\nright sidebar\\r\\n~~~~~~~~~~~~~~~~~~~~~~~~ ~~~ -->\\r\\n\\t\\r\\n\\t\\t<div id=\\\"right-sidebar\\\">\\r\\n\\t\\t\\t\\r\\n\\t\\t\\t<ul>\\r\\n\\t\\t\\t<!-- widget_meta --><li id=\\\"meta-3\\\" class=\\\"widget widget_meta\\\"><h4 class=\\\"widgettitle\\\">Meta</h4>\\t\\t\\t<ul>\\n\\t\\t\\t<li><a href=\\\"http://blog.alexanderhiggins.com/wp-login.php?action=register\\\">Register</a></li>\\t\\t\\t<li><a href=\\\"http://blog.alexanderhiggins.com/wp-login.php\\\">Log in</a></li>\\n\\t\\t\\t<li><a href=\\\"http://blog.alexanderhiggins.com/feed/\\\" title=\\\"Syndicate this site using RSS 2.0\\\">Entries <abbr title=\\\"Really Simple Syndication\\\">RSS</abbr></a></li>\\n\\t\\t\\t<li><a href=\\\"http://blog.alexanderhiggins.com/comments/feed/\\\" title=\\\"The latest comments to all posts in RSS\\\">Comments <abbr title=\\\"Really Simple Syndication\\\">RSS</abbr></a></li>\\n\\t\\t\\t<li><a href=\\\"http://wordpress.org/\\\" title=\\\"Powered by WordPress, state-of-the-art semantic personal publishing platform.\\\">WordPress.org</a></li>\\n\\t\\t\\t<li><a href=\\\"http://blog.alexanderhiggins.com/subscribe-alexander-higgins-blog/\\\">[Un]Subscribe to Posts</a></li>\\r\\n\\t\\t\\t</ul>\\n</li>\\t\\t\\t</ul>\\r\\n\\t\\t\\t\\r\\n\\t\\t</div> <!-- id=\\\"right-sidebar\\\" -->\\r\\n\\t\\t\\r\\n<!-- \\r\\nbottom widebar\\r\\n~~~~~~~~~~~~~~~~~~~~~~~~ ~~~ -->\\r\\n\\t\\r\\n\\t\\t<div id=\\\"bottom-widebar\\\">\\r\\n\\t\\t\\t\\r\\n\\t\\t\\t<ul>\\r\\n\\t\\t\\t<!-- hmt_widget_recent_posts_plus --><li id=\\\"hmt-recent-posts-plus\\\" class=\\\"widget hmt_widget_recent_posts_plus\\\"><h4 class=\\\"widgettitle\\\">Further Reading</h4><ul><li><div class=\\\"thumbnail\\\" style=\\\"margin-top:5px\\\"><a href=\\\"http://blog.alexanderhiggins.com/2012/03/10/germany-european-constitution-centers-power-world-93642/\\\" rel=\\\"bookmark\\\"><img width=\\\"75\\\" height=\\\"75\\\" src=\\\"http://cdn1.alexanderhiggins.com/wp-content/uploads/2011/08/Resurgent-Germany-The-Rise-of-The-Fourth-Reich-75x75.png\\\" class=\\\"attachment-post-thumbnail wp-post-image\\\" alt=\\\"Resurgent Germany - The Rise of The Fourth Reich?\\\" title=\\\"Resurgent Germany - The Rise of The Fourth Reich?\\\" /></a></div>\\n<h5 style=\\\"margin-top:5px\\\"><a href=\\\"http://blog.alexanderhiggins.com/2012/03/10/germany-european-constitution-centers-power-world-93642/\\\" rel=\\\"bookmark\\\">Germany Wants New European Constitution: &#8220;There Are New Centers Of Power In The World.&#8221;</a></h5>\\n<div class=\\\"clearFloat-spacer\\\">&nbsp;</div><div class=\\\"thumbnail\\\" style=\\\"margin-top:5px\\\"><a href=\\\"http://blog.alexanderhiggins.com/2012/03/10/nato-game-2012-93582/\\\" rel=\\\"bookmark\\\"><img width=\\\"75\\\" height=\\\"75\\\" src=\\\"http://cdn1.alexanderhiggins.com/wp-content/uploads/2012/03/NATO-Game-Over-2012-campaign-75x75.jpg\\\" class=\\\"attachment-post-thumbnail wp-post-image\\\" alt=\\\"NATO Game Over 2012 Campaign\\\" title=\\\"NATO Game Over 2012 Campaign\\\" /></a></div>\\n<h5 style=\\\"margin-top:5px\\\"><a href=\\\"http://blog.alexanderhiggins.com/2012/03/10/nato-game-2012-93582/\\\" rel=\\\"bookmark\\\">NATO Game Over 2012 &#8211; Activists Plan to Occupy NATO Headquarters</a></h5>\\n<div class=\\\"clearFloat-spacer\\\">&nbsp;</div><div class=\\\"thumbnail\\\" style=\\\"margin-top:5px\\\"><a href=\\\"http://blog.alexanderhiggins.com/2012/03/10/bp-permanently-rip-open-gulf-sea-floor-macondo-93562/\\\" rel=\\\"bookmark\\\"><img width=\\\"75\\\" height=\\\"75\\\" src=\\\"http://cdn1.alexanderhiggins.com/wp-content/uploads/2010/06/Thomas-Jefferson-Seafloor-Mapping-Clipped-275-75x75.jpg\\\" class=\\\"attachment-post-thumbnail wp-post-image\\\" alt=\\\"Thomas Jefferson 3D Gulf Seafloor Leaks Mapping\\\" title=\\\"Thomas Jefferson 3D Gulf Seafloor Leaks Mapping\\\" /></a></div>\\n<h5 style=\\\"margin-top:5px\\\"><a href=\\\"http://blog.alexanderhiggins.com/2012/03/10/bp-permanently-rip-open-gulf-sea-floor-macondo-93562/\\\" rel=\\\"bookmark\\\">Did BP Permanently Rip Open the Gulf Sea Floor Around The Macondo Well?</a></h5>\\n<div class=\\\"clearFloat-spacer\\\">&nbsp;</div><div class=\\\"thumbnail\\\" style=\\\"margin-top:5px\\\"><a href=\\\"http://blog.alexanderhiggins.com/2012/03/10/chinese-hackers-infiltrate-23-spacecraft-nasa-jet-propulsion-labs-93502/\\\" rel=\\\"bookmark\\\"><img width=\\\"75\\\" height=\\\"75\\\" src=\\\"http://cdn1.alexanderhiggins.com/wp-content/uploads/2012/03/Hackers-Gain-Access-to-23-U.S.-Spacecraft-NASA-Jet-Propulsion-Labs--75x75.jpg\\\" class=\\\"attachment-post-thumbnail wp-post-image\\\" alt=\\\"Hackers Gain Access to 23 U.S. Spacecraft, NASA Jet Propulsion Labs\\\" title=\\\"Hackers Gain Access to 23 U.S. Spacecraft, NASA Jet Propulsion Labs\\\" /></a></div>\\n<h5 style=\\\"margin-top:5px\\\"><a href=\\\"http://blog.alexanderhiggins.com/2012/03/10/chinese-hackers-infiltrate-23-spacecraft-nasa-jet-propulsion-labs-93502/\\\" rel=\\\"bookmark\\\">Chinese Hackers Infiltrate 23 US Spacecraft, NASA Jet Propulsion Labs</a></h5>\\n<div class=\\\"clearFloat-spacer\\\">&nbsp;</div><div class=\\\"thumbnail\\\" style=\\\"margin-top:5px\\\"><a href=\\\"http://blog.alexanderhiggins.com/2012/03/10/julian-assange-wikileaks-msm-profile-4-part-video-serires-93402/\\\" rel=\\\"bookmark\\\"><img width=\\\"75\\\" height=\\\"75\\\" src=\\\"http://cdn1.alexanderhiggins.com/wp-content/uploads/2012/03/Wikileaks-Julian-Assange-Time-Magazine-Cover-75x75.jpg\\\" class=\\\"attachment-post-thumbnail wp-post-image\\\" alt=\\\"Wikileaks Julian Assange Time Magazine Cover\\\" title=\\\"Wikileaks Julian Assange Time Magazine Cover\\\" /></a></div>\\n<h5 style=\\\"margin-top:5px\\\"><a href=\\\"http://blog.alexanderhiggins.com/2012/03/10/julian-assange-wikileaks-msm-profile-4-part-video-serires-93402/\\\" rel=\\\"bookmark\\\">Julian Assange WikiLeaks MSM Profile &#8211; 4 Part Video Series</a></h5>\\n<div class=\\\"clearFloat-spacer\\\">&nbsp;</div><div class=\\\"thumbnail\\\" style=\\\"margin-top:5px\\\"><a href=\\\"http://blog.alexanderhiggins.com/2012/03/10/societys-stages-economic-collapse-93342/\\\" rel=\\\"bookmark\\\"><img width=\\\"75\\\" height=\\\"75\\\" src=\\\"http://cdn1.alexanderhiggins.com/wp-content/uploads/2012/03/Societys-Five-Stages-of-Economic-Collapse-75x75.jpg\\\" class=\\\"attachment-post-thumbnail wp-post-image\\\" alt=\\\"Society&#039;s Five Stages of Economic Collapse\\\" title=\\\"Society&#039;s Five Stages of Economic Collapse\\\" /></a></div>\\n<h5 style=\\\"margin-top:5px\\\"><a href=\\\"http://blog.alexanderhiggins.com/2012/03/10/societys-stages-economic-collapse-93342/\\\" rel=\\\"bookmark\\\">Society\\u2019s Five Stages of Economic Collapse</a></h5>\\n<div class=\\\"clearFloat-spacer\\\">&nbsp;</div><div class=\\\"thumbnail\\\" style=\\\"margin-top:5px\\\"><a href=\\\"http://blog.alexanderhiggins.com/2012/03/09/highest-radiation-levels-fukushima-disaster-recorded-los-angeles-ca-93292/\\\" rel=\\\"bookmark\\\"><img width=\\\"75\\\" height=\\\"75\\\" src=\\\"http://cdn1.alexanderhiggins.com/wp-content/uploads/2012/03/028-75x75.jpg\\\" class=\\\"attachment-post-thumbnail wp-post-image\\\" alt=\\\"Highest Radiation Levels Since Fukushima Disaster Recorded in Los Angeles, CA\\\" title=\\\"Highest Radiation Levels Since Fukushima Disaster Recorded in Los Angeles, CA\\\" /></a></div>\\n<h5 style=\\\"margin-top:5px\\\"><a href=\\\"http://blog.alexanderhiggins.com/2012/03/09/highest-radiation-levels-fukushima-disaster-recorded-los-angeles-ca-93292/\\\" rel=\\\"bookmark\\\">Highest Radiation Levels Since Fukushima Disaster Recorded in Los Angeles, CA</a></h5>\\n<div class=\\\"clearFloat-spacer\\\">&nbsp;</div><div class=\\\"thumbnail\\\" style=\\\"margin-top:5px\\\"><a href=\\\"http://blog.alexanderhiggins.com/2012/03/09/woman-military-beaten-raped-murdered-set-fire-93242/\\\" rel=\\\"bookmark\\\"><img width=\\\"75\\\" height=\\\"75\\\" src=\\\"http://cdn1.alexanderhiggins.com/wp-content/uploads/2012/03/027-75x75.jpg\\\" class=\\\"attachment-post-thumbnail wp-post-image\\\" alt=\\\"Woman in the military: beaten, raped, murdered and set on fire\\\" title=\\\"Woman in the military: beaten, raped, murdered and set on fire\\\" /></a></div>\\n<h5 style=\\\"margin-top:5px\\\"><a href=\\\"http://blog.alexanderhiggins.com/2012/03/09/woman-military-beaten-raped-murdered-set-fire-93242/\\\" rel=\\\"bookmark\\\">Woman in the military: beaten, raped, murdered and set on fire</a></h5>\\n<div class=\\\"clearFloat-spacer\\\">&nbsp;</div><div class=\\\"thumbnail\\\" style=\\\"margin-top:5px\\\"><a href=\\\"http://blog.alexanderhiggins.com/2012/03/09/dylan-ratigan-americas-perpetual-state-war-93192/\\\" rel=\\\"bookmark\\\"><img width=\\\"75\\\" height=\\\"75\\\" src=\\\"http://cdn1.alexanderhiggins.com/wp-content/uploads/2012/03/026-75x75.jpg\\\" class=\\\"attachment-post-thumbnail wp-post-image\\\" alt=\\\"Dylan Ratigan On America&#8217;s Perpetual State Of War\\\" title=\\\"Dylan Ratigan On America&#8217;s Perpetual State Of War\\\" /></a></div>\\n<h5 style=\\\"margin-top:5px\\\"><a href=\\\"http://blog.alexanderhiggins.com/2012/03/09/dylan-ratigan-americas-perpetual-state-war-93192/\\\" rel=\\\"bookmark\\\">Dylan Ratigan On America&#8217;s Perpetual State Of War</a></h5>\\n<div class=\\\"clearFloat-spacer\\\">&nbsp;</div><div class=\\\"thumbnail\\\" style=\\\"margin-top:5px\\\"><a href=\\\"http://blog.alexanderhiggins.com/2012/03/09/rick-santorum-fail-signatures-ballot-93142/\\\" rel=\\\"bookmark\\\"><img width=\\\"75\\\" height=\\\"75\\\" src=\\\"http://cdn1.alexanderhiggins.com/wp-content/uploads/2012/03/Rick-Santorum-Fails-To-Collect-Enough-Signatures-To-Make-Ballot-75x75.jpg\\\" class=\\\"attachment-post-thumbnail wp-post-image\\\" alt=\\\"Embarrassing - Rick Santorum Fails To Make Ballot\\\" title=\\\"Embarrassing - Rick Santorum Fails To Make Ballot\\\" /></a></div>\\n<h5 style=\\\"margin-top:5px\\\"><a href=\\\"http://blog.alexanderhiggins.com/2012/03/09/rick-santorum-fail-signatures-ballot-93142/\\\" rel=\\\"bookmark\\\">Rick Santorum Fail: Not Enough Signatures To Make Ballot</a></h5>\\n</li></ul></li>\\n<!-- widget_text --><li id=\\\"text-17\\\" class=\\\"widget widget_text\\\"><h4 class=\\\"widgettitle\\\">TEPCO And TBS JNN HD LIVE Fukushima Web Cam Feed</h4>\\t\\t\\t<div class=\\\"textwidget\\\"><a  href=\\\"http://blog.alexanderhiggins.com/TEPCO-TBS-JNN-Fukushima-Live-HD-Video-Stream-Webcam-Feed.html\\\" target=\\\"_blank\\\"><strong>Fukushima Nuclear Reactor Official TEPCO and TBS JNN HD Live Video Webcam Stream Feed</strong></a>\\n<a  href=\\\"http://blog.alexanderhiggins.com/TEPCO-TBS-JNN-Fukushima-Live-HD-Video-Stream-Webcam-Feed.html\\\" target=\\\"_blank\\\"><img src=\\\"http://cdn1.alexanderhiggins.com/wp-content/uploads/2011/05/033-290x217.jpg\\\" alt=\\\"Fukushima Nuclear Reactor Official TEPCO and TBS JNN HD Live Video Webcam Stream Feed\\\" title=\\\"Fukushima Nuclear Reactor Official TEPCO and TBS JNN HD Live Video Webcam Stream Feed\\\" /></a></div>\\n\\t\\t</li><!-- widget_text --><li id=\\\"text-13\\\" class=\\\"widget widget_text\\\"><h4 class=\\\"widgettitle\\\">Real Time US Radiation Monitoring</h4>\\t\\t\\t<div class=\\\"textwidget\\\"><center><b>Updated With Real Time EPA RadNet Japan Nuclear Radiation Monitoring For Every Major City In The Entire US On A Single Page</b><br /><a  href=\\\"http://blog.alexanderhiggins.com/2011/04/12/real-time-epa-radnet-japan-nuclear-radiation-monitoring-every-us-city-single-page-16511/\\\" target=\\\"_blank\\\"><b>Real time US radiation monitoring of Japan nuclear radioactive fallout for major US west coast cities.</b></br>\\n<img src=\\\"http://cdn1.alexanderhiggins.com/wp-content/uploads/2011/04/radiation-monitoring-thumb.jpg\\\" style=\\\"border:1px solid #999999;\\\" alt=\\\"Real time US radiation monitoring of Japan nuclear radioactive fallout for major US west coast cities.\\\" title=\\\"Real time US radiation monitoring of Japan nuclear radioactive fallout for major US west coast cities.\\\"/></a></center></div>\\n\\t\\t</li><!-- widget_wppp --><li id=\\\"wppp-5\\\" class=\\\"widget widget_wppp\\\"><h4 class=\\\"widgettitle\\\">Most Popular Recent Posts</h4>\\n<ol class='wppp_list'>\\n\\t<li><a href='http://blog.alexanderhiggins.com/2012/02/27/official-list-words-feds-monitored-social-neworking-sites-86741/' title='Official List Of Words Feds Monitor On Social Networking Sites'>Official List Of Words Feds Monitor On Social Networking Sites</a> - 41,980 reads</li>\\n\\t<li><a href='http://blog.alexanderhiggins.com/2012/02/08/reid-sneaks-sopa-senate-82141/' title='Reid Sneaks SOPA Back Into Senate With New Name'>Reid Sneaks SOPA Back Into Senate With New Name</a> - 19,367 reads</li>\\n\\t<li><a href='http://blog.alexanderhiggins.com/2012/02/07/obama-invokes-ndaa-declaring-iran-threat-national-emergency-81681/' title='Obama Invokes NDAA Declaring Threat From Iran A National Emergency'>Obama Invokes NDAA Declaring Threat From Iran A National Emergency</a> - 14,517 reads</li>\\n\\t<li><a href='http://blog.alexanderhiggins.com/2011/04/12/realtime-epa-radnet-japan-nuclear-radiation-monitoring-every-us-city-single-page-16511/' title='Real Time EPA RadNet Japan Nuclear Radiation Monitoring For Every Major City In The Entire US On A Single Page'>Real Time EPA RadNet Japan Nuclear Radiation Monitoring For Every Major City In The Entire US On A...</a> - 12,443 reads</li>\\n\\t<li><a href='http://blog.alexanderhiggins.com/2011/04/26/nasa-warn-super-solar-storms-forecasted-2012-kill-1-billion-20382/' title='NASA Warns Super Solar Storms Forecasted For 2012 Could Kill 1 Billion'>NASA Warns Super Solar Storms Forecasted For 2012 Could Kill 1 Billion</a> - 11,376 reads</li>\\n\\t<li><a href='http://blog.alexanderhiggins.com/2011/06/25/fleshing-eating-disease-cocaine-york-los-angeles-cocaine-supply-entire-nation-affected-30871/' title='Flesh Eating Disease In Cocaine Found In New York, Los Angeles - Cocaine Supply Of Entire Nation May Be Affected'>Flesh Eating Disease In Cocaine Found In New York, Los Angeles - Cocaine Supply Of Entire Nation May...</a> - 11,223 reads</li>\\n\\t<li><a href='http://blog.alexanderhiggins.com/2011/12/06/begins-occupywallstreet-labeled-terrorist-group-alqaeda-81051/' title='#OccupyWallStreet Officially Classified As Terrorist Group Along With Al-Qaeda'>#OccupyWallStreet Officially Classified As Terrorist Group Along With Al-Qaeda</a> - 11,107 reads</li>\\n\\t<li><a href='http://blog.alexanderhiggins.com/2012/03/01/explosions-destroy-saudi-oil-pipeline-sends-oil-prices-soaring-88962/' title='Explosions Destroy Saudi Oil Pipeline, Sends Oil Prices Soaring'>Explosions Destroy Saudi Oil Pipeline, Sends Oil Prices Soaring</a> - 10,530 reads</li>\\n\\t<li><a href='http://blog.alexanderhiggins.com/2012/02/08/media-preparing-infrastructure-war-iran-81991/' title='Media Making Emergency Preparations To Cover War With Iran'>Media Making Emergency Preparations To Cover War With Iran</a> - 9,224 reads</li>\\n</ol>\\n</li><!-- widget_wppp --><li id=\\\"wppp-6\\\" class=\\\"widget widget_wppp\\\"><h4 class=\\\"widgettitle\\\">Most Read Today</h4>\\n<ol class='wppp_list'>\\n\\t<li><a href='http://blog.alexanderhiggins.com/2012/03/08/secret-warning-military-strike-syria-issued-92352/' title='Secret Warning of Military Strike Against Syria Issued?'>Secret Warning of Military Strike Against Syria Issued?</a> - 4,329 reads</li>\\n\\t<li><a href='http://blog.alexanderhiggins.com/2012/03/08/congressmen-announce-bill-repeal-ndaa-infinite-detention-torture-92542/' title='Congressmen Announce Bill To Repeal NDAA Infinite Detention, Torture'>Congressmen Announce Bill To Repeal NDAA Infinite Detention, Torture</a> - 2,344 reads</li>\\n\\t<li><a href='http://blog.alexanderhiggins.com/2012/03/09/moodys-declares-greece-default-updated-92982/' title='Greece Officially Defaults, UK Prepares For Euro Collapse'>Greece Officially Defaults, UK Prepares For Euro Collapse</a> - 1,936 reads</li>\\n\\t<li><a href='http://blog.alexanderhiggins.com/2012/03/09/breaking-isda-credit-event-occurred-greece-cds-triggered-92862/' title='Breaking: ISDA Credit Event Has Occurred In Greece, CDS Triggered'>Breaking: ISDA Credit Event Has Occurred In Greece, CDS Triggered</a> - 1,785 reads</li>\\n\\t<li><a href='http://blog.alexanderhiggins.com/2012/03/07/switzerland-gold-york-fed-91882/' title='Switzerland Wants Its Gold Back From The New York Fed'>Switzerland Wants Its Gold Back From The New York Fed</a> - 1,768 reads</li>\\n\\t<li><a href='http://blog.alexanderhiggins.com/2012/03/08/exposing-kony-2012-phony-youth-movement-promotes-military-presence-africa-92622/' title='Exposing Kony 2012: phony youth movement promotes US military presence in Africa'>Exposing Kony 2012: phony youth movement promotes US military presence in Africa</a> - 1,648 reads</li>\\n\\t<li><a href='http://blog.alexanderhiggins.com/2012/03/07/caught-complete-cnn-syria-interviews-staged-by-activist-danny-91231/' title='Caught: Staged CNN Syria Interviews Faked By Activist Danny'>Caught: Staged CNN Syria Interviews Faked By Activist Danny</a> - 797 reads</li>\\n\\t<li><a href='http://blog.alexanderhiggins.com/2011/04/26/nasa-warn-super-solar-storms-forecasted-2012-kill-1-billion-20382/' title='NASA Warns Super Solar Storms Forecasted For 2012 Could Kill 1 Billion'>NASA Warns Super Solar Storms Forecasted For 2012 Could Kill 1 Billion</a> - 682 reads</li>\\n\\t<li><a href='http://blog.alexanderhiggins.com/2012/03/08/warning-mercury-beauty-creams-makeup-92202/' title='WARNING! MERCURY FOUND IN BEAUTY CREAMS &amp; MAKEUP!'>WARNING! MERCURY FOUND IN BEAUTY CREAMS &amp; MAKEUP!</a> - 516 reads</li>\\n</ol>\\n</li><!-- widget_search --><li id=\\\"search-3\\\" class=\\\"widget widget_search\\\"><form role=\\\"search\\\" method=\\\"get\\\" id=\\\"searchform\\\" action=\\\"http://blog.alexanderhiggins.com/\\\" >\\n\\t<div><label class=\\\"screen-reader-text\\\" for=\\\"s\\\">Search for:</label>\\n\\t<input type=\\\"text\\\" value=\\\"\\\" name=\\\"s\\\" id=\\\"s\\\" />\\n\\t<input type=\\\"submit\\\" id=\\\"searchsubmit\\\" value=\\\"Search\\\" />\\n\\t</div>\\n\\t</form></li><!-- widget_recent_comments --><li id=\\\"recent-comments-4\\\" class=\\\"widget widget_recent_comments\\\"><h4 class=\\\"widgettitle\\\">Recent comments</h4><ul id=\\\"recentcomments\\\"><li class=\\\"recentcomments\\\">PUPPETS ARE NOT THE MAJOR PROBLEM, THE SHADOW GOVERNMENT IS THE PROBLEM, THE ROTHSCHILDS AND HOUSE OF WINDSOR on <a href=\\\"http://blog.alexanderhiggins.com/2012/03/08/legal-experts-destroy-rationale-obamas-assassination-policy-slam-democrats-supporting-92712/comment-page-1/#comment-1613481\\\">Legal Experts Destroy Rationale for Obama\\u2019s Assassination Policy</a></li><li class=\\\"recentcomments\\\"><a href='http://shtf411.com/do-i-need-to-be-concerned-with-contraception-t19563.html' rel='external nofollow' class='url'>SHTF411.com &bull; Do I need to be concerned with Contraception???</a> on <a href=\\\"http://blog.alexanderhiggins.com/2012/03/02/war-russia-greenlights-invasion-abandons-iran-syria-89452/comment-page-1/#comment-1613292\\\">War On: Russia Green-lights Invasion, Abandons Iran and Syria</a></li><li class=\\\"recentcomments\\\"><a href='http://blog.alexanderhiggins.com/2012/03/10/germany-european-constitution-centers-power-world-93642/' rel='external nofollow' class='url'>Germany Wants New European Constitution: \\\"There Are New Centers Of Power In The World.\\\"</a> on <a href=\\\"http://blog.alexanderhiggins.com/2011/08/22/germany-demands-extensive-surrender-national-fiscal-sovereignty-secure-bailouts-63051/comment-page-1/#comment-1613272\\\">Is The US Next? Germany Demands &#8220;Extensive Surrender Of National Fiscal Sovereignty&#8221; To Secure Bailouts</a></li><li class=\\\"recentcomments\\\"><a href='http://blog.alexanderhiggins.com/2012/03/10/germany-european-constitution-centers-power-world-93642/' rel='external nofollow' class='url'>Germany Wants New European Constitution: \\\"There Are New Centers Of Power In The World.\\\"</a> on <a href=\\\"http://blog.alexanderhiggins.com/2011/08/22/german-finance-minister-attacks-extremely-high-debt-level-62301/comment-page-1/#comment-1613262\\\">German Finance Minister Attacks U.S. For Extremely High Debt Levels</a></li><li class=\\\"recentcomments\\\"><a href='http://censoredrickreuben.blogspot.com/2012/03/event.html?m=1' rel='external nofollow' class='url'>Rick Reuben's Censored Posts: EVENT</a> on <a href=\\\"http://blog.alexanderhiggins.com/2012/03/09/breaking-isda-credit-event-occurred-greece-cds-triggered-92862/comment-page-1/#comment-1613222\\\">Breaking: ISDA Credit Event Has Occurred In Greece, CDS Triggered</a></li></ul></li><!-- widget_calendar --><li id=\\\"calendar-3\\\" class=\\\"widget widget_calendar\\\"><h4 class=\\\"widgettitle\\\">Browse Posts By Date</h4><div id=\\\"calendar_wrap\\\"><table id=\\\"wp-calendar\\\">\\n\\t<caption>March 2012</caption>\\n\\t<thead>\\n\\t<tr>\\n\\t\\t<th scope=\\\"col\\\" title=\\\"Monday\\\">M</th>\\n\\t\\t<th scope=\\\"col\\\" title=\\\"Tuesday\\\">T</th>\\n\\t\\t<th scope=\\\"col\\\" title=\\\"Wednesday\\\">W</th>\\n\\t\\t<th scope=\\\"col\\\" title=\\\"Thursday\\\">T</th>\\n\\t\\t<th scope=\\\"col\\\" title=\\\"Friday\\\">F</th>\\n\\t\\t<th scope=\\\"col\\\" title=\\\"Saturday\\\">S</th>\\n\\t\\t<th scope=\\\"col\\\" title=\\\"Sunday\\\">S</th>\\n\\t</tr>\\n\\t</thead>\\n\\n\\t<tfoot>\\n\\t<tr>\\n\\t\\t<td colspan=\\\"3\\\" id=\\\"prev\\\"><a href=\\\"http://blog.alexanderhiggins.com/2012/02/\\\" title=\\\"View posts for February 2012\\\">&laquo; Feb</a></td>\\n\\t\\t<td class=\\\"pad\\\">&nbsp;</td>\\n\\t\\t<td colspan=\\\"3\\\" id=\\\"next\\\" class=\\\"pad\\\">&nbsp;</td>\\n\\t</tr>\\n\\t</tfoot>\\n\\n\\t<tbody>\\n\\t<tr>\\n\\t\\t<td colspan=\\\"3\\\" class=\\\"pad\\\">&nbsp;</td><td><a href=\\\"http://blog.alexanderhiggins.com/2012/03/01/\\\" title=\\\"OWS stirs after winter freeze, Day of action results in 10 arrests (PHOTOS), Syrian Rebels Retreat From Homs To Secure Western Arms, New Study Says Japan &#8216;Lucky&#8217; to Avoid Nuclear Meltdown, New Iran Nuclear Policy Will &#8220;Almost Surely Require A War&#8221;, UK Following Steps Used To Sack Libya In Syria, Israeli Officials Call for Starving Millions of Iranians, Japan Covered Up Fukushima In Fear Of International Military Occupation, CNN: Vets Feel Abandoned After Secret Military Psycho-Chemical Experiments, Plume-Gate: Media Silent Over Feds Fukushima Coverup, Barclays: &#8216;Oil prices may hit $200 if Iran attacked&#8217;, Two 30-second MTV ads warn Americans what NDAA authorizes under &#8216;law&#8217;, Explosions Destroy Saudi Oil Pipeline, Sends Oil Prices Soaring, MSNBC: Saudi Arabia Tied To 9/11 Attacks, Megaupload Founder Slams US Government For Protecting Monopolies, Congress: Iran Arming Mexico Drug Cartels And Smuggling Drugs Into US, Report: 120 French Troops Supporting Syria Rebels Captured\\\">1</a></td><td><a href=\\\"http://blog.alexanderhiggins.com/2012/03/02/\\\" title=\\\"Sorry Gates: GMO Crops Proven to be Ineffective at Fighting World Hunger, Saudi Unrest Will Trigger Further Oil Price Hikes, War On: Russia Freezes Iran Embassy Accounts, War On: Russia Green-lights Invasion, Abandons Iran and Syria, OVER 50 Reported Tornadoes \\u2013 Entire Towns Gone, ACLU Sues US Over Targeted Assassinations Of US Citizens, Moody\\u2019s Downgrades Greece, Warns &#8216;Debt Plan May Constitute Default&#8217;\\\">2</a></td><td><a href=\\\"http://blog.alexanderhiggins.com/2012/03/03/\\\" title=\\\"Powerful Message To &#8220;Anticapitalist&#8221; Vandals, Mitt Romney Confronted On NDAA, Secret Service Gets Upset, Tokyo Bay Radioactive Cesium Deposits Now Over 10 Inches Deep, How to Survive Nuclear Holocaust, The 3 AM Call Panetta Fears The Most, New Terror Laws Feed All Your Private Messages To Big Brother, GM Halts Chevy Volt Production After ZeroHedge Exposes Accounting Fraud, CNN: Hackers seized control of NASA computers, Every Year $4 Billion Of Your Tax Dollars Go To Subsidizing The Oil Industry, Romney Loves Government Money! Bragging To Board Room That He Can Get It!, They&#8217;re Back! OWS 2.0: American Spring 2012 Set To Begin, Syria Rebels Recieve $100 Million Donation To Buy Weapons\\\">3</a></td><td><a href=\\\"http://blog.alexanderhiggins.com/2012/03/04/\\\" title=\\\"Air Force Preps Bombers, Warns &#8216;Nuclear Deterrence Fundamental To National Security&#8217;\\\">4</a></td>\\n\\t</tr>\\n\\t<tr>\\n\\t\\t<td><a href=\\\"http://blog.alexanderhiggins.com/2012/03/05/\\\" title=\\\"8 of 17 children In Fukushima Nuclear Hotspots Have Atypical Lymphocyte, Complete Greek Default Imminent &#8211; 1 Year Bond Soars To 1006%, AIG, Now 77% Government Owned Needs 6 Billion More, UN: US treatment of Manning &#8216;cruel&#8217;, Watch: Rick Santorum Heckled At Oklahoma Campaign Rally, McCain Calls for Bombing Syria &#8216;We Should Have Learned From Libya&#8217;, Pentagon Cheats On $1 Trillion Stealth Fighter&#8217;s Key Performance Test, Holder: Targeted Killings Of US Citizens &#8216;Not Assassination&#8217;, UK Police Given Unchecked License To Kill\\\">5</a></td><td><a href=\\\"http://blog.alexanderhiggins.com/2012/03/06/\\\" title=\\\"US Attorney General Justifies Secret Assassinations of US Citizens, Greece Scammed By Goldman While Trying To Meet EU Financial Terms, General Warns Of Syria Bioweapons, Here&#8217;s The Top 5\\\">6</a></td><td><a href=\\\"http://blog.alexanderhiggins.com/2012/03/07/\\\" title=\\\"Caught: Staged CNN Syria Interviews Faked By Activist Danny, LulzSec Indictment Reveals WikiLeaks Stratfor Emails Came From FBI, NOAA Alert: Massive Solar Radiation Radio Blackout Continues, FBI Tries To Coax Muslim Into Bombing US Capitol, $1 Billion TSA Nude Body Scanners Easily Beat By Blogger, US assassination drone crashes in Somalia, Russia Blasts NATO For Libya War Crimes, Libya For Training Syrian Rebels, New Spy App Sends Pics, Suspicous Activity To Police, Obama Set To Sign Protest Banning &#8220;Trespass Bill&#8221; Into Law, FBI Arrests MOST FEARED Member Of The National Security Threat Anonymous, Switzerland Wants Its Gold Back From The New York Fed, Ugliest Carpet Contest &#8211; Need Your Votes On Facebook To Win New Carpet, NBC Interview: Please stop this inhuman treatment for the people living in Fukushima\\\">7</a></td><td><a href=\\\"http://blog.alexanderhiggins.com/2012/03/08/\\\" title=\\\"US Confirmed A &#8216;Fascist Assassination Nation&#8217; By AG Speech, EU MP Nigel Farage: \\u2018War on Terror is War on Liberty\\u2019, Mitt Romney &#8220;We&#8217;ll Get Rid Of Funding For Plan Parenthood&#8221;, WARNING! MERCURY FOUND IN BEAUTY CREAMS &amp; MAKEUP!, Oil Prices Rising Again, Up Above $106 After Report, Pentagon Reveals Syria War Plans Following Obama&#8217;s Request, Secret Warning of Military Strike Against Syria Issued?, Increasing Number Of Radioactive Fish, Including Alaskan Pollack, Exported From Japan, Congressmen Announce Bill To Repeal NDAA Infinite Detention, Torture, Hedge Funds Find Loophole To Force Greece Default, Exposing Kony 2012: phony youth movement promotes US military presence in Africa, High Pay Beef Industry Job For Official Who Approved Ammonia Treated \\u201cPink Slime\\u201d, Legal Experts Destroy Rationale for Obama\\u2019s Assassination Policy\\\">8</a></td><td><a href=\\\"http://blog.alexanderhiggins.com/2012/03/09/\\\" title=\\\"Breaking: ISDA Credit Event Has Occurred In Greece, CDS Triggered, Greece Officially Defaults, UK Prepares For Euro Collapse, Rick Santorum Fail: Not Enough Signatures To Make Ballot, Dylan Ratigan On America&#8217;s Perpetual State Of War, Woman in the military: beaten, raped, murdered and set on fire, Highest Radiation Levels Since Fukushima Disaster Recorded in Los Angeles, CA\\\">9</a></td><td id=\\\"today\\\"><a href=\\\"http://blog.alexanderhiggins.com/2012/03/10/\\\" title=\\\"Society\\u2019s Five Stages of Economic Collapse, Julian Assange WikiLeaks MSM Profile &#8211; 4 Part Video Series, Chinese Hackers Infiltrate 23 US Spacecraft, NASA Jet Propulsion Labs, Did BP Permanently Rip Open the Gulf Sea Floor Around The Macondo Well?, NATO Game Over 2012 &#8211; Activists Plan to Occupy NATO Headquarters, Germany Wants New European Constitution: &#8220;There Are New Centers Of Power In The World.&#8221;\\\">10</a></td><td>11</td>\\n\\t</tr>\\n\\t<tr>\\n\\t\\t<td>12</td><td>13</td><td>14</td><td>15</td><td>16</td><td>17</td><td>18</td>\\n\\t</tr>\\n\\t<tr>\\n\\t\\t<td>19</td><td>20</td><td>21</td><td>22</td><td>23</td><td>24</td><td>25</td>\\n\\t</tr>\\n\\t<tr>\\n\\t\\t<td>26</td><td>27</td><td>28</td><td>29</td><td>30</td><td>31</td>\\n\\t\\t<td class=\\\"pad\\\" colspan=\\\"1\\\">&nbsp;</td>\\n\\t</tr>\\n\\t</tbody>\\n\\t</table></div></li><!-- widget_archive --><li id=\\\"archives-3\\\" class=\\\"widget widget_archive\\\"><h4 class=\\\"widgettitle\\\">Archives</h4>\\t\\t<ul>\\n\\t\\t\\t<li><a href='http://blog.alexanderhiggins.com/2012/03/' title='March 2012'>March 2012</a></li>\\n\\t<li><a href='http://blog.alexanderhiggins.com/2012/02/' title='February 2012'>February 2012</a></li>\\n\\t<li><a href='http://blog.alexanderhiggins.com/2012/01/' title='January 2012'>January 2012</a></li>\\n\\t<li><a href='http://blog.alexanderhiggins.com/2011/12/' title='December 2011'>December 2011</a></li>\\n\\t<li><a href='http://blog.alexanderhiggins.com/2011/11/' title='November 2011'>November 2011</a></li>\\n\\t<li><a href='http://blog.alexanderhiggins.com/2011/10/' title='October 2011'>October 2011</a></li>\\n\\t<li><a href='http://blog.alexanderhiggins.com/2011/09/' title='September 2011'>September 2011</a></li>\\n\\t<li><a href='http://blog.alexanderhiggins.com/2011/08/' title='August 2011'>August 2011</a></li>\\n\\t<li><a href='http://blog.alexanderhiggins.com/2011/07/' title='July 2011'>July 2011</a></li>\\n\\t<li><a href='http://blog.alexanderhiggins.com/2011/06/' title='June 2011'>June 2011</a></li>\\n\\t<li><a href='http://blog.alexanderhiggins.com/2011/05/' title='May 2011'>May 2011</a></li>\\n\\t<li><a href='http://blog.alexanderhiggins.com/2011/04/' title='April 2011'>April 2011</a></li>\\n\\t<li><a href='http://blog.alexanderhiggins.com/2011/03/' title='March 2011'>March 2011</a></li>\\n\\t<li><a href='http://blog.alexanderhiggins.com/2011/02/' title='February 2011'>February 2011</a></li>\\n\\t<li><a href='http://blog.alexanderhiggins.com/2011/01/' title='January 2011'>January 2011</a></li>\\n\\t<li><a href='http://blog.alexanderhiggins.com/2010/12/' title='December 2010'>December 2010</a></li>\\n\\t<li><a href='http://blog.alexanderhiggins.com/2010/11/' title='November 2010'>November 2010</a></li>\\n\\t<li><a href='http://blog.alexanderhiggins.com/2010/10/' title='October 2010'>October 2010</a></li>\\n\\t<li><a href='http://blog.alexanderhiggins.com/2010/09/' title='September 2010'>September 2010</a></li>\\n\\t<li><a href='http://blog.alexanderhiggins.com/2010/08/' title='August 2010'>August 2010</a></li>\\n\\t<li><a href='http://blog.alexanderhiggins.com/2010/07/' title='July 2010'>July 2010</a></li>\\n\\t<li><a href='http://blog.alexanderhiggins.com/2010/06/' title='June 2010'>June 2010</a></li>\\n\\t<li><a href='http://blog.alexanderhiggins.com/2010/05/' title='May 2010'>May 2010</a></li>\\n\\t<li><a href='http://blog.alexanderhiggins.com/2010/04/' title='April 2010'>April 2010</a></li>\\n\\t<li><a href='http://blog.alexanderhiggins.com/2009/11/' title='November 2009'>November 2009</a></li>\\n\\t<li><a href='http://blog.alexanderhiggins.com/2008/07/' title='July 2008'>July 2008</a></li>\\n\\t\\t</ul>\\n</li><!-- widget_twitter --><li id=\\\"twitter-1\\\" class=\\\"widget widget_twitter\\\"><h4 class=\\\"widgettitle\\\"><a href=\\\"http://twitter.com/kr3at\\\" class=\\\"twitter_title_link\\\">Latest twitter Posts</a></h4><ul class=\\\"twitter\\\"><li class=\\\"twitter-item\\\"> US: Turning war-fear into warfare <a href=\\\"http://t.co/GTSa8vha\\\" class=\\\"twitter-link\\\">http://t.co/GTSa8vha</a>\\n via <a href=\\\"http://twitter.com/kr3at\\\" class=\\\"twitter-user\\\">@kr3at</a> headlines </li><li class=\\\"twitter-item\\\"> Germany Wants New European Constitution: ?\\u0080\\u009cThere Are New Centers Of Power In The World.?\\u0080\\u009d <a href=\\\"http://t.co/hgqT0LjB\\\" class=\\\"twitter-link\\\">http://t.co/hgqT0LjB</a>\\n via <a href=\\\"http://twitter.com/kr3at\\\" class=\\\"twitter-user\\\">@kr3at</a> headlines </li><li class=\\\"twitter-item\\\"> US Senator Urges Naval Blockade of Iran Oil <a href=\\\"http://t.co/EewGZYxA\\\" class=\\\"twitter-link\\\">http://t.co/EewGZYxA</a>\\n via <a href=\\\"http://twitter.com/kr3at\\\" class=\\\"twitter-user\\\">@kr3at</a> headlines </li><li class=\\\"twitter-item\\\"> Iran Oil Ban to Hit 10 Main Crude Importers Hardest <a href=\\\"http://t.co/MwzV6ylH\\\" class=\\\"twitter-link\\\">http://t.co/MwzV6ylH</a>\\n via <a href=\\\"http://twitter.com/kr3at\\\" class=\\\"twitter-user\\\">@kr3at</a> headlines </li><li class=\\\"twitter-item\\\"> The (naked) short-selling of Liberty <a href=\\\"http://t.co/uVVujbH5\\\" class=\\\"twitter-link\\\">http://t.co/uVVujbH5</a>\\n via <a href=\\\"http://twitter.com/kr3at\\\" class=\\\"twitter-user\\\">@kr3at</a> headlines </li><li class=\\\"twitter-item\\\"> NATO Game Over 2012 ?\\u0080\\u0093 Activists Plan to Occupy NATO Headquarters <a href=\\\"http://t.co/V3cJx4Ht\\\" class=\\\"twitter-link\\\">http://t.co/V3cJx4Ht</a>\\n via <a href=\\\"http://twitter.com/kr3at\\\" class=\\\"twitter-user\\\">@kr3at</a> headlines </li><li class=\\\"twitter-item\\\"> Bahraini forces kill 21-year-old protester <a href=\\\"http://t.co/p7Jwzn0p\\\" class=\\\"twitter-link\\\">http://t.co/p7Jwzn0p</a>\\n via <a href=\\\"http://twitter.com/kr3at\\\" class=\\\"twitter-user\\\">@kr3at</a> headlines </li><li class=\\\"twitter-item\\\"> 'Bahraini opposition outsmarts regime' <a href=\\\"http://t.co/qr4cM4DF\\\" class=\\\"twitter-link\\\">http://t.co/qr4cM4DF</a>\\n via <a href=\\\"http://twitter.com/kr3at\\\" class=\\\"twitter-user\\\">@kr3at</a> headlines </li><li class=\\\"twitter-item\\\"> UK in temporary truce with WikiLeaks <a href=\\\"http://t.co/eOQtxXGs\\\" class=\\\"twitter-link\\\">http://t.co/eOQtxXGs</a>\\n via <a href=\\\"http://twitter.com/kr3at\\\" class=\\\"twitter-user\\\">@kr3at</a> headlines </li><li class=\\\"twitter-item\\\"> Germany Wants New European Constitution: \\\"There Are New Centers Of Power In The World.\\\" <a href=\\\"http://t.co/hgqT0LjB\\\" class=\\\"twitter-link\\\">http://t.co/hgqT0LjB</a> </li></ul></li><script type=\\\"text/javascript\\\" src=\\\"http://feedjit.com/serve/?wid=2251d206d0c6c7bf&amp;pid=c34aa86ee85e38a1&amp;proid=0&amp;vv=932&amp;dd=&amp;bc=FFFFFF&amp;tc=000000&amp;brd1=012B6B&amp;lnk=135D9E&amp;hc=FFFFFF&amp;hfc=2853A8&amp;btn=C99700&amp;ww=300&amp;tft=3\\\"></script><noscript><a href=\\\"http://feedjit.com/\\\">Feedjit Live Traffic Feed</a></noscript>\\t\\t\\t</ul>\\r\\n\\t\\t\\t\\r\\n\\t\\t</div> <!-- id=\\\"bottom-widebar\\\" -->\\r\\n\\t \\r\\n\\t</div> <!-- id=\\\"sidebar-wrapper\\\" -->\\r\\n\\t\\r\\n\\t<div class=\\\"clearFloat\\\"></div>\\r\\n\\r\\n<!--\\r\\nEnd of sidebar.php\\r\\n~~~ -->\\t\\r\\n</div> <!-- id=\\\"page-body-wrapper\\\" -->\\r\\n\\r\\n\\r\\n<!--\\r\\nfooter.php\\r\\n~~~~~~~~~~~~~~~~~~~~~~~~ ~~~ -->\\r\\n<div class=\\\"clearFloat\\\"></div>\\r\\n\\r\\n\\r\\n<!-- \\r\\nFooters Left and Right\\r\\n~~~ -->\\r\\n\\t<div id=\\\"footer\\\">\\r\\n\\t\\t<div id=\\\"footer-content\\\">\\r\\n\\t\\t\\t<div id=\\\"footer-content-left\\\">\\t\\r\\n\\t\\t\\t\\t\\t\\t\\t</div> <!-- id=\\\"footer-content-left\\\" -->\\r\\n\\t\\t\\t<div id=\\\"footer-content-right\\\">\\t\\r\\n\\t\\t\\t\\t\\t\\t\\t</div> <!-- id=\\\"footer-content-right\\\" -->\\r\\n\\t\\t</div> <!-- \\\"footer-content\\\" -->\\r\\n\\t</div> <!-- id=\\\"footer\\\" -->\\r\\n\\t\\r\\n\\t<div class=\\\"clearFloat\\\"></div>\\r\\n      \\r\\n<!-- \\r\\nSub Footers Left and Right\\r\\n~~~ -->  \\r\\n\\t<div id=\\\"sub-footer\\\">\\r\\n\\t\\t<div id=\\\"sub-footer-content\\\">\\r\\n\\t\\t\\t<div id=\\\"sub-footer-content-left\\\">\\t\\r\\n\\t\\t\\t\\t\\t\\t\\t</div> <!-- id=\\\"sub-footer-content-left\\\" -->\\r\\n\\t\\t\\t<div id=\\\"sub-footer-content-right\\\">\\t\\r\\n\\t\\t\\t\\t<p>Copyright &copy;2010 <a href=\\\"http://www.alexanderhiggins.com\\\">Alexander Higgins</a></p>\\t\\t\\t</div> <!-- id=\\\"sub-footer-content-right\\\" -->\\r\\n\\t\\t</div> <!-- id=\\\"sub-footer-content\\\" -->  \\r\\n\\t</div> <!-- id=\\\"sub-footer\\\" -->\\r\\n\\t\\r\\n\\t<div class=\\\"clearFloat\\\"></div>\\r\\n\\r\\n</div> <!-- id=\\\"sub-footer\\\" -->\\r\\n\\r\\n\\t\\t\\r\\n<!-- \\r\\nGoogle Analytics\\r\\n~~~ -->\\t\\r\\n\\t<script type=\\\"text/javascript\\\" src=\\\"http://www.google-analytics.com/ga.js\\\" type='text/javascript'></script>\\r\\n\\r\\n<script type=\\\"text/javascript\\\">\\r\\ntry {\\r\\nvar pageTracker = _gat._getTracker(\\\"UA-986748-3\\\");\\r\\npageTracker._trackPageview();\\r\\n} catch(err) {}</script>\\t<!--\\n<p style=\\\"text-align:center\\\" class=\\\"yd_linkware\\\"><small><a href=\\\"http://www.yann.com/en/wp-plugins/yd-feedwordpress-content-filter\\\">Featuring YD Feedwordpress Content Filter Plugin</a></small></p>\\n--><script type='text/javascript' src='http://s.gravatar.com/js/gprofiles.js?aa&#038;ver=3.3.1'></script>\\n<script type='text/javascript'>\\n/* <![CDATA[ */\\nvar WPGroHo = {\\\"my_hash\\\":\\\"\\\"};\\n/* ]]> */\\n</script>\\n<script type='text/javascript' src='http://cdn1.alexanderhiggins.com/wp-content/plugins/jetpack/modules/wpgroho.js?ver=3.3.1'></script>\\n\\t<div style=\\\"display:none\\\">\\n\\t</div>\\n\\n<!-- KRAMER DEBUG INFO \\n\\nNo post ID found for http://blog.alexanderhiggins.com/tags/libyan-revolution/\\n\\n\\n -->\\n<script type=\\\"text/javascript\\\" src=\\\"http://www.assoc-amazon.com/s/link-enhancer?tag=alumfoil-20&o=1\\\"></script><noscript><img src=\\\"http://www.assoc-amazon.com/s/noscript?tag=alumfoil-20\\\" alt=\\\"\\\" /></noscript>\\n\\t<script src=\\\"http://stats.wordpress.com/e-201210.js\\\" type=\\\"text/javascript\\\"></script>\\n\\t<script type=\\\"text/javascript\\\">\\n\\tst_go({v:'ext',j:'1:1.2.2',blog:'13402001',post:'0'});\\n\\tvar load_cmc = function(){linktracker_init(13402001,0,2);};\\n\\tif ( typeof addLoadEvent != 'undefined' ) addLoadEvent(load_cmc);\\n\\telse load_cmc();\\n\\t</script>\\t<!-- Number of Queries:11   Seconds: 0.175-->\\n\\t\\r\\n</body>\\r\\n<!--\\r\\nEnd of footer.php\\r\\n~~~ -->\\r\\n</html>\\r\\n\\r\\n\\t\\r\\n\\r\\n\\t\\r\\n<!--\\r\\nEnd of archive.php\\r\\n~~~ -->\\r\\n<!-- Served from: blog.alexanderhiggins.com via BEAST1 @ 2012-03-10 05:48:51 in 0.193 seconds  -->\",\n",
      "      \"html\":{\n",
      "        \"title\":\"<title>Libyan Revolution | Alexander Higgins Blog</title>\"\n",
      "      }\n",
      "    }\n",
      "  }\n",
      "}\n"
     ]
    }
   ],
   "source": [
    "println(strings.enrich(Title).filterExists(Title).take(1).head.toJsonString)"
   ]
  },
  {
   "cell_type": "code",
   "execution_count": 36,
   "metadata": {
    "collapsed": false
   },
   "outputs": [
    {
     "data": {
      "text/plain": [
       "{\n",
       "  \"record\":{\n",
       "    \"redirectUrl\":\"http://www.occupyunconference.net/\",\n",
       "    \"timestamp\":\"20120107070224\",\n",
       "    \"digest\":\"R6VHAQHS5EXFBMDGVORLPYH5HLNI7IWI\",\n",
       "    \"originalUrl\":\"https://www.facebook.com/l.php?u=http%3A%2F%2Fwww.occupyunconference.net&h=HAQEF5ZeO\",\n",
       "    \"surtUrl\":\"com,facebook)/l.php?h=haqef5zeo&u=http://www.occupyunconference.net\",\n",
       "    \"mime\":\"text/html\",\n",
       "    \"meta\":\"-\",\n",
       "    \"status\":200\n",
       "  }\n",
       "}"
      ]
     },
     "execution_count": 36,
     "metadata": {},
     "output_type": "execute_result"
    }
   ],
   "source": [
    "latest.take(1).head.toJsonString"
   ]
  },
  {
   "cell_type": "code",
   "execution_count": 37,
   "metadata": {
    "collapsed": false
   },
   "outputs": [
    {
     "data": {
      "text/plain": [
       "{\n",
       "  \"record\":{\n",
       "    \"redirectUrl\":\"-\",\n",
       "    \"timestamp\":\"20120310104855\",\n",
       "    \"digest\":\"TTTWXNBO4GKSXQTUXPWTOSVQ6BR4JQWU\",\n",
       "    \"originalUrl\":\"http://blog.alexanderhiggins.com/tags/libyan-revolution/\",\n",
       "    \"surtUrl\":\"com,alexanderhiggins,blog)/tags/libyan-revolution\",\n",
       "    \"mime\":\"text/html\",\n",
       "    \"meta\":\"I\",\n",
       "    \"status\":200\n",
       "  },\n",
       "  \"payload\":{\n",
       "    \"string\":{\n",
       "      \"html\":{\n",
       "        \"title\":\"<title>Libyan Revolution | Alexander Higgins Blog</title>\"\n",
       "      }\n",
       "    }\n",
       "  }\n",
       "}"
      ]
     },
     "execution_count": 37,
     "metadata": {},
     "output_type": "execute_result"
    }
   ],
   "source": [
    "latest.enrich(Title).filterExists(Title).take(1).head.toJsonString"
   ]
  },
  {
   "cell_type": "code",
   "execution_count": 38,
   "metadata": {
    "collapsed": true
   },
   "outputs": [],
   "source": [
    "val titles = latest.enrich(Title).filterExists(Title)"
   ]
  },
  {
   "cell_type": "code",
   "execution_count": 39,
   "metadata": {
    "collapsed": false
   },
   "outputs": [
    {
     "name": "stdout",
     "output_type": "stream",
     "text": [
      "{\n",
      "  \"record\":{\n",
      "    \"redirectUrl\":\"-\",\n",
      "    \"timestamp\":\"20120310104855\",\n",
      "    \"digest\":\"TTTWXNBO4GKSXQTUXPWTOSVQ6BR4JQWU\",\n",
      "    \"originalUrl\":\"http://blog.alexanderhiggins.com/tags/libyan-revolution/\",\n",
      "    \"surtUrl\":\"com,alexanderhiggins,blog)/tags/libyan-revolution\",\n",
      "    \"mime\":\"text/html\",\n",
      "    \"meta\":\"I\",\n",
      "    \"status\":200\n",
      "  },\n",
      "  \"payload\":{\n",
      "    \"string\":{\n",
      "      \"html\":{\n",
      "        \"title\":\"<title>Libyan Revolution | Alexander Higgins Blog</title>\"\n",
      "      }\n",
      "    }\n",
      "  }\n",
      "}\n"
     ]
    }
   ],
   "source": [
    "println(titles.take(1).head.toJsonString)"
   ]
  },
  {
   "cell_type": "code",
   "execution_count": 40,
   "metadata": {
    "collapsed": false
   },
   "outputs": [
    {
     "data": {
      "text/plain": [
       "{\n",
       "  \"record\":{\n",
       "    \"redirectUrl\":\"-\",\n",
       "    \"timestamp\":\"20120310104855\",\n",
       "    \"digest\":\"TTTWXNBO4GKSXQTUXPWTOSVQ6BR4JQWU\",\n",
       "    \"originalUrl\":\"http://blog.alexanderhiggins.com/tags/libyan-revolution/\",\n",
       "    \"surtUrl\":\"com,alexanderhiggins,blog)/tags/libyan-revolution\",\n",
       "    \"mime\":\"text/html\",\n",
       "    \"meta\":\"I\",\n",
       "    \"status\":200\n",
       "  },\n",
       "  \"payload\":{\n",
       "    \"string\":{\n",
       "      \"html\":{\n",
       "        \"title\":\"<title>Libyan Revolution | Alexander Higgins Blog</title>\",\n",
       "        \"body\":{\n",
       "          \"text\":\"Alexander Higgins Blog The Latest Buzz, Analysis, and News Without the Snooze! Home Headlines Authors About Subscribe, Friend or Follow Advertise Economy Environment Headlines Health Member Submitted Middle East Projects Society Technology The Alexander Higgins Show Uncategorized US Videos Web ..."
      ]
     },
     "execution_count": 40,
     "metadata": {},
     "output_type": "execute_result"
    }
   ],
   "source": [
    "titles.enrich(HtmlText).take(1).head.toJsonString"
   ]
  },
  {
   "cell_type": "code",
   "execution_count": 41,
   "metadata": {
    "collapsed": false
   },
   "outputs": [
    {
     "data": {
      "text/plain": [
       "{\n",
       "  \"record\":{\n",
       "    \"redirectUrl\":\"-\",\n",
       "    \"timestamp\":\"20120310104855\",\n",
       "    \"digest\":\"TTTWXNBO4GKSXQTUXPWTOSVQ6BR4JQWU\",\n",
       "    \"originalUrl\":\"http://blog.alexanderhiggins.com/tags/libyan-revolution/\",\n",
       "    \"surtUrl\":\"com,alexanderhiggins,blog)/tags/libyan-revolution\",\n",
       "    \"mime\":\"text/html\",\n",
       "    \"meta\":\"I\",\n",
       "    \"status\":200\n",
       "  },\n",
       "  \"payload\":{\n",
       "    \"string\":{\n",
       "      \"html\":{\n",
       "        \"title\":{\n",
       "          \"_\":\"<title>Libyan Revolution | Alexander Higgins Blog</title>\",\n",
       "          \"text\":\"Libyan Revolution | Alexander Higgins Blog\"\n",
       "        }\n",
       "      }\n",
       "    }\n",
       "  }\n",
       "}"
      ]
     },
     "execution_count": 41,
     "metadata": {},
     "output_type": "execute_result"
    }
   ],
   "source": [
    "titles.enrich(HtmlText.of(Title)).take(1).head.toJsonString"
   ]
  },
  {
   "cell_type": "code",
   "execution_count": 42,
   "metadata": {
    "collapsed": true
   },
   "outputs": [],
   "source": [
    "val TitleText = HtmlText.of(Html.first(\"title\"))"
   ]
  },
  {
   "cell_type": "code",
   "execution_count": 43,
   "metadata": {
    "collapsed": false
   },
   "outputs": [
    {
     "name": "stdout",
     "output_type": "stream",
     "text": [
      "Libyan Revolution | Alexander Higgins Blog\n",
      "Changes related to Turning of the Tide (20-5-1996) /Video index - Talk2000.NL\n",
      "Toxicology | Alexander Higgins Blog\n",
      "#OCCUPY | OCCUPY PIX - Part 50\n",
      "Soundboard\n",
      "Alicia MarMar - Google Profile\n",
      "Demands | Forum | NYC General Assembly # Occupy Wall Street\n",
      "Sign up | Tumblr\n",
      "Forum Post: they are coming home | OccupyWallSt.org\n",
      "Google Groups\n"
     ]
    }
   ],
   "source": [
    "titles.mapValues(TitleText).take(10).foreach(println)"
   ]
  },
  {
   "cell_type": "code",
   "execution_count": 44,
   "metadata": {
    "collapsed": false
   },
   "outputs": [
    {
     "data": {
      "text/plain": [
       "{\n",
       "  \"record\":{\n",
       "    \"redirectUrl\":\"-\",\n",
       "    \"timestamp\":\"20120310104855\",\n",
       "    \"digest\":\"TTTWXNBO4GKSXQTUXPWTOSVQ6BR4JQWU\",\n",
       "    \"originalUrl\":\"http://blog.alexanderhiggins.com/tags/libyan-revolution/\",\n",
       "    \"surtUrl\":\"com,alexanderhiggins,blog)/tags/libyan-revolution\",\n",
       "    \"mime\":\"text/html\",\n",
       "    \"meta\":\"I\",\n",
       "    \"status\":200\n",
       "  },\n",
       "  \"payload\":{\n",
       "    \"string\":{\n",
       "      \"html\":{\n",
       "        \"title\":{\n",
       "          \"_\":\"<title>Libyan Revolution | Alexander Higgins Blog</title>\",\n",
       "          \"text\":{\n",
       "            \"tokens\":[\n",
       "              \"Libyan\",\n",
       "              \"Revolution\",\n",
       "              \"|\",\n",
       "              \"Alexander\",\n",
       "              \"Higgins\",\n",
       "              \"Blog\"\n",
       "            ]\n",
       "          }\n",
       "        }\n",
       "      }\n",
       "    }\n",
       "  }\n",
       "}"
      ]
     },
     "execution_count": 44,
     "metadata": {},
     "output_type": "execute_result"
    }
   ],
   "source": [
    "titles.mapEnrich(TitleText, \"tokens\") {t => t.split(\" \")}.take(1).head.toJsonString"
   ]
  },
  {
   "cell_type": "code",
   "execution_count": 45,
   "metadata": {
    "collapsed": false
   },
   "outputs": [
    {
     "data": {
      "text/plain": [
       "{\n",
       "  \"record\":{\n",
       "    \"redirectUrl\":\"-\",\n",
       "    \"timestamp\":\"20120310104855\",\n",
       "    \"digest\":\"TTTWXNBO4GKSXQTUXPWTOSVQ6BR4JQWU\",\n",
       "    \"originalUrl\":\"http://blog.alexanderhiggins.com/tags/libyan-revolution/\",\n",
       "    \"surtUrl\":\"com,alexanderhiggins,blog)/tags/libyan-revolution\",\n",
       "    \"mime\":\"text/html\",\n",
       "    \"meta\":\"I\",\n",
       "    \"status\":200\n",
       "  },\n",
       "  \"payload\":{\n",
       "    \"string\":{\n",
       "      \"html\":{\n",
       "        \"title\":{\n",
       "          \"_\":\"<title>Libyan Revolution | Alexander Higgins Blog</title>\",\n",
       "          \"text\":{\n",
       "            \"entities\":{\n",
       "              \"persons\":[\n",
       "                \"Alexander\",\n",
       "                \"Higgins\",\n",
       "                \"Blog\"\n",
       "              ],\n",
       "              \"organizations\":[\n",
       "                \n",
       "              ],\n",
       "              \"locations\":[\n",
       "                \n",
       "              ],\n",
       "              \"dates..."
      ]
     },
     "execution_count": 45,
     "metadata": {},
     "output_type": "execute_result"
    }
   ],
   "source": [
    "titles.enrich(Entities.of(TitleText)).take(1).head.toJsonString"
   ]
  },
  {
   "cell_type": "code",
   "execution_count": 46,
   "metadata": {
    "collapsed": false
   },
   "outputs": [
    {
     "data": {
      "text/plain": [
       "{\n",
       "  \"record\":{\n",
       "    \"redirectUrl\":\"-\",\n",
       "    \"timestamp\":\"20120310104855\",\n",
       "    \"digest\":\"TTTWXNBO4GKSXQTUXPWTOSVQ6BR4JQWU\",\n",
       "    \"originalUrl\":\"http://blog.alexanderhiggins.com/tags/libyan-revolution/\",\n",
       "    \"surtUrl\":\"com,alexanderhiggins,blog)/tags/libyan-revolution\",\n",
       "    \"mime\":\"text/html\",\n",
       "    \"meta\":\"I\",\n",
       "    \"status\":200\n",
       "  },\n",
       "  \"payload\":{\n",
       "    \"string\":{\n",
       "      \"html\":{\n",
       "        \"title\":{\n",
       "          \"_\":\"<title>Libyan Revolution | Alexander Higgins Blog</title>\",\n",
       "          \"text\":{\n",
       "            \"entities\":{\n",
       "              \"persons\":[\n",
       "                \"Alexander\",\n",
       "                \"Higgins\",\n",
       "                \"Blog\"\n",
       "              ],\n",
       "              \"organizations\":[\n",
       "                \n",
       "              ],\n",
       "              \"locations\":[\n",
       "                \n",
       "              ],\n",
       "              \"dates..."
      ]
     },
     "execution_count": 46,
     "metadata": {},
     "output_type": "execute_result"
    }
   ],
   "source": [
    "val TitleEntities = Entities.of(TitleText)\n",
    "val entities = titles.enrich(TitleEntities)\n",
    "entities.take(1).head.toJsonString"
   ]
  },
  {
   "cell_type": "code",
   "execution_count": 47,
   "metadata": {
    "collapsed": false
   },
   "outputs": [
    {
     "data": {
      "text/plain": [
       "Name: org.apache.hadoop.mapred.FileAlreadyExistsException\n",
       "Message: Output directory hdfs://nn-ia.s3s.altiscale.com:8020/user/holzmann/entities.gz already exists\n",
       "StackTrace: org.apache.hadoop.mapred.FileOutputFormat.checkOutputSpecs(FileOutputFormat.java:131)\n",
       "org.apache.spark.rdd.PairRDDFunctions$$anonfun$saveAsHadoopDataset$1.apply$mcV$sp(PairRDDFunctions.scala:1179)\n",
       "org.apache.spark.rdd.PairRDDFunctions$$anonfun$saveAsHadoopDataset$1.apply(PairRDDFunctions.scala:1156)\n",
       "org.apache.spark.rdd.PairRDDFunctions$$anonfun$saveAsHadoopDataset$1.apply(PairRDDFunctions.scala:1156)\n",
       "org.apache.spark.rdd.RDDOperationScope$.withScope(RDDOperationScope.scala:150)\n",
       "org.apache.spark.rdd.RDDOperationScope$.withScope(RDDOperationScope.scala:111)\n",
       "org.apache.spark.rdd.RDD.withScope(RDD.scala:316)\n",
       "org.apache.spark.rdd.PairRDDFunctions.saveAsHadoopDataset(PairRDDFunctions.scala:1156)\n",
       "org.apache.spark.rdd.PairRDDFunctions$$anonfun$saveAsHadoopFile$4.apply$mcV$sp(PairRDDFunctions.scala:1060)\n",
       "org.apache.spark.rdd.PairRDDFunctions$$anonfun$saveAsHadoopFile$4.apply(PairRDDFunctions.scala:1026)\n",
       "org.apache.spark.rdd.PairRDDFunctions$$anonfun$saveAsHadoopFile$4.apply(PairRDDFunctions.scala:1026)\n",
       "org.apache.spark.rdd.RDDOperationScope$.withScope(RDDOperationScope.scala:150)\n",
       "org.apache.spark.rdd.RDDOperationScope$.withScope(RDDOperationScope.scala:111)\n",
       "org.apache.spark.rdd.RDD.withScope(RDD.scala:316)\n",
       "org.apache.spark.rdd.PairRDDFunctions.saveAsHadoopFile(PairRDDFunctions.scala:1026)\n",
       "org.apache.spark.rdd.PairRDDFunctions$$anonfun$saveAsHadoopFile$3.apply$mcV$sp(PairRDDFunctions.scala:1007)\n",
       "org.apache.spark.rdd.PairRDDFunctions$$anonfun$saveAsHadoopFile$3.apply(PairRDDFunctions.scala:1007)\n",
       "org.apache.spark.rdd.PairRDDFunctions$$anonfun$saveAsHadoopFile$3.apply(PairRDDFunctions.scala:1007)\n",
       "org.apache.spark.rdd.RDDOperationScope$.withScope(RDDOperationScope.scala:150)\n",
       "org.apache.spark.rdd.RDDOperationScope$.withScope(RDDOperationScope.scala:111)\n",
       "org.apache.spark.rdd.RDD.withScope(RDD.scala:316)\n",
       "org.apache.spark.rdd.PairRDDFunctions.saveAsHadoopFile(PairRDDFunctions.scala:1006)\n",
       "org.apache.spark.rdd.PairRDDFunctions$$anonfun$saveAsHadoopFile$2.apply$mcV$sp(PairRDDFunctions.scala:964)\n",
       "org.apache.spark.rdd.PairRDDFunctions$$anonfun$saveAsHadoopFile$2.apply(PairRDDFunctions.scala:962)\n",
       "org.apache.spark.rdd.PairRDDFunctions$$anonfun$saveAsHadoopFile$2.apply(PairRDDFunctions.scala:962)\n",
       "org.apache.spark.rdd.RDDOperationScope$.withScope(RDDOperationScope.scala:150)\n",
       "org.apache.spark.rdd.RDDOperationScope$.withScope(RDDOperationScope.scala:111)\n",
       "org.apache.spark.rdd.RDD.withScope(RDD.scala:316)\n",
       "org.apache.spark.rdd.PairRDDFunctions.saveAsHadoopFile(PairRDDFunctions.scala:962)\n",
       "org.apache.spark.rdd.RDD$$anonfun$saveAsTextFile$2.apply$mcV$sp(RDD.scala:1475)\n",
       "org.apache.spark.rdd.RDD$$anonfun$saveAsTextFile$2.apply(RDD.scala:1463)\n",
       "org.apache.spark.rdd.RDD$$anonfun$saveAsTextFile$2.apply(RDD.scala:1463)\n",
       "org.apache.spark.rdd.RDDOperationScope$.withScope(RDDOperationScope.scala:150)\n",
       "org.apache.spark.rdd.RDDOperationScope$.withScope(RDDOperationScope.scala:111)\n",
       "org.apache.spark.rdd.RDD.withScope(RDD.scala:316)\n",
       "org.apache.spark.rdd.RDD.saveAsTextFile(RDD.scala:1463)\n",
       "de.l3s.archivespark.implicits.classes.JsonConvertibleRDD.saveAsJson(JsonConvertibleRDD.scala:38)\n",
       "$line272.$read$$iwC$$iwC$$iwC$$iwC$$iwC$$iwC$$iwC$$iwC$$iwC$$iwC$$iwC$$iwC$$iwC$$iwC$$iwC$$iwC$$iwC.<init>(<console>:70)\n",
       "$line272.$read$$iwC$$iwC$$iwC$$iwC$$iwC$$iwC$$iwC$$iwC$$iwC$$iwC$$iwC$$iwC$$iwC$$iwC$$iwC$$iwC.<init>(<console>:75)\n",
       "$line272.$read$$iwC$$iwC$$iwC$$iwC$$iwC$$iwC$$iwC$$iwC$$iwC$$iwC$$iwC$$iwC$$iwC$$iwC$$iwC.<init>(<console>:77)\n",
       "$line272.$read$$iwC$$iwC$$iwC$$iwC$$iwC$$iwC$$iwC$$iwC$$iwC$$iwC$$iwC$$iwC$$iwC$$iwC.<init>(<console>:79)\n",
       "$line272.$read$$iwC$$iwC$$iwC$$iwC$$iwC$$iwC$$iwC$$iwC$$iwC$$iwC$$iwC$$iwC$$iwC.<init>(<console>:81)\n",
       "$line272.$read$$iwC$$iwC$$iwC$$iwC$$iwC$$iwC$$iwC$$iwC$$iwC$$iwC$$iwC$$iwC.<init>(<console>:83)\n",
       "$line272.$read$$iwC$$iwC$$iwC$$iwC$$iwC$$iwC$$iwC$$iwC$$iwC$$iwC$$iwC.<init>(<console>:85)\n",
       "$line272.$read$$iwC$$iwC$$iwC$$iwC$$iwC$$iwC$$iwC$$iwC$$iwC$$iwC.<init>(<console>:87)\n",
       "$line272.$read$$iwC$$iwC$$iwC$$iwC$$iwC$$iwC$$iwC$$iwC$$iwC.<init>(<console>:89)\n",
       "$line272.$read$$iwC$$iwC$$iwC$$iwC$$iwC$$iwC$$iwC$$iwC.<init>(<console>:91)\n",
       "$line272.$read$$iwC$$iwC$$iwC$$iwC$$iwC$$iwC$$iwC.<init>(<console>:93)\n",
       "$line272.$read$$iwC$$iwC$$iwC$$iwC$$iwC$$iwC.<init>(<console>:95)\n",
       "$line272.$read$$iwC$$iwC$$iwC$$iwC$$iwC.<init>(<console>:97)\n",
       "$line272.$read$$iwC$$iwC$$iwC$$iwC.<init>(<console>:99)\n",
       "$line272.$read$$iwC$$iwC$$iwC.<init>(<console>:101)\n",
       "$line272.$read$$iwC$$iwC.<init>(<console>:103)\n",
       "$line272.$read$$iwC.<init>(<console>:105)\n",
       "$line272.$read.<init>(<console>:107)\n",
       "$line272.$read$.<init>(<console>:111)\n",
       "$line272.$read$.<clinit>(<console>)\n",
       "$line272.$eval$.<init>(<console>:7)\n",
       "$line272.$eval$.<clinit>(<console>)\n",
       "$line272.$eval.$print(<console>)\n",
       "sun.reflect.NativeMethodAccessorImpl.invoke0(Native Method)\n",
       "sun.reflect.NativeMethodAccessorImpl.invoke(NativeMethodAccessorImpl.java:57)\n",
       "sun.reflect.DelegatingMethodAccessorImpl.invoke(DelegatingMethodAccessorImpl.java:43)\n",
       "java.lang.reflect.Method.invoke(Method.java:606)\n",
       "org.apache.spark.repl.SparkIMain$ReadEvalPrint.call(SparkIMain.scala:1065)\n",
       "org.apache.spark.repl.SparkIMain$Request.loadAndRun(SparkIMain.scala:1346)\n",
       "org.apache.spark.repl.SparkIMain.loadAndRunReq$1(SparkIMain.scala:840)\n",
       "org.apache.spark.repl.SparkIMain.interpret(SparkIMain.scala:871)\n",
       "org.apache.spark.repl.SparkIMain.interpret(SparkIMain.scala:819)\n",
       "org.apache.toree.kernel.interpreter.scala.ScalaInterpreter$$anonfun$interpretAddTask$1$$anonfun$apply$3.apply(ScalaInterpreter.scala:361)\n",
       "org.apache.toree.kernel.interpreter.scala.ScalaInterpreter$$anonfun$interpretAddTask$1$$anonfun$apply$3.apply(ScalaInterpreter.scala:356)\n",
       "org.apache.toree.global.StreamState$.withStreams(StreamState.scala:81)\n",
       "org.apache.toree.kernel.interpreter.scala.ScalaInterpreter$$anonfun$interpretAddTask$1.apply(ScalaInterpreter.scala:355)\n",
       "org.apache.toree.kernel.interpreter.scala.ScalaInterpreter$$anonfun$interpretAddTask$1.apply(ScalaInterpreter.scala:355)\n",
       "org.apache.toree.utils.TaskManager$$anonfun$add$2$$anon$1.run(TaskManager.scala:140)\n",
       "java.util.concurrent.ThreadPoolExecutor.runWorker(ThreadPoolExecutor.java:1145)\n",
       "java.util.concurrent.ThreadPoolExecutor$Worker.run(ThreadPoolExecutor.java:615)\n",
       "java.lang.Thread.run(Thread.java:744)"
      ]
     },
     "execution_count": 47,
     "metadata": {},
     "output_type": "execute_result"
    }
   ],
   "source": [
    "entities.saveAsJson(\"entities.gz\")"
   ]
  },
  {
   "cell_type": "code",
   "execution_count": 48,
   "metadata": {
    "collapsed": false
   },
   "outputs": [
    {
     "name": "stdout",
     "output_type": "stream",
     "text": [
      "\r",
      "                                                                                \r",
      "Alexander\n",
      "Higgins\n",
      "Blog\n",
      "Alexander\n",
      "Higgins\n",
      "Blog\n",
      "Alicia\n",
      "MarMar\n",
      "Alexander\n",
      "Higgins\n",
      "Blog\n",
      "Digg\n",
      "Carol\n",
      "Stephanie\n",
      "Carranza\n",
      "Shin\n",
      "Bet\n",
      "Prescott\n",
      "Yuri\n",
      "Madarame\n"
     ]
    }
   ],
   "source": [
    "titles.mapValues[Seq[String]](Entities.of(TitleText), \"persons\").flatMap(persons => persons).take(20).foreach(println)"
   ]
  },
  {
   "cell_type": "markdown",
   "metadata": {},
   "source": [
    "### Working with links"
   ]
  },
  {
   "cell_type": "code",
   "execution_count": 49,
   "metadata": {
    "collapsed": false
   },
   "outputs": [
    {
     "data": {
      "text/plain": [
       "{\n",
       "  \"record\":{\n",
       "    \"redirectUrl\":\"http://www.occupyunconference.net/\",\n",
       "    \"timestamp\":\"20120107070224\",\n",
       "    \"digest\":\"R6VHAQHS5EXFBMDGVORLPYH5HLNI7IWI\",\n",
       "    \"originalUrl\":\"https://www.facebook.com/l.php?u=http%3A%2F%2Fwww.occupyunconference.net&h=HAQEF5ZeO\",\n",
       "    \"surtUrl\":\"com,facebook)/l.php?h=haqef5zeo&u=http://www.occupyunconference.net\",\n",
       "    \"mime\":\"text/html\",\n",
       "    \"meta\":\"-\",\n",
       "    \"status\":200\n",
       "  }\n",
       "}"
      ]
     },
     "execution_count": 49,
     "metadata": {},
     "output_type": "execute_result"
    }
   ],
   "source": [
    "latest.take(1).head.toJsonString"
   ]
  },
  {
   "cell_type": "code",
   "execution_count": 50,
   "metadata": {
    "collapsed": false
   },
   "outputs": [
    {
     "data": {
      "text/plain": [
       "{\n",
       "  \"record\":{\n",
       "    \"redirectUrl\":\"http://www.occupyunconference.net/\",\n",
       "    \"timestamp\":\"20120107070224\",\n",
       "    \"digest\":\"R6VHAQHS5EXFBMDGVORLPYH5HLNI7IWI\",\n",
       "    \"originalUrl\":\"https://www.facebook.com/l.php?u=http%3A%2F%2Fwww.occupyunconference.net&h=HAQEF5ZeO\",\n",
       "    \"surtUrl\":\"com,facebook)/l.php?h=haqef5zeo&u=http://www.occupyunconference.net\",\n",
       "    \"mime\":\"text/html\",\n",
       "    \"meta\":\"-\",\n",
       "    \"status\":200\n",
       "  },\n",
       "  \"payload\":{\n",
       "    \"string\":{\n",
       "      \"html\":{\n",
       "        \"links\":[\n",
       "          \"<a href=\\\"http://www.occupyunconference.net/\\\">http://www.occupyunconference.net/</a>\"\n",
       "        ]\n",
       "      }\n",
       "    }\n",
       "  }\n",
       "}"
      ]
     },
     "execution_count": 50,
     "metadata": {},
     "output_type": "execute_result"
    }
   ],
   "source": [
    "latest.enrich(Html.all(\"a\", \"links\")).take(1).head.toJsonString"
   ]
  },
  {
   "cell_type": "code",
   "execution_count": 51,
   "metadata": {
    "collapsed": true
   },
   "outputs": [],
   "source": [
    "val Links = HtmlAttribute(\"href\").ofEach(Html.all(\"a\", \"links\"))"
   ]
  },
  {
   "cell_type": "code",
   "execution_count": 52,
   "metadata": {
    "collapsed": false
   },
   "outputs": [
    {
     "data": {
      "text/plain": [
       "{\n",
       "  \"record\":{\n",
       "    \"redirectUrl\":\"http://www.occupyunconference.net/\",\n",
       "    \"timestamp\":\"20120107070224\",\n",
       "    \"digest\":\"R6VHAQHS5EXFBMDGVORLPYH5HLNI7IWI\",\n",
       "    \"originalUrl\":\"https://www.facebook.com/l.php?u=http%3A%2F%2Fwww.occupyunconference.net&h=HAQEF5ZeO\",\n",
       "    \"surtUrl\":\"com,facebook)/l.php?h=haqef5zeo&u=http://www.occupyunconference.net\",\n",
       "    \"mime\":\"text/html\",\n",
       "    \"meta\":\"-\",\n",
       "    \"status\":200\n",
       "  },\n",
       "  \"payload\":{\n",
       "    \"string\":{\n",
       "      \"html\":{\n",
       "        \"links\":[\n",
       "          {\n",
       "            \"attributes\":{\n",
       "              \"href\":\"http://www.occupyunconference.net/\"\n",
       "            }\n",
       "          }\n",
       "        ]\n",
       "      }\n",
       "    }\n",
       "  }\n",
       "}"
      ]
     },
     "execution_count": 52,
     "metadata": {},
     "output_type": "execute_result"
    }
   ],
   "source": [
    "latest.enrich(Links).take(1).head.toJsonString"
   ]
  },
  {
   "cell_type": "code",
   "execution_count": 53,
   "metadata": {
    "collapsed": true
   },
   "outputs": [],
   "source": [
    "import java.net.URL\n",
    "import scala.util.Try"
   ]
  },
  {
   "cell_type": "code",
   "execution_count": 54,
   "metadata": {
    "collapsed": true
   },
   "outputs": [],
   "source": [
    "val hosts = latest.mapEnrich(Links, \"host\") {url => Try{new URL(url).getHost}.getOrElse(\"\")}"
   ]
  },
  {
   "cell_type": "code",
   "execution_count": 55,
   "metadata": {
    "collapsed": false
   },
   "outputs": [
    {
     "data": {
      "text/plain": [
       "{\n",
       "  \"record\":{\n",
       "    \"redirectUrl\":\"http://www.occupyunconference.net/\",\n",
       "    \"timestamp\":\"20120107070224\",\n",
       "    \"digest\":\"R6VHAQHS5EXFBMDGVORLPYH5HLNI7IWI\",\n",
       "    \"originalUrl\":\"https://www.facebook.com/l.php?u=http%3A%2F%2Fwww.occupyunconference.net&h=HAQEF5ZeO\",\n",
       "    \"surtUrl\":\"com,facebook)/l.php?h=haqef5zeo&u=http://www.occupyunconference.net\",\n",
       "    \"mime\":\"text/html\",\n",
       "    \"meta\":\"-\",\n",
       "    \"status\":200\n",
       "  },\n",
       "  \"payload\":{\n",
       "    \"string\":{\n",
       "      \"html\":{\n",
       "        \"links\":[\n",
       "          {\n",
       "            \"attributes\":{\n",
       "              \"href\":{\n",
       "                \"host\":\"www.occupyunconference.net\"\n",
       "              }\n",
       "            }\n",
       "          }\n",
       "        ]\n",
       "      }\n",
       "    }\n",
       "  }\n",
       "}"
      ]
     },
     "execution_count": 55,
     "metadata": {},
     "output_type": "execute_result"
    }
   ],
   "source": [
    "hosts.take(1).head.toJsonString"
   ]
  },
  {
   "cell_type": "code",
   "execution_count": 56,
   "metadata": {
    "collapsed": false
   },
   "outputs": [
    {
     "data": {
      "text/plain": [
       "List(www.occupyunconference.net)"
      ]
     },
     "execution_count": 56,
     "metadata": {},
     "output_type": "execute_result"
    }
   ],
   "source": [
    "hosts.mapValues[Seq[String]](\"payload.string.html.links*.attributes.href.host\").take(1).head"
   ]
  },
  {
   "cell_type": "code",
   "execution_count": 57,
   "metadata": {
    "collapsed": false
   },
   "outputs": [],
   "source": [
    "val recordHosts = hosts.mapValues[Seq[String]](\"payload.string.html.links*.attributes.href.host\")"
   ]
  },
  {
   "cell_type": "code",
   "execution_count": 58,
   "metadata": {
    "collapsed": true
   },
   "outputs": [],
   "source": [
    "val distinctHosts = recordHosts.flatMap(hosts => hosts.filter(_.nonEmpty).distinct.map(host => (host, 1)))"
   ]
  },
  {
   "cell_type": "code",
   "execution_count": 59,
   "metadata": {
    "collapsed": false
   },
   "outputs": [
    {
     "data": {
      "text/plain": [
       "Array((www.occupyunconference.net,1), (twitter.com,1), (blog.alexanderhiggins.com,1), (feedburner.google.com,1), (feeds2.feedburner.com,1), (www.alexa.com,1), (wordpress.org,1), (shtf411.com,1), (censoredrickreuben.blogspot.com,1), (t.co,1))"
      ]
     },
     "execution_count": 59,
     "metadata": {},
     "output_type": "execute_result"
    }
   ],
   "source": [
    "distinctHosts.take(10)"
   ]
  },
  {
   "cell_type": "code",
   "execution_count": 60,
   "metadata": {
    "collapsed": false
   },
   "outputs": [],
   "source": [
    "val hostUrlCounts = distinctHosts.reduceByKey(_ + _).sortBy{case (host, count) => -count}"
   ]
  },
  {
   "cell_type": "code",
   "execution_count": 61,
   "metadata": {
    "collapsed": false
   },
   "outputs": [
    {
     "name": "stdout",
     "output_type": "stream",
     "text": [
      "\r",
      "                                                                                \r",
      "(www.facebook.com,5775)\n",
      "(twitter.com,5252)\n",
      "(www.youtube.com,2798)\n",
      "(www.nycga.net,2327)\n",
      "(www.google.com,2317)\n",
      "(occupywallst.org,1918)\n",
      "(wordpress.org,1848)\n",
      "(www.reddit.com,1793)\n",
      "(occupytogether.org,1756)\n",
      "(howtooccupy.org,1592)\n"
     ]
    }
   ],
   "source": [
    "hostUrlCounts.take(10).foreach(println)"
   ]
  },
  {
   "cell_type": "code",
   "execution_count": 62,
   "metadata": {
    "collapsed": false
   },
   "outputs": [],
   "source": [
    "val hostDist = hostUrlCounts.map{case (host, count) => (count / 10 * 10, 1)}.reduceByKey(_ + _)"
   ]
  },
  {
   "cell_type": "code",
   "execution_count": 63,
   "metadata": {
    "collapsed": false
   },
   "outputs": [],
   "source": [
    "import org.apache.hadoop.io.compress.GzipCodec\n",
    "hostDist.saveAsTextFile(\"hostDist.gz\", classOf[GzipCodec])"
   ]
  },
  {
   "cell_type": "code",
   "execution_count": null,
   "metadata": {
    "collapsed": true
   },
   "outputs": [],
   "source": []
  }
 ],
 "metadata": {
  "kernelspec": {
   "display_name": "ArchiveSpark (Spark 1.6.1, Toree)",
   "language": "",
   "name": "toree"
  },
  "language_info": {
   "name": "scala"
  }
 },
 "nbformat": 4,
 "nbformat_minor": 0
}
