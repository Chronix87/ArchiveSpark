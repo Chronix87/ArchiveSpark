{
 "cells": [
  {
   "cell_type": "code",
   "execution_count": 1,
   "metadata": {
    "collapsed": true
   },
   "outputs": [],
   "source": [
    "import de.l3s.archivespark.ArchiveSpark\n",
    "import de.l3s.archivespark.enrich.functions._\n",
    "import de.l3s.archivespark.nativescala.implicits._\n",
    "import de.l3s.archivespark.implicits._"
   ]
  },
  {
   "cell_type": "code",
   "execution_count": 2,
   "metadata": {
    "collapsed": true
   },
   "outputs": [],
   "source": [
    "implicit val sparkContext = sc"
   ]
  },
  {
   "cell_type": "code",
   "execution_count": 3,
   "metadata": {
    "collapsed": true
   },
   "outputs": [],
   "source": [
    "val warcPath = \"C:\\\\Users\\\\holzmann\\\\L3S\\\\Workspace\\\\archives_unleashed\\\\sample\"\n",
    "val cdxPath = s\"${warcPath}\\\\*.cdx.gz\""
   ]
  },
  {
   "cell_type": "code",
   "execution_count": 4,
   "metadata": {
    "collapsed": true
   },
   "outputs": [],
   "source": [
    "val rdd = ArchiveSpark.hdfs(cdxPath, warcPath)"
   ]
  },
  {
   "cell_type": "code",
   "execution_count": 5,
   "metadata": {
    "collapsed": false
   },
   "outputs": [
    {
     "data": {
      "text/plain": [
       "{\n",
       "  \"record\":{\n",
       "    \"redirectUrl\":\"-\",\n",
       "    \"timestamp\":\"20111222161517\",\n",
       "    \"digest\":\"LOD6KYDGJO2KR3W4ONCSAD5ZHP27RKLJ\",\n",
       "    \"originalUrl\":\"http://blog.alexanderhiggins.com/2011/06/09/cnn-48-great-depression-coming-year-24481/\",\n",
       "    \"surtUrl\":\"com,alexanderhiggins,blog)/2011/06/09/cnn-48-great-depression-coming-year-24481\",\n",
       "    \"mime\":\"text/html\",\n",
       "    \"meta\":\"-\",\n",
       "    \"status\":200\n",
       "  },\n",
       "  \"payload\":{\n",
       "    \"string\":\"<!DOCTYPE html PUBLIC \\\"-//W3C//DTD XHTML 1.0 Transitional//EN\\\" \\\"http://www.w3.org/TR/xhtml1/DTD/xhtml1-transitional.dtd\\\">\\r\\n\\r\\n<!--\\r\\nAlexander Higgins Blog uses HeatMap Theme 2.5.4 (http://heatmaptheme.com)\\r\\nby Stuart Wider (http://stuartwider.com) copyright 2010\\r\\n-->\\r\\n\\r\\n<!-- \\r\\nheader.php\\r\\n~~~~~~~~~~~~~~~~~~~~~~~~ ~~~ -->\\r\\n\\r\\n<html xmlns=\\\"..."
      ]
     },
     "execution_count": 5,
     "metadata": {},
     "output_type": "execute_result"
    }
   ],
   "source": [
    "rdd.filter(r => r.status == 200 && r.mime == \"text/html\").enrich(StringContent).take(1).head.toJsonString"
   ]
  },
  {
   "cell_type": "code",
   "execution_count": 6,
   "metadata": {
    "collapsed": false
   },
   "outputs": [],
   "source": [
    "val gooseEntities = rdd.filter(r => r.status == 200 && r.mime == \"text/html\").enrich{\n",
    "    val conf = Goose.newConfig\n",
    "    conf.enableImageFetching = false\n",
    "    Goose(conf)\n",
    "}.enrich(Entities.of(Goose, \"text\"))"
   ]
  },
  {
   "cell_type": "code",
   "execution_count": 7,
   "metadata": {
    "collapsed": false
   },
   "outputs": [
    {
     "name": "stdout",
     "output_type": "stream",
     "text": [
      "{\n",
      "  \"record\":{\n",
      "    \"redirectUrl\":\"-\",\n",
      "    \"timestamp\":\"20120203023156\",\n",
      "    \"digest\":\"SV56XHQKSVYJQNZRA4MVYR6Y6Q55TD7D\",\n",
      "    \"originalUrl\":\"http://occupywallst.org/forum/al-sharpton-or-bill-cosby-who-has-done-more-to-adv/\",\n",
      "    \"surtUrl\":\"org,occupywallst)/forum/al-sharpton-or-bill-cosby-who-has-done-more-to-adv\",\n",
      "    \"mime\":\"text/html\",\n",
      "    \"meta\":\"-\",\n",
      "    \"status\":200\n",
      "  },\n",
      "  \"payload\":{\n",
      "    \"string\":{\n",
      "      \"goose\":{\n",
      "        \"image\":\"\",\n",
      "        \"text\":{\n",
      "          \"_\":\"Posted 2 months ago on Nov. 6, 2011, 11:56 a.m. EST by MikeyD (585) from Alameda, CA This content is user submitted and not an official statement\\n\\nI can see the How is this relevant questions already. Let me tie it in.\\n\\nOne pushes a philosophy of blame others for your problems, the other pushes a philosophy of personal responsibility. Which is better?\\n\\nHave things gotten better for black people under Sharpton, Jackson, Wright, Lee, Waters, or Obama?\\n\\nWould using Cosby, Powell, West, Rice, Cain, Thomas, or Payne as role models do more to further the interests of black people?\",\n",
      "          \"entities\":{\n",
      "            \"persons\":[\n",
      "              \"Powell\",\n",
      "              \"Rice\",\n",
      "              \"Wright\",\n",
      "              \"Jackson\",\n",
      "              \"Lee\",\n",
      "              \"Sharpton\",\n",
      "              \"Thomas\",\n",
      "              \"Payne\",\n",
      "              \"Obama\"\n",
      "            ],\n",
      "            \"organizations\":[\n",
      "              \n",
      "            ],\n",
      "            \"locations\":[\n",
      "              \"Alameda\",\n",
      "              \"West\",\n",
      "              \"Cain\"\n",
      "            ],\n",
      "            \"dates\":[\n",
      "              \"2 months ago\",\n",
      "              \"Nov. 6 , 2011\"\n",
      "            ]\n",
      "          }\n",
      "        },\n",
      "        \"metaDesc\":\"I can see the How is this relevant questions already. Let me tie it in.\",\n",
      "        \"date\":\"\",\n",
      "        \"videos\":[\n",
      "          \n",
      "        ],\n",
      "        \"title\":\"Forum Post: Al Sharpton or Bill Cosby - Who has done more to advance the cause of black people in America?\",\n",
      "        \"metaTags\":\"\"\n",
      "      }\n",
      "    }\n",
      "  }\n",
      "}\r\n"
     ]
    }
   ],
   "source": [
    "println(gooseEntities.take(11).drop(10).head.toJsonString)"
   ]
  },
  {
   "cell_type": "code",
   "execution_count": 8,
   "metadata": {
    "collapsed": false
   },
   "outputs": [],
   "source": [
    "gooseEntities.saveToEs(\"histdiv/archive-records\")"
   ]
  }
 ],
 "metadata": {
  "kernelspec": {
   "display_name": "ArchiveSpark",
   "language": "",
   "name": "archivespark"
  },
  "language_info": {
   "name": "scala"
  }
 },
 "nbformat": 4,
 "nbformat_minor": 0
}
