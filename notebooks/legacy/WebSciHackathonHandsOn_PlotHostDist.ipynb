{
 "cells": [
  {
   "cell_type": "code",
   "execution_count": 1,
   "metadata": {
    "collapsed": false
   },
   "outputs": [],
   "source": [
    "%matplotlib inline\n",
    "\n",
    "import os\n",
    "import matplotlib.pyplot as plt\n",
    "from matplotlib.pyplot import step, legend, xlim, ylim, show, cm\n",
    "from matplotlib import colors\n",
    "import numpy as np\n",
    "from matplotlib.lines import Line2D"
   ]
  },
  {
   "cell_type": "code",
   "execution_count": 2,
   "metadata": {
    "collapsed": true
   },
   "outputs": [],
   "source": [
    "def hadoop(path): return os.popen(\"hadoop fs -cat \" + path)\n",
    "def hadoopGz(path): return os.popen(\"hadoop fs -cat \" + path + \"/*.gz | zcat\")"
   ]
  },
  {
   "cell_type": "code",
   "execution_count": 3,
   "metadata": {
    "collapsed": true
   },
   "outputs": [],
   "source": [
    "def plotHostDist(file):\n",
    "    dat = [line.rstrip('\\n').split(\",\") for line in hadoopGz(file)]\n",
    "    \n",
    "    fig, ax = plt.subplots()\n",
    "    defaultSize = fig.get_size_inches()\n",
    "    fig.set_size_inches((defaultSize[0] * 2, defaultSize[1] * 2))\n",
    "\n",
    "    ax.set_xlabel('#urls', fontsize = 30)\n",
    "    ax.set_ylabel('#hosts', fontsize = 30)\n",
    "    \n",
    "    ax.set_xlim([0, 400])\n",
    "    ax.set_ylim([0, 400])\n",
    "\n",
    "    # http://matplotlib.org/examples/color/colormaps_reference.html\n",
    "    blues = cm.get_cmap(\"Blues\")\n",
    "\n",
    "    def col(lst, idx, parse): return [parse(row[idx].lstrip('(').rstrip(')')) for row in lst]\n",
    "    \n",
    "    ax.scatter(col(dat, 0, int), col(dat, 1, int), color = blues(250))\n",
    "    \n",
    "    plt.show()"
   ]
  },
  {
   "cell_type": "code",
   "execution_count": 4,
   "metadata": {
    "collapsed": false
   },
   "outputs": [
    {
     "data": {
      "image/png": "[encoded data removed]",
      "text/plain": [
       "<matplotlib.figure.Figure at 0x7f29351cef10>"
      ]
     },
     "metadata": {},
     "output_type": "display_data"
    }
   ],
   "source": [
    "plotHostDist(\"hostDist.gz\")"
   ]
  }
 ],
 "metadata": {
  "kernelspec": {
   "display_name": "Python 2",
   "language": "python",
   "name": "python2"
  },
  "language_info": {
   "codemirror_mode": {
    "name": "ipython",
    "version": 2
   },
   "file_extension": ".py",
   "mimetype": "text/x-python",
   "name": "python",
   "nbconvert_exporter": "python",
   "pygments_lexer": "ipython2",
   "version": "2.7.11"
  }
 },
 "nbformat": 4,
 "nbformat_minor": 0
}
