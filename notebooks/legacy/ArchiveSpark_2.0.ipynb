{
"cells": [
{
"cell_type": "code",
"execution_count": 1,
"metadata": {
"collapsed": false
},
"outputs": [],
"source": [
"import de.l3s.archivespark._\n",
"import de.l3s.archivespark.implicits._\n",
"import de.l3s.archivespark.nativescala.implicits._\n",
"import de.l3s.archivespark.enrich._\n",
"import de.l3s.archivespark.enrich.functions._\n",
"import de.l3s.archivespark.specific.warc.implicits._\n",
"import de.l3s.archivespark.specific.warc._\n",
"import de.l3s.archivespark.specific.warc.specs._\n",
"import de.l3s.archivespark.specific.books._"
]
},
{
"cell_type": "markdown",
"metadata": {},
"source": [
"## Web Archive Analysis Through CDX Server / Wayback Machine"
]
},
{
"cell_type": "code",
"execution_count": 2,
"metadata": {
"collapsed": false
},
"outputs": [],
"source": [
"val rdd = ArchiveSpark.load(sc, WaybackSpec(\"l3s.de\", matchPrefix = true))"
]
},
{
"cell_type": "code",
"execution_count": 3,
"metadata": {
"collapsed": false
},
"outputs": [
{
"data": {
"text/plain": [
"{\n",
"  \"record\":{\n",
"    \"redirectUrl\":\"-\",\n",
"    \"timestamp\":\"20020729002934\",\n",
"    \"digest\":\"S6D4JRHXN6U5QHEUDI5OXXYYIBJ7CHWF\",\n",
"    \"originalUrl\":\"http://www.l3s.de:80/\",\n",
"    \"surtUrl\":\"de,l3s)/\",\n",
"    \"mime\":\"text/html\",\n",
"    \"compressedSize\":966,\n",
"    \"meta\":\"-\",\n",
"    \"status\":200\n",
"  }\n",
"}"
]
},
"execution_count": 3,
"metadata": {},
"output_type": "execute_result"
}
],
"source": [
"rdd.take(1).head.toJsonString"
]
},
{
"cell_type": "code",
"execution_count": 4,
"metadata": {
"collapsed": false
},
"outputs": [
{
"data": {
"text/plain": [
"26460"
]
},
"execution_count": 4,
"metadata": {},
"output_type": "execute_result"
}
],
"source": [
"rdd.count"
]
},
{
"cell_type": "code",
"execution_count": 5,
"metadata": {
"collapsed": false
},
"outputs": [],
"source": [
"val htmlOnline = rdd.filter(r => r.status == 200 && r.mime == \"text/html\")"
]
},
{
"cell_type": "code",
"execution_count": 6,
"metadata": {
"collapsed": false
},
"outputs": [
{
"name": "stdout",
"output_type": "stream",
"text": [
"{\n",
"  \"record\":{\n",
"    \"redirectUrl\":\"-\",\n",
"    \"timestamp\":\"20020729002934\",\n",
"    \"digest\":\"S6D4JRHXN6U5QHEUDI5OXXYYIBJ7CHWF\",\n",
"    \"originalUrl\":\"http://www.l3s.de:80/\",\n",
"    \"surtUrl\":\"de,l3s)/\",\n",
"    \"mime\":\"text/html\",\n",
"    \"compressedSize\":966,\n",
"    \"meta\":\"-\",\n",
"    \"status\":200\n",
"  },\n",
"  \"payload\":{\n",
"    \"string\":{\n",
"      \"html\":{\n",
"        \"body\":{\n",
"          \"text\":\"_home     [ English Version ] [ Version français ] [ Hrvatska verzija ] [ Wersja Polska ] _content     _communications     _contact    \"\n",
"        }\n",
"      }\n",
"    }\n",
"  }\n",
"}\n"
]
}
],
"source": [
"println(htmlOnline.enrich(HtmlText).take(1).head.toJsonString)"
]
},
{
"cell_type": "code",
"execution_count": 7,
"metadata": {
"collapsed": false
},
"outputs": [
{
"name": "stdout",
"output_type": "stream",
"text": [
"\r",
"                                                                                \r",
"ServerRequestInterceptorOperations (Edutella (Service Extensions) API)\n",
"TENCompetence -\n",
"Home\n",
"ServerSocketProxy (Project JXTA (TM) Technology 0.1 API Documentation)\n",
"Jbed API: Package com.jbed.tina.event\n",
"Ana L.  Zapater Alemany -\n",
"L3S Research Center | News Archive\n",
"AccessibleTableModelChange (Edutella (Service Extensions) API)\n",
"net.jxta.codat Class Hierarchy (Project JXTA (TM) Technology 0.1 API Documentation)\n",
"VIFACHEM -\n"
]
}
],
"source": [
"val uniquePages = htmlOnline.distinctValue(_.surtUrl) {(a, b) => a}\n",
"val title = HtmlText.of(Html.first(\"title\"))\n",
"uniquePages.mapValues(title).take(10).foreach(println)"
]
},
{
"cell_type": "code",
"execution_count": 8,
"metadata": {
"collapsed": false
},
"outputs": [
{
"name": "stdout",
"output_type": "stream",
"text": [
"ServerSocketProxy (Project JXTA (TM) Technology 0.1 API Documentation)\n",
"Ana L.  Zapater Alemany -\n",
"L3S Research Center | News Archive\n",
"net.jxta.codat Class Hierarchy (Project JXTA (TM) Technology 0.1 API Documentation)\n",
"Forschungszentrum L3S - Lageplan |  Map\n",
"Messenger (Project JXTA (TM) Technology 0.1 API Documentation)\n",
"Uses of Package javax.sound.midi (Edutella (Service Extensions) API)\n",
"Learning Lab Lower Saxony - Thanh-Thu Phan Tan\n",
"L3S Research Center - PROLEARN Workshop \"Technology Enhanced Learning for Learning Organisations\"\n",
"L3S Research Center | Contact Form\n"
]
}
],
"source": [
"val withTitle = uniquePages.enrich(title)\n",
"val interestingTitlePages = withTitle.filterValue(title) {t =>\n",
"    t.isDefined && t.get.split(\" \").size > 5\n",
"}\n",
"interestingTitlePages.mapValues(title).take(10).foreach(println)"
]
},
{
"cell_type": "code",
"execution_count": 9,
"metadata": {
"collapsed": false
},
"outputs": [
{
"name": "stdout",
"output_type": "stream",
"text": [
"{\n",
"  \"record\":{\n",
"    \"redirectUrl\":\"-\",\n",
"    \"timestamp\":\"20110102211216\",\n",
"    \"digest\":\"5VUPUZBFR6ULC7LZQWZDBD2KD75P4UFH\",\n",
"    \"originalUrl\":\"http://www.l3s.de/web/page15g.do?sp=page15g&alt1g=page29g&kcond1g.userOID=59&changedAlts=alt1g&rcond41g.userOID=59&kcond2g.userOID=59\",\n",
"    \"surtUrl\":\"de,l3s)/web/page15g.do?alt1g=page29g&changedalts=alt1g&kcond1g.useroid=59&kcond2g.useroid=59&rcond41g.useroid=59&sp=page15g\",\n",
"    \"mime\":\"text/html\",\n",
"    \"compressedSize\":2405,\n",
"    \"meta\":\"-\",\n",
"    \"status\":200\n",
"  },\n",
"  \"payload\":{\n",
"    \"string\":{\n",
"      \"html\":{\n",
"        \"title\":{\n",
"          \"text\":{\n",
"            \"_\":\"Ana L.  Zapater Alemany -\",\n",
"            \"entities\":{\n",
"              \"persons\":[\n",
"                \"Ana\",\n",
"                \"L.\",\n",
"                \"Zapater\",\n",
"                \"Alemany\"\n",
"              ],\n",
"              \"organizations\":[\n",
"                \n",
"              ],\n",
"              \"locations\":[\n",
"                \n",
"              ],\n",
"              \"dates\":[\n",
"                \n",
"              ]\n",
"            }\n",
"          }\n",
"        }\n",
"      }\n",
"    }\n",
"  }\n",
"}\n",
"{\n",
"  \"record\":{\n",
"    \"redirectUrl\":\"-\",\n",
"    \"timestamp\":\"20050206003853\",\n",
"    \"digest\":\"7XIYGBHYD4ATS3X3GQXVNR6HLB6GAYAU\",\n",
"    \"originalUrl\":\"http://www.l3s.de:80/~phantan/aufgaben.html\",\n",
"    \"surtUrl\":\"de,l3s)/~phantan/aufgaben.html\",\n",
"    \"mime\":\"text/html\",\n",
"    \"compressedSize\":1376,\n",
"    \"meta\":\"-\",\n",
"    \"status\":200\n",
"  },\n",
"  \"payload\":{\n",
"    \"string\":{\n",
"      \"html\":{\n",
"        \"title\":{\n",
"          \"text\":{\n",
"            \"_\":\"Learning Lab Lower Saxony - Thanh-Thu Phan Tan\",\n",
"            \"entities\":{\n",
"              \"persons\":[\n",
"                \"Thanh-Thu\",\n",
"                \"Phan\",\n",
"                \"Tan\"\n",
"              ],\n",
"              \"organizations\":[\n",
"                \n",
"              ],\n",
"              \"locations\":[\n",
"                \"Saxony\"\n",
"              ],\n",
"              \"dates\":[\n",
"                \n",
"              ]\n",
"            }\n",
"          }\n",
"        }\n",
"      }\n",
"    }\n",
"  }\n",
"}\n",
"{\n",
"  \"record\":{\n",
"    \"redirectUrl\":\"-\",\n",
"    \"timestamp\":\"20050216213915\",\n",
"    \"digest\":\"EEIKMJFZVMU4PSYNSOHWTU6XFYV5MAUW\",\n",
"    \"originalUrl\":\"http://www.l3s.de:80/english/news/prolearn_workshop.html\",\n",
"    \"surtUrl\":\"de,l3s)/english/news/prolearn_workshop.html\",\n",
"    \"mime\":\"text/html\",\n",
"    \"compressedSize\":3541,\n",
"    \"meta\":\"-\",\n",
"    \"status\":200\n",
"  },\n",
"  \"payload\":{\n",
"    \"string\":{\n",
"      \"html\":{\n",
"        \"title\":{\n",
"          \"text\":{\n",
"            \"_\":\"L3S Research Center - PROLEARN Workshop \\\"Technology Enhanced Learning for Learning Organisations\\\"\",\n",
"            \"entities\":{\n",
"              \"persons\":[\n",
"                \n",
"              ],\n",
"              \"organizations\":[\n",
"                \"L3S\",\n",
"                \"Research\",\n",
"                \"Center\"\n",
"              ],\n",
"              \"locations\":[\n",
"                \n",
"              ],\n",
"              \"dates\":[\n",
"                \n",
"              ]\n",
"            }\n",
"          }\n",
"        }\n",
"      }\n",
"    }\n",
"  }\n",
"}\n"
]
}
],
"source": [
"val titleEntities = Entities.of(title)\n",
"val records = interestingTitlePages.enrich(titleEntities).take(10).toSeq\n",
"records.filterNonEmpty(titleEntities).map(_.toJsonString).foreach(println)"
]
},
{
"cell_type": "markdown",
"metadata": {},
"source": [
"## Internet Archive Books Analysis with Local Metadata on HDFS"
]
},
{
"cell_type": "code",
"execution_count": 10,
"metadata": {
"collapsed": false
},
"outputs": [],
"source": [
"val books = ArchiveSpark.load(sc, IATxtBooksHdfsSpec(\"booksmeta\"))"
]
},
{
"cell_type": "code",
"execution_count": 11,
"metadata": {
"collapsed": false
},
"outputs": [
{
"data": {
"text/plain": [
"{\n",
"  \"record\":{\n",
"    \"subjects\":\"adventure, fiction\",\n",
"    \"collections\":\"opensource\",\n",
"    \"creator\":\"Original : Defoe, Daniel (1660\\u20131731) ; Translator : Borel, Pétrus (1809-1859)\",\n",
"    \"language\":\"french\",\n",
"    \"date\":\"1836\",\n",
"    \"publisher\":\"Borel et Varenne\",\n",
"    \"title\":\"Robinson Crusoé, tome 1\",\n",
"    \"publicdate\":\"2015-12-18 15:07:08\"\n",
"  }\n",
"}"
]
},
"execution_count": 11,
"metadata": {},
"output_type": "execute_result"
}
],
"source": [
"books.take(1).head.toJsonString"
]
},
{
"cell_type": "code",
"execution_count": 12,
"metadata": {
"collapsed": false
},
"outputs": [
{
"data": {
"text/plain": [
"{\n",
"  \"record\":{\n",
"    \"subjects\":\"adventure, fiction\",\n",
"    \"collections\":\"opensource\",\n",
"    \"creator\":\"Original : Defoe, Daniel (1660\\u20131731) ; Translator : Borel, Pétrus (1809-1859)\",\n",
"    \"language\":\"french\",\n",
"    \"date\":\"1836\",\n",
"    \"publisher\":\"Borel et Varenne\",\n",
"    \"title\":\"Robinson Crusoé, tome 1\",\n",
"    \"publicdate\":\"2015-12-18 15:07:08\"\n",
"  },\n",
"  \"text\":{\n",
"    \"first-sentence\":\". Us» \"\n",
"  }\n",
"}"
]
},
"execution_count": 12,
"metadata": {},
"output_type": "execute_result"
}
],
"source": [
"books.enrich(FirstSentence).take(1).head.toJsonString"
]
},
{
"cell_type": "code",
"execution_count": 13,
"metadata": {
"collapsed": false
},
"outputs": [
{
"data": {
"text/plain": [
"{\n",
"  \"record\":{\n",
"    \"subjects\":\"adventure, fiction\",\n",
"    \"collections\":\"opensource\",\n",
"    \"creator\":\"Original : Defoe, Daniel (1660\\u20131731) ; Translator : Borel, Pétrus (1809-1859)\",\n",
"    \"language\":\"french\",\n",
"    \"date\":\"1836\",\n",
"    \"publisher\":\"Borel et Varenne\",\n",
"    \"title\":\"Robinson Crusoé, tome 1\",\n",
"    \"publicdate\":\"2015-12-18 15:07:08\"\n",
"  },\n",
"  \"text\":{\n",
"    \"prefix-1000\":\". Us» \\n\\nADVENTURES \\n\\n\\n\\n\\\\ \\n\\n\\n\\nOP \\n\\n«OBIMSON CRÜ30E, \\n\\nwritÎen BY II im self. \\n\\n\\n\\n\\nDigitized by L.OOQ le \\n\\n\\n\\nIMPRIMERIE DB M.ÀSSÀN 9 RÜB DE Y ADGIBARD 9 H* 1 I . \\n\\u2014 PAK LES SOlKfe DK TIRZUOLO, SON S9CCESSEUK DltSlCK*. \\n\\n\\n\\n\\nDigitized by L.OOQ le \\n\\n\\n\\n\\n\\nDANIEL DE F OË. \\n\\n\\n\\nS \\n\\n\\n\\nDigitized by LooQle \\n\\n\\n\\nROBINSON CRUSOE , \\n\\n* PAR \\n\\nDANIEL DE FOË. \\n\\nT..."
]
},
"execution_count": 13,
"metadata": {},
"output_type": "execute_result"
}
],
"source": [
"books.enrich(Prefix(1000)).take(1).head.toJsonString"
]
},
{
"cell_type": "code",
"execution_count": 14,
"metadata": {
"collapsed": false
},
"outputs": [
{
"name": "stdout",
"output_type": "stream",
"text": [
"\r",
"                                                                                \r",
"{\n",
"  \"record\":{\n",
"    \"subjects\":\"adventure, fiction\",\n",
"    \"collections\":\"opensource\",\n",
"    \"creator\":\"Original : Defoe, Daniel (1660\\u20131731) ; Translator : Borel, Pétrus (1809-1859)\",\n",
"    \"language\":\"french\",\n",
"    \"date\":\"1836\",\n",
"    \"publisher\":\"Borel et Varenne\",\n",
"    \"title\":\"Robinson Crusoé, tome 1\",\n",
"    \"publicdate\":\"2015-12-18 15:07:08\"\n",
"  },\n",
"  \"text\":{\n",
"    \"prefix-1000\":{\n",
"      \"entities\":{\n",
"        \"persons\":[\n",
"          \"VARENNE\",\n",
"          \"FERDINAND\",\n",
"          \"ALEXANDRE\",\n",
"          \"FRANCISQUE\",\n",
"          \"LooQle\",\n",
"          \"CRUSOE\",\n",
"          \"DENIS\",\n",
"          \"ROBINSON\",\n",
"          \"BOREL\"\n",
"        ],\n",
"        \"organizations\":[\n",
"          \"CHASLES\",\n",
"          \"BU\"\n",
"        ],\n",
"        \"locations\":[\n",
"          \"LA\",\n",
"          \"BOUDERIE\",\n",
"          \"PARIS\"\n",
"        ],\n",
"        \"dates\":[\n",
"          \"1836\"\n",
"        ]\n",
"      }\n",
"    }\n",
"  }\n",
"}\n",
"{\n",
"  \"record\":{\n",
"    \"subjects\":\"holmes, anp, scarlet, fop, anc, sherlock, hap, pleasep, cols, ouilty\",\n",
"    \"collections\":\"pulpmagazinearchive, additional_collections\",\n",
"    \"creator\":\"\",\n",
"    \"language\":\"eng\",\n",
"    \"date\":\"\",\n",
"    \"publisher\":\"\",\n",
"    \"title\":\"Sherlock Holmes Mysteries v1\",\n",
"    \"publicdate\":\"2014-03-16 12:46:42\"\n",
"  },\n",
"  \"text\":{\n",
"    \"prefix-1000\":{\n",
"      \"entities\":{\n",
"        \"persons\":[\n",
"          \"MYCROFT\",\n",
"          \"HOLMES\"\n",
"        ],\n",
"        \"organizations\":[\n",
"          \"SONY\",\n",
"          \"INFORMA\",\n",
"          \"AHP\"\n",
"        ],\n",
"        \"locations\":[\n",
"          \n",
"        ],\n",
"        \"dates\":[\n",
"          \"the\",\n",
"          \"past\"\n",
"        ]\n",
"      }\n",
"    }\n",
"  }\n",
"}\n",
"{\n",
"  \"record\":{\n",
"    \"subjects\":\"\",\n",
"    \"collections\":\"dulci, duke_libraries, americana\",\n",
"    \"creator\":\"Dickens, Charles, 1812-1870\",\n",
"    \"language\":\"eng\",\n",
"    \"date\":\"1863\",\n",
"    \"publisher\":\"Mobile : S.H. Goetzel\",\n",
"    \"title\":\"Great expectations\",\n",
"    \"publicdate\":\"2010-09-22 14:21:22\"\n",
"  },\n",
"  \"text\":{\n",
"    \"prefix-1000\":{\n",
"      \"entities\":{\n",
"        \"persons\":[\n",
"          \"Pirrip\",\n",
"          \"Philip\",\n",
"          \"Toe\",\n",
"          \"Gargery\"\n",
"        ],\n",
"        \"organizations\":[\n",
"          \"DUKE\",\n",
"          \"DICKER\"\n",
"        ],\n",
"        \"locations\":[\n",
"          \n",
"        ],\n",
"        \"dates\":[\n",
"          \n",
"        ]\n",
"      }\n",
"    }\n",
"  }\n",
"}\n"
]
}
],
"source": [
"books.enrich(Entities.on(Prefix(1000))).map(_.toJsonString).collect.foreach(println)"
]
}
],
"metadata": {
"kernelspec": {
"display_name": "ArchiveSpark 2.0 (Toree, Spark 1.6.1)",
"language": "",
"name": "archivespark2"
},
"language_info": {
"name": "scala"
}
},
"nbformat": 4,
"nbformat_minor": 0
}