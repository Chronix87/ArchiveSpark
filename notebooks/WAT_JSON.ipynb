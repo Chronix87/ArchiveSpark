{
 "cells": [
  {
   "cell_type": "code",
   "execution_count": 1,
   "metadata": {
    "collapsed": true
   },
   "outputs": [],
   "source": [
    "import de.l3s.archivespark.ArchiveSpark\n",
    "import de.l3s.archivespark.enrich.functions._\n",
    "import de.l3s.archivespark.nativescala.implicits._\n",
    "import de.l3s.archivespark.implicits._"
   ]
  },
  {
   "cell_type": "code",
   "execution_count": 2,
   "metadata": {
    "collapsed": true
   },
   "outputs": [],
   "source": [
    "implicit val sparkContext = sc"
   ]
  },
  {
   "cell_type": "code",
   "execution_count": 3,
   "metadata": {
    "collapsed": false
   },
   "outputs": [],
   "source": [
    "val watPath = \"C:\\\\Users\\\\holzmann\\\\archivesunleashed\"\n",
    "val watIndexFiles = \"C:\\\\Users\\\\holzmann\\\\archivesunleashed\\\\*.gz\""
   ]
  },
  {
   "cell_type": "code",
   "execution_count": 4,
   "metadata": {
    "collapsed": true
   },
   "outputs": [],
   "source": [
    "val rdd = ArchiveSpark.hdfs(watIndexFiles, watPath)"
   ]
  },
  {
   "cell_type": "code",
   "execution_count": 5,
   "metadata": {
    "collapsed": false
   },
   "outputs": [
    {
     "data": {
      "text/plain": [
       "{\n",
       "  \"record\":{\n",
       "    \"redirectUrl\":\"-\",\n",
       "    \"timestamp\":\"20160225181937\",\n",
       "    \"digest\":\"-\",\n",
       "    \"originalUrl\":\"dns:senate.gov\",\n",
       "    \"surtUrl\":\"gov,senate)\",\n",
       "    \"mime\":\"-\",\n",
       "    \"meta\":\"-\",\n",
       "    \"status\":-1\n",
       "  },\n",
       "  \"recordHeader\":{\n",
       "    \"WARC-Target-URI\":\"dns:senate.gov\",\n",
       "    \"WARC-Date\":\"2016-02-25T18:19:37Z\",\n",
       "    \"WARC-Type\":\"metadata\",\n",
       "    \"Content-Length\":\"899\",\n",
       "    \"Content-Type\":\"application/json\",\n",
       "    \"absolute-offset\":\"0\",\n",
       "    \"WARC-Record-ID\":\"<urn:uuid:4ebfe148-1111-43dc-a086-f1f1f5ae8654>\",\n",
       "    \"reader-identifier\":\"ARCHIVEIT-7014-CRAWL_SELECTED_SEEDS-JOB198054-20160225181937986-00000_warc.wat.gz\",\n",
       "    \"WARC-Refers-To\":\"<urn:uuid:e31548f9-69c0-4915-94b4-582117148a0f>\"\n",
       "  },\n",
       "  \"payload\":\"bytes(length: 899)\"\n",
       "}"
      ]
     },
     "execution_count": 5,
     "metadata": {},
     "output_type": "execute_result"
    }
   ],
   "source": [
    "rdd.enrich(Payload(http = true)).take(1).head.toJsonString"
   ]
  },
  {
   "cell_type": "code",
   "execution_count": 6,
   "metadata": {
    "collapsed": false
   },
   "outputs": [
    {
     "data": {
      "text/plain": [
       "{\n",
       "  \"record\":{\n",
       "    \"redirectUrl\":\"-\",\n",
       "    \"timestamp\":\"20160225181937\",\n",
       "    \"digest\":\"-\",\n",
       "    \"originalUrl\":\"dns:senate.gov\",\n",
       "    \"surtUrl\":\"gov,senate)\",\n",
       "    \"mime\":\"-\",\n",
       "    \"meta\":\"-\",\n",
       "    \"status\":-1\n",
       "  },\n",
       "  \"payload\":{\n",
       "    \"string\":\"{\\\"Envelope\\\":{\\\"Format\\\":\\\"WARC\\\",\\\"WARC-Header-Length\\\":\\\"242\\\",\\\"Block-Digest\\\":\\\"sha1:CPIIIYOX7TNKZE6ULAJVLVK2FZE2RQEE\\\",\\\"Actual-Content-Length\\\":\\\"50\\\",\\\"WARC-Header-Metadata\\\":{\\\"WARC-Type\\\":\\\"response\\\",\\\"WARC-Date\\\":\\\"2016-02-25T18:19:37Z\\\",\\\"Content-Length\\\":\\\"50\\\",\\\"WARC-Record-ID\\\":\\\"<urn:uuid:e31548f9-69c0-4915-94b4-582117148a0f>\\\",\\\"WARC-IP-Address\\\":\\\"207.241.239.252\\\",\\\"WARC-Target-URI\\\":\\\"dns:senate.gov\\\",\\\"Content-Type\\\":\\\"text/dns\\\"},\\\"Payload-Metadata\\\":{\\\"Trailing-Slop-Length\\\":\\\"4\\\",\\\"Actual-Content-Type\\\":\\\"text/dns\\..."
      ]
     },
     "execution_count": 6,
     "metadata": {},
     "output_type": "execute_result"
    }
   ],
   "source": [
    "rdd.enrich(StringContent.on(Payload(http = false))).take(1).head.toJsonString"
   ]
  },
  {
   "cell_type": "code",
   "execution_count": 7,
   "metadata": {
    "collapsed": false
   },
   "outputs": [
    {
     "name": "stdout",
     "output_type": "stream",
     "text": [
      "{\n",
      "  \"record\":{\n",
      "    \"redirectUrl\":\"-\",\n",
      "    \"timestamp\":\"20160225181937\",\n",
      "    \"digest\":\"-\",\n",
      "    \"originalUrl\":\"dns:senate.gov\",\n",
      "    \"surtUrl\":\"gov,senate)\",\n",
      "    \"mime\":\"-\",\n",
      "    \"meta\":\"-\",\n",
      "    \"status\":-1\n",
      "  },\n",
      "  \"payload\":{\n",
      "    \"string\":{\n",
      "      \"json\":{\n",
      "        \"Payload-Metadata\":{\n",
      "          \"Trailing-Slop-Length\":\"4\",\n",
      "          \"Actual-Content-Type\":\"text/dns\",\n",
      "          \"DNS-Metadata\":{\n",
      "            \"Date\":\"20160225181937\",\n",
      "            \"Entries\":[\n",
      "              {\n",
      "                \"Name\":\"senate.gov.\",\n",
      "                \"Value\":\"69.192.248.96\",\n",
      "                \"Net-Class\":\"IN\",\n",
      "                \"TTL\":20,\n",
      "                \"Type\":\"A\"\n",
      "              }\n",
      "            ]\n",
      "          }\n",
      "        }\n",
      "      }\n",
      "    }\n",
      "  }\n",
      "}\r\n"
     ]
    }
   ],
   "source": [
    "println(rdd.enrich(Json(\"Envelope.Payload-Metadata\").on(StringContent.on(Payload(http = false)))).take(1).head.toJsonString)"
   ]
  },
  {
   "cell_type": "code",
   "execution_count": null,
   "metadata": {
    "collapsed": true
   },
   "outputs": [],
   "source": []
  }
 ],
 "metadata": {
  "kernelspec": {
   "display_name": "ArchiveSpark",
   "language": "",
   "name": "archivespark"
  },
  "language_info": {
   "name": "scala"
  }
 },
 "nbformat": 4,
 "nbformat_minor": 0
}
