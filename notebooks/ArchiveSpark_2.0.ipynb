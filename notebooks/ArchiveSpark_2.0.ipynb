{
 "cells": [
  {
   "cell_type": "code",
   "execution_count": 1,
   "metadata": {
    "collapsed": false
   },
   "outputs": [],
   "source": [
    "import de.l3s.archivespark._\n",
    "import de.l3s.archivespark.implicits._\n",
    "import de.l3s.archivespark.nativescala.implicits._\n",
    "import de.l3s.archivespark.enrich._\n",
    "import de.l3s.archivespark.enrich.functions._\n",
    "import de.l3s.archivespark.specific.warc.implicits._\n",
    "import de.l3s.archivespark.specific.warc._\n",
    "import de.l3s.archivespark.specific.warc.specs._\n",
    "import de.l3s.archivespark.specific.books._"
   ]
  },
  {
   "cell_type": "markdown",
   "metadata": {},
   "source": [
    "## Web Archive Analysis Through CDX Server / Wayback Machine"
   ]
  },
  {
   "cell_type": "code",
   "execution_count": 2,
   "metadata": {
    "collapsed": false
   },
   "outputs": [],
   "source": [
    "val rdd = ArchiveSpark.load(sc, WaybackSpec(\"l3s.de\", matchPrefix = true))"
   ]
  },
  {
   "cell_type": "code",
   "execution_count": 3,
   "metadata": {
    "collapsed": false
   },
   "outputs": [
    {
     "data": {
      "text/plain": [
       "{\n",
       "  \"record\":{\n",
       "    \"redirectUrl\":\"-\",\n",
       "    \"timestamp\":\"20020729002934\",\n",
       "    \"digest\":\"S6D4JRHXN6U5QHEUDI5OXXYYIBJ7CHWF\",\n",
       "    \"originalUrl\":\"http://www.l3s.de:80/\",\n",
       "    \"surtUrl\":\"de,l3s)/\",\n",
       "    \"mime\":\"text/html\",\n",
       "    \"compressedSize\":966,\n",
       "    \"meta\":\"-\",\n",
       "    \"status\":200\n",
       "  }\n",
       "}"
      ]
     },
     "execution_count": 3,
     "metadata": {},
     "output_type": "execute_result"
    }
   ],
   "source": [
    "rdd.take(1).head.toJsonString"
   ]
  },
  {
   "cell_type": "code",
   "execution_count": 4,
   "metadata": {
    "collapsed": false
   },
   "outputs": [
    {
     "data": {
      "text/plain": [
       "26460"
      ]
     },
     "execution_count": 4,
     "metadata": {},
     "output_type": "execute_result"
    }
   ],
   "source": [
    "rdd.count"
   ]
  },
  {
   "cell_type": "code",
   "execution_count": 5,
   "metadata": {
    "collapsed": false
   },
   "outputs": [
    {
     "name": "stdout",
     "output_type": "stream",
     "text": [
      "{\n",
      "  \"record\":{\n",
      "    \"redirectUrl\":\"-\",\n",
      "    \"timestamp\":\"20020729002934\",\n",
      "    \"digest\":\"S6D4JRHXN6U5QHEUDI5OXXYYIBJ7CHWF\",\n",
      "    \"originalUrl\":\"http://www.l3s.de:80/\",\n",
      "    \"surtUrl\":\"de,l3s)/\",\n",
      "    \"mime\":\"text/html\",\n",
      "    \"compressedSize\":966,\n",
      "    \"meta\":\"-\",\n",
      "    \"status\":200\n",
      "  },\n",
      "  \"payload\":{\n",
      "    \"string\":{\n",
      "      \"html\":{\n",
      "        \"body\":{\n",
      "          \"text\":\"Languages English Deutsch Search form Search About L3S L3S Overview Vision L3S Web Observatory Mentoring Guidelines PhD Program Graduations Memberships Facts and Figures News 2015 2014 2013 2012 2011 L3S-Team and Boards Scientific Advisory Board Directors Members Group Leaders Staff Guest Researchers Alumni Projects Research Area Intelligent Access to Information Next Generation Internet E-Science Web Governance Virtual Communities Project Archive Startup@L3S Jobs Jobs Dates + Events Other Event Archive Publications Downloads L3S Annual Report Flyers L3S @t work Posters Contact Directions L3S downloads You are here Home Alexandria at JCDL 2016 On June 16-23 this year\\u2019s ACM/IEEE-CS Joint Conference on Digital Libraries (JCDL 2016) took place in Newark, New Jersey. JCDL is a major international forum focusing on digital libraries and associated technical, practical, and social issues. New Startup Teams at L3S In June, two new startup teams moved into the L3S Startup Corner to work at their business ideas and further develop their innovative products and services. The L3S Startup Corner is a co-working space for students and scientists with innovative business ideas in the field of information and communication technology. Impressions of \\\"The 8th International ACM Web Science Conference 2016\\\" \\\"The 8th International ACM Web Science Conference 2016 is the premium conference for Web Science research, was held from May 22 to May 25, 2016 in Hannover, Germany, organized by the L3S Research Center. The conference series by the Web Science Trust has been following events in Athens, Raleigh, Koblenz, Evanston, Paris, Indiana, and Oxford. Schloss Dagstuhl - Professor Nejdl participates at \\\"Data, Responsibly\\\" Schloss Dagstuhl - Leibniz Zentrum für Informatik:  Professor Nejdl participates at \\\"Data, Responsibly\\\" A full overview about the program can be found on: http://www.dagstuhl.de/no_cache/de/programm/kalender/semhp/?semnr=16291   Conferences Job offers Junior Professorship (Salary Scale W 1 NBesO) in Information Retrieval Juniorprofessur (BesGr. W 1 NBesO) für Information Retrieval Wissenschaftlichen Mitarbeiter/in Research Positions in Data analytics and Retrieval Research positions in Temporal Retrieval, Exploration and Analytics in Web Archives Login | Contact | Imprint | © 2016 - L3S Research Center - Appelstrasse 9a - 30167 Hannover - Phone. +49. 511. 762-17713 - Email: document.write(\\\" info@l3s.de<\\\\/a>\\\");\"\n",
      "        }\n",
      "      }\n",
      "    }\n",
      "  }\n",
      "}\n"
     ]
    }
   ],
   "source": [
    "println(rdd.enrich(HtmlText).take(1).head.toJsonString)"
   ]
  },
  {
   "cell_type": "code",
   "execution_count": 6,
   "metadata": {
    "collapsed": false
   },
   "outputs": [
    {
     "name": "stdout",
     "output_type": "stream",
     "text": [
      "\r",
      "                                                                                \r",
      "404 Not Found\n",
      "403 Forbidden\n",
      "L3S Research Center\n",
      "403 Forbidden\n",
      "404 Not Found\n",
      "403 Forbidden\n",
      "L3S Research Center\n",
      "L3S Research Center\n",
      "403 Forbidden\n",
      "L3S Research Center\n"
     ]
    }
   ],
   "source": [
    "val uniquePages = rdd.distinctValue(_.surtUrl) {(a, b) => a}\n",
    "val title = HtmlText.of(Html.first(\"title\"))\n",
    "uniquePages.mapValues(title).take(10).foreach(println)"
   ]
  },
  {
   "cell_type": "code",
   "execution_count": 7,
   "metadata": {
    "collapsed": false
   },
   "outputs": [
    {
     "name": "stdout",
     "output_type": "stream",
     "text": [
      "Policy Bibliography\n",
      "ELAN e.V. | Startseite\n",
      "Christian  Kohlsch�tter -\n",
      "ELAN e.V. | Startseite\n",
      "ELAN e.V. | Startseite\n",
      "Besnik's Home Page\n",
      "ELAN e.V. | Startseite\n",
      "ELAN e.V. | Startseite\n",
      "ELAN e.V. | Startseite\n",
      "ELAN e.V. | Startseite\n"
     ]
    }
   ],
   "source": [
    "val withTitle = uniquePages.enrich(title)\n",
    "val interestingPages = withTitle.filterValue(title) {t =>\n",
    "    t.isDefined && t.get.nonEmpty && !t.get.startsWith(\"40\") && !t.get.startsWith(\"L3S\")\n",
    "}\n",
    "interestingPages.mapValues(title).take(10).foreach(println)"
   ]
  },
  {
   "cell_type": "code",
   "execution_count": 8,
   "metadata": {
    "collapsed": false
   },
   "outputs": [
    {
     "name": "stdout",
     "output_type": "stream",
     "text": [
      "{\n",
      "  \"record\":{\n",
      "    \"redirectUrl\":\"-\",\n",
      "    \"timestamp\":\"20060504084130\",\n",
      "    \"digest\":\"RKKPOSHBGDXPB4UDZELOU32NBHHZP4UF\",\n",
      "    \"originalUrl\":\"http://www.l3s.de:80/~kohlschuetter/links/\",\n",
      "    \"surtUrl\":\"de,l3s)/~kohlschuetter/links\",\n",
      "    \"mime\":\"text/html\",\n",
      "    \"compressedSize\":1104,\n",
      "    \"meta\":\"-\",\n",
      "    \"status\":200\n",
      "  },\n",
      "  \"payload\":{\n",
      "    \"string\":{\n",
      "      \"html\":{\n",
      "        \"title\":{\n",
      "          \"text\":{\n",
      "            \"_\":\"Christian  Kohlsch�tter -\",\n",
      "            \"entities\":{\n",
      "              \"persons\":[\n",
      "                \"Christian\",\n",
      "                \"Kohlsch\"\n",
      "              ],\n",
      "              \"organizations\":[\n",
      "                \n",
      "              ],\n",
      "              \"locations\":[\n",
      "                \n",
      "              ],\n",
      "              \"dates\":[\n",
      "                \n",
      "              ]\n",
      "            }\n",
      "          }\n",
      "        }\n",
      "      }\n",
      "    }\n",
      "  }\n",
      "}\n",
      "{\n",
      "  \"record\":{\n",
      "    \"redirectUrl\":\"-\",\n",
      "    \"timestamp\":\"20060720192539\",\n",
      "    \"digest\":\"HNGUQOYQWGJ77XAF3HY5KB5TI3G4YSOM\",\n",
      "    \"originalUrl\":\"http://www.l3s.de:80/~olmedilla/policy/policyPapers_abstracts.html\",\n",
      "    \"surtUrl\":\"de,l3s)/~olmedilla/policy/policypapers_abstracts.html\",\n",
      "    \"mime\":\"text/html\",\n",
      "    \"compressedSize\":15064,\n",
      "    \"meta\":\"-\",\n",
      "    \"status\":200\n",
      "  },\n",
      "  \"payload\":{\n",
      "    \"string\":{\n",
      "      \"html\":{\n",
      "        \"title\":{\n",
      "          \"text\":{\n",
      "            \"_\":\"Policy Bibliography\",\n",
      "            \"entities\":{\n",
      "              \"persons\":[\n",
      "                \n",
      "              ],\n",
      "              \"organizations\":[\n",
      "                \n",
      "              ],\n",
      "              \"locations\":[\n",
      "                \n",
      "              ],\n",
      "              \"dates\":[\n",
      "                \n",
      "              ]\n",
      "            }\n",
      "          }\n",
      "        }\n",
      "      }\n",
      "    }\n",
      "  }\n",
      "}\n",
      "{\n",
      "  \"record\":{\n",
      "    \"redirectUrl\":\"-\",\n",
      "    \"timestamp\":\"20070219071152\",\n",
      "    \"digest\":\"PJINB5M4BXPGXYWGVGU3AUCH3ILDZCP5\",\n",
      "    \"originalUrl\":\"http://www.l3s.de:80/elan/kb3/lexikon/design/gsd.jpg\",\n",
      "    \"surtUrl\":\"de,l3s)/elan/kb3/lexikon/design/gsd.jpg\",\n",
      "    \"mime\":\"image/jpeg\",\n",
      "    \"compressedSize\":17895,\n",
      "    \"meta\":\"-\",\n",
      "    \"status\":200\n",
      "  },\n",
      "  \"payload\":{\n",
      "    \"string\":{\n",
      "      \"html\":{\n",
      "        \"title\":{\n",
      "          \"text\":{\n",
      "            \"_\":\"ELAN e.V. | Startseite\",\n",
      "            \"entities\":{\n",
      "              \"persons\":[\n",
      "                \n",
      "              ],\n",
      "              \"organizations\":[\n",
      "                \"ELAN\"\n",
      "              ],\n",
      "              \"locations\":[\n",
      "                \n",
      "              ],\n",
      "              \"dates\":[\n",
      "                \n",
      "              ]\n",
      "            }\n",
      "          }\n",
      "        }\n",
      "      }\n",
      "    }\n",
      "  }\n",
      "}\n",
      "{\n",
      "  \"record\":{\n",
      "    \"redirectUrl\":\"-\",\n",
      "    \"timestamp\":\"20160303183732\",\n",
      "    \"digest\":\"HHPTAJZCK5QV3TLUYWV54CURHRCRU74H\",\n",
      "    \"originalUrl\":\"http://www.l3s.de/~fetahu/\",\n",
      "    \"surtUrl\":\"de,l3s)/~fetahu\",\n",
      "    \"mime\":\"text/html\",\n",
      "    \"compressedSize\":2563,\n",
      "    \"meta\":\"-\",\n",
      "    \"status\":200\n",
      "  },\n",
      "  \"payload\":{\n",
      "    \"string\":{\n",
      "      \"html\":{\n",
      "        \"title\":{\n",
      "          \"text\":{\n",
      "            \"_\":\"Besnik's Home Page\",\n",
      "            \"entities\":{\n",
      "              \"persons\":[\n",
      "                \"Besnik\"\n",
      "              ],\n",
      "              \"organizations\":[\n",
      "                \n",
      "              ],\n",
      "              \"locations\":[\n",
      "                \n",
      "              ],\n",
      "              \"dates\":[\n",
      "                \n",
      "              ]\n",
      "            }\n",
      "          }\n",
      "        }\n",
      "      }\n",
      "    }\n",
      "  }\n",
      "}\n"
     ]
    }
   ],
   "source": [
    "val records = interestingPages.enrich(Entities.of(title)).take(10).toSeq\n",
    "records.distinctValue(title){(a, b) => a}.map(_.toJsonString).foreach(println)"
   ]
  },
  {
   "cell_type": "markdown",
   "metadata": {},
   "source": [
    "## Internet Archive Books Analysis with Local Metadata on HDFS"
   ]
  },
  {
   "cell_type": "code",
   "execution_count": 9,
   "metadata": {
    "collapsed": false
   },
   "outputs": [],
   "source": [
    "val books = ArchiveSpark.load(sc, IATextBooksHdfsSpec(\"booksmeta\"))"
   ]
  },
  {
   "cell_type": "code",
   "execution_count": 10,
   "metadata": {
    "collapsed": false
   },
   "outputs": [
    {
     "data": {
      "text/plain": [
       "{\n",
       "  \"record\":{\n",
       "    \"subjects\":\"adventure, fiction\",\n",
       "    \"collections\":\"opensource\",\n",
       "    \"creator\":\"Original : Defoe, Daniel (1660\\u20131731) ; Translator : Borel, Pétrus (1809-1859)\",\n",
       "    \"language\":\"french\",\n",
       "    \"date\":\"1836\",\n",
       "    \"publisher\":\"Borel et Varenne\",\n",
       "    \"title\":\"Robinson Crusoé, tome 1\",\n",
       "    \"publicdate\":\"2015-12-18 15:07:08\"\n",
       "  }\n",
       "}"
      ]
     },
     "execution_count": 10,
     "metadata": {},
     "output_type": "execute_result"
    }
   ],
   "source": [
    "books.take(1).head.toJsonString"
   ]
  },
  {
   "cell_type": "code",
   "execution_count": 11,
   "metadata": {
    "collapsed": false
   },
   "outputs": [
    {
     "data": {
      "text/plain": [
       "{\n",
       "  \"record\":{\n",
       "    \"subjects\":\"adventure, fiction\",\n",
       "    \"collections\":\"opensource\",\n",
       "    \"creator\":\"Original : Defoe, Daniel (1660\\u20131731) ; Translator : Borel, Pétrus (1809-1859)\",\n",
       "    \"language\":\"french\",\n",
       "    \"date\":\"1836\",\n",
       "    \"publisher\":\"Borel et Varenne\",\n",
       "    \"title\":\"Robinson Crusoé, tome 1\",\n",
       "    \"publicdate\":\"2015-12-18 15:07:08\"\n",
       "  },\n",
       "  \"text\":{\n",
       "    \"first-sentence\":\". Us» \"\n",
       "  }\n",
       "}"
      ]
     },
     "execution_count": 11,
     "metadata": {},
     "output_type": "execute_result"
    }
   ],
   "source": [
    "books.enrich(FirstSentence).take(1).head.toJsonString"
   ]
  },
  {
   "cell_type": "code",
   "execution_count": 12,
   "metadata": {
    "collapsed": false
   },
   "outputs": [
    {
     "data": {
      "text/plain": [
       "{\n",
       "  \"record\":{\n",
       "    \"subjects\":\"adventure, fiction\",\n",
       "    \"collections\":\"opensource\",\n",
       "    \"creator\":\"Original : Defoe, Daniel (1660\\u20131731) ; Translator : Borel, Pétrus (1809-1859)\",\n",
       "    \"language\":\"french\",\n",
       "    \"date\":\"1836\",\n",
       "    \"publisher\":\"Borel et Varenne\",\n",
       "    \"title\":\"Robinson Crusoé, tome 1\",\n",
       "    \"publicdate\":\"2015-12-18 15:07:08\"\n",
       "  },\n",
       "  \"text\":{\n",
       "    \"prefix-1000\":\". Us» \\n\\nADVENTURES \\n\\n\\n\\n\\\\ \\n\\n\\n\\nOP \\n\\n«OBIMSON CRÜ30E, \\n\\nwritÎen BY II im self. \\n\\n\\n\\n\\nDigitized by L.OOQ le \\n\\n\\n\\nIMPRIMERIE DB M.ÀSSÀN 9 RÜB DE Y ADGIBARD 9 H* 1 I . \\n\\u2014 PAK LES SOlKfe DK TIRZUOLO, SON S9CCESSEUK DltSlCK*. \\n\\n\\n\\n\\nDigitized by L.OOQ le \\n\\n\\n\\n\\n\\nDANIEL DE F OË. \\n\\n\\n\\nS \\n\\n\\n\\nDigitized by LooQle \\n\\n\\n\\nROBINSON CRUSOE , \\n\\n* PAR \\n\\nDANIEL DE FOË. \\n\\nT..."
      ]
     },
     "execution_count": 12,
     "metadata": {},
     "output_type": "execute_result"
    }
   ],
   "source": [
    "books.enrich(Prefix(1000)).take(1).head.toJsonString"
   ]
  },
  {
   "cell_type": "code",
   "execution_count": 13,
   "metadata": {
    "collapsed": false
   },
   "outputs": [
    {
     "name": "stdout",
     "output_type": "stream",
     "text": [
      "\r",
      "                                                                                \r",
      "{\n",
      "  \"record\":{\n",
      "    \"subjects\":\"adventure, fiction\",\n",
      "    \"collections\":\"opensource\",\n",
      "    \"creator\":\"Original : Defoe, Daniel (1660\\u20131731) ; Translator : Borel, Pétrus (1809-1859)\",\n",
      "    \"language\":\"french\",\n",
      "    \"date\":\"1836\",\n",
      "    \"publisher\":\"Borel et Varenne\",\n",
      "    \"title\":\"Robinson Crusoé, tome 1\",\n",
      "    \"publicdate\":\"2015-12-18 15:07:08\"\n",
      "  },\n",
      "  \"text\":{\n",
      "    \"prefix-1000\":{\n",
      "      \"entities\":{\n",
      "        \"persons\":[\n",
      "          \"VARENNE\",\n",
      "          \"FERDINAND\",\n",
      "          \"ALEXANDRE\",\n",
      "          \"FRANCISQUE\",\n",
      "          \"LooQle\",\n",
      "          \"CRUSOE\",\n",
      "          \"DENIS\",\n",
      "          \"ROBINSON\",\n",
      "          \"BOREL\"\n",
      "        ],\n",
      "        \"organizations\":[\n",
      "          \"CHASLES\",\n",
      "          \"BU\"\n",
      "        ],\n",
      "        \"locations\":[\n",
      "          \"LA\",\n",
      "          \"BOUDERIE\",\n",
      "          \"PARIS\"\n",
      "        ],\n",
      "        \"dates\":[\n",
      "          \"1836\"\n",
      "        ]\n",
      "      }\n",
      "    }\n",
      "  }\n",
      "}\n",
      "{\n",
      "  \"record\":{\n",
      "    \"subjects\":\"holmes, anp, scarlet, fop, anc, sherlock, hap, pleasep, cols, ouilty\",\n",
      "    \"collections\":\"pulpmagazinearchive, additional_collections\",\n",
      "    \"creator\":\"\",\n",
      "    \"language\":\"eng\",\n",
      "    \"date\":\"\",\n",
      "    \"publisher\":\"\",\n",
      "    \"title\":\"Sherlock Holmes Mysteries v1\",\n",
      "    \"publicdate\":\"2014-03-16 12:46:42\"\n",
      "  },\n",
      "  \"text\":{\n",
      "    \"prefix-1000\":{\n",
      "      \"entities\":{\n",
      "        \"persons\":[\n",
      "          \"MYCROFT\",\n",
      "          \"HOLMES\"\n",
      "        ],\n",
      "        \"organizations\":[\n",
      "          \"SONY\",\n",
      "          \"INFORMA\",\n",
      "          \"AHP\"\n",
      "        ],\n",
      "        \"locations\":[\n",
      "          \n",
      "        ],\n",
      "        \"dates\":[\n",
      "          \"the\",\n",
      "          \"past\"\n",
      "        ]\n",
      "      }\n",
      "    }\n",
      "  }\n",
      "}\n",
      "{\n",
      "  \"record\":{\n",
      "    \"subjects\":\"\",\n",
      "    \"collections\":\"dulci, duke_libraries, americana\",\n",
      "    \"creator\":\"Dickens, Charles, 1812-1870\",\n",
      "    \"language\":\"eng\",\n",
      "    \"date\":\"1863\",\n",
      "    \"publisher\":\"Mobile : S.H. Goetzel\",\n",
      "    \"title\":\"Great expectations\",\n",
      "    \"publicdate\":\"2010-09-22 14:21:22\"\n",
      "  },\n",
      "  \"text\":{\n",
      "    \"prefix-1000\":{\n",
      "      \"entities\":{\n",
      "        \"persons\":[\n",
      "          \"Pirrip\",\n",
      "          \"Philip\",\n",
      "          \"Toe\",\n",
      "          \"Gargery\"\n",
      "        ],\n",
      "        \"organizations\":[\n",
      "          \"DUKE\",\n",
      "          \"DICKER\"\n",
      "        ],\n",
      "        \"locations\":[\n",
      "          \n",
      "        ],\n",
      "        \"dates\":[\n",
      "          \n",
      "        ]\n",
      "      }\n",
      "    }\n",
      "  }\n",
      "}\n"
     ]
    }
   ],
   "source": [
    "books.enrich(Entities.on(Prefix(1000))).map(_.toJsonString).collect.foreach(println)"
   ]
  }
 ],
 "metadata": {
  "kernelspec": {
   "display_name": "ArchiveSpark 2.0 (Toree, Spark 1.6.1)",
   "language": "",
   "name": "archivespark2"
  },
  "language_info": {
   "name": "scala"
  }
 },
 "nbformat": 4,
 "nbformat_minor": 0
}

