{
 "cells": [
  {
   "cell_type": "code",
   "execution_count": 1,
   "metadata": {
    "collapsed": false
   },
   "outputs": [],
   "source": [
    "import de.l3s.archivespark.ArchiveSpark\n",
    "import de.l3s.archivespark.enrich.functions._\n",
    "import de.l3s.archivespark.implicits._"
   ]
  },
  {
   "cell_type": "code",
   "execution_count": 2,
   "metadata": {
    "collapsed": true
   },
   "outputs": [],
   "source": [
    "implicit val sparkContext = sc"
   ]
  },
  {
   "cell_type": "code",
   "execution_count": 3,
   "metadata": {
    "collapsed": true
   },
   "outputs": [],
   "source": [
    "val warcPath = \"/data/archiveit/2950_occupy_movement\"\n",
    "val cdxPath = s\"${warcPath}_cdx\""
   ]
  },
  {
   "cell_type": "code",
   "execution_count": 4,
   "metadata": {
    "collapsed": false
   },
   "outputs": [],
   "source": [
    "val rdd = ArchiveSpark.hdfs(s\"${cdxPath}/*.cdx\", warcPath)\n",
    "val filtered = rdd.filter(r => r.mime == \"text/html\" && r.surtUrl.startsWith(\"net,15october\"))\n",
    "val sample = sc.parallelize(filtered.take(1))"
   ]
  },
  {
   "cell_type": "code",
   "execution_count": 7,
   "metadata": {
    "collapsed": false
   },
   "outputs": [
    {
     "name": "stdout",
     "output_type": "stream",
     "text": [
      "{\n",
      "  \"record\":{\n",
      "    \"redirectUrl\":\"-\",\n",
      "    \"timestamp\":\"2012-07-10T05:30:53.000+02:00\",\n",
      "    \"digest\":\"RJLS2XJXHD5F3ONFXUKN46UYIDZYFC7X\",\n",
      "    \"originalUrl\":\"http://map.15october.net/reports/view/590/\",\n",
      "    \"surtUrl\":\"net,15october,map)/reports/view/590\",\n",
      "    \"mime\":\"text/html\",\n",
      "    \"meta\":\"-\",\n",
      "    \"status\":200\n",
      "  },\n",
      "  \"payload\":{\n",
      "    \"string\":{\n",
      "      \"length\":28855\n",
      "    }\n",
      "  }\n",
      "}\n"
     ]
    }
   ],
   "source": [
    "val contentLength = sample.mapEnrich[String, Int](StringContent, \"length\") { content => content.length }\n",
    "println(contentLength.take(1).head.toJsonString)"
   ]
  }
 ],
 "metadata": {
  "kernelspec": {
   "display_name": "ArchiveSpark 1.5.2 (Scala 2.10.4)",
   "language": "",
   "name": "archivespark"
  },
  "language_info": {
   "name": "scala"
  }
 },
 "nbformat": 4,
 "nbformat_minor": 0
}
